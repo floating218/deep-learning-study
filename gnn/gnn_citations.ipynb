{
 "cells": [
  {
   "cell_type": "markdown",
   "metadata": {
    "colab_type": "text"
   },
   "source": [
    "# Node Classification with Graph Neural Networks\n",
    "\n",
    "**Author:** [Khalid Salama](https://www.linkedin.com/in/khalid-salama-24403144/)<br>\n",
    "**Date created:** 2021/05/30<br>\n",
    "**Last modified:** 2021/05/30<br>\n",
    "**Description:** Implementing a graph neural network model for predicting the topic of a paper given its citations."
   ]
  },
  {
   "cell_type": "markdown",
   "metadata": {
    "colab_type": "text"
   },
   "source": [
    "## Introduction\n",
    "\n",
    "Many datasets in various machine learning (ML) applications have structural relationships\n",
    "between their entities, which can be represented as graphs. Such application includes\n",
    "social and communication networks analysis, traffic prediction, and fraud detection.\n",
    "[Graph representation Learning](https://www.cs.mcgill.ca/~wlh/grl_book/)\n",
    "aims to build and train models for graph datasets to be used for a variety of ML tasks.\n",
    "\n",
    "This example demonstrate a simple implementation of a [Graph Neural Network](https://arxiv.org/pdf/1901.00596.pdf)\n",
    "(GNN) model. The model is used for a node prediction task on the [Cora dataset](https://relational.fit.cvut.cz/dataset/CORA)\n",
    "to predict the subject of a paper given its words and citations network.\n",
    "\n",
    "Note that, **we implement a Graph Convolution Layer from scratch** to provide better\n",
    "understanding of how they work. However, there is a number of specialized TensorFlow-based\n",
    "libraries that provide rich GNN APIs, such as [Spectral](https://graphneural.network/),\n",
    "[StellarGraph](https://stellargraph.readthedocs.io/en/stable/README.html), and\n",
    "[GraphNets](https://github.com/deepmind/graph_nets)."
   ]
  },
  {
   "cell_type": "markdown",
   "metadata": {
    "colab_type": "text"
   },
   "source": [
    "## Setup"
   ]
  },
  {
   "cell_type": "code",
   "execution_count": 2,
   "metadata": {
    "colab_type": "code"
   },
   "outputs": [],
   "source": [
    "import os\n",
    "import pandas as pd\n",
    "import numpy as np\n",
    "import networkx as nx\n",
    "import matplotlib.pyplot as plt\n",
    "import tensorflow as tf\n",
    "from tensorflow import keras\n",
    "from tensorflow.keras import layers"
   ]
  },
  {
   "cell_type": "markdown",
   "metadata": {
    "colab_type": "text"
   },
   "source": [
    "## Prepare the Dataset\n",
    "\n",
    "The Cora dataset consists of 2,708 scientific papers classified into one of seven classes.\n",
    "The citation network consists of 5,429 links. Each paper has a binary word vector of size\n",
    "1,433, indicating the presence of a corresponding word.\n",
    "\n",
    "### Download the dataset\n",
    "\n",
    "The dataset has two tap-separated files: `cora.cites` and `cora.content`.\n",
    "\n",
    "1. The `cora.cites` includes the citation records with two columns:\n",
    "`cited_paper_id` (target) and `citing_paper_id` (source).\n",
    "2. The `cora.content` includes the paper content records with 1,435 columns:\n",
    "`paper_id`, `subject`, and 1,433 binary features.\n",
    "\n",
    "Let's download the dataset."
   ]
  },
  {
   "cell_type": "code",
   "execution_count": 3,
   "metadata": {
    "colab_type": "code"
   },
   "outputs": [
    {
     "name": "stdout",
     "output_type": "stream",
     "text": [
      "Downloading data from https://linqs-data.soe.ucsc.edu/public/lbc/cora.tgz\n",
      "172032/168052 [==============================] - 0s 2us/step\n",
      "180224/168052 [================================] - 0s 2us/step\n"
     ]
    }
   ],
   "source": [
    "zip_file = keras.utils.get_file(\n",
    "    fname=\"cora.tgz\",\n",
    "    origin=\"https://linqs-data.soe.ucsc.edu/public/lbc/cora.tgz\",\n",
    "    extract=True,\n",
    ")\n",
    "data_dir = os.path.join(os.path.dirname(zip_file), \"cora\")"
   ]
  },
  {
   "cell_type": "markdown",
   "metadata": {
    "colab_type": "text"
   },
   "source": [
    "### Process and visualize the dataset\n",
    "\n",
    "Then we load the citations data into a Pandas DataFrame."
   ]
  },
  {
   "cell_type": "code",
   "execution_count": 4,
   "metadata": {
    "colab_type": "code"
   },
   "outputs": [
    {
     "name": "stdout",
     "output_type": "stream",
     "text": [
      "Citations shape: (5429, 2)\n"
     ]
    }
   ],
   "source": [
    "citations = pd.read_csv(\n",
    "    os.path.join(data_dir, \"cora.cites\"),\n",
    "    sep=\"\\t\",\n",
    "    header=None,\n",
    "    names=[\"target\", \"source\"],\n",
    ")\n",
    "print(\"Citations shape:\", citations.shape)"
   ]
  },
  {
   "cell_type": "markdown",
   "metadata": {
    "colab_type": "text"
   },
   "source": [
    "Now we display a sample of the `citations` DataFrame.\n",
    "The `target` column includes the paper ids cited by the paper ids in the `source` column."
   ]
  },
  {
   "cell_type": "code",
   "execution_count": 5,
   "metadata": {
    "colab_type": "code"
   },
   "outputs": [
    {
     "data": {
      "text/html": [
       "<div>\n",
       "<style scoped>\n",
       "    .dataframe tbody tr th:only-of-type {\n",
       "        vertical-align: middle;\n",
       "    }\n",
       "\n",
       "    .dataframe tbody tr th {\n",
       "        vertical-align: top;\n",
       "    }\n",
       "\n",
       "    .dataframe thead th {\n",
       "        text-align: right;\n",
       "    }\n",
       "</style>\n",
       "<table border=\"1\" class=\"dataframe\">\n",
       "  <thead>\n",
       "    <tr style=\"text-align: right;\">\n",
       "      <th></th>\n",
       "      <th>target</th>\n",
       "      <th>source</th>\n",
       "    </tr>\n",
       "  </thead>\n",
       "  <tbody>\n",
       "    <tr>\n",
       "      <th>3384</th>\n",
       "      <td>58454</td>\n",
       "      <td>87417</td>\n",
       "    </tr>\n",
       "    <tr>\n",
       "      <th>4074</th>\n",
       "      <td>119761</td>\n",
       "      <td>284025</td>\n",
       "    </tr>\n",
       "    <tr>\n",
       "      <th>5373</th>\n",
       "      <td>739280</td>\n",
       "      <td>367312</td>\n",
       "    </tr>\n",
       "    <tr>\n",
       "      <th>3787</th>\n",
       "      <td>85352</td>\n",
       "      <td>1153280</td>\n",
       "    </tr>\n",
       "    <tr>\n",
       "      <th>3261</th>\n",
       "      <td>51879</td>\n",
       "      <td>51866</td>\n",
       "    </tr>\n",
       "  </tbody>\n",
       "</table>\n",
       "</div>"
      ],
      "text/plain": [
       "      target   source\n",
       "3384   58454    87417\n",
       "4074  119761   284025\n",
       "5373  739280   367312\n",
       "3787   85352  1153280\n",
       "3261   51879    51866"
      ]
     },
     "execution_count": 5,
     "metadata": {},
     "output_type": "execute_result"
    }
   ],
   "source": [
    "citations.sample(frac=1).head()"
   ]
  },
  {
   "cell_type": "markdown",
   "metadata": {
    "colab_type": "text"
   },
   "source": [
    "Now let's load the papers data into a Pandas DataFrame."
   ]
  },
  {
   "cell_type": "code",
   "execution_count": 6,
   "metadata": {
    "colab_type": "code"
   },
   "outputs": [
    {
     "name": "stdout",
     "output_type": "stream",
     "text": [
      "Papers shape: (2708, 1435)\n"
     ]
    }
   ],
   "source": [
    "column_names = [\"paper_id\"] + [f\"term_{idx}\" for idx in range(1433)] + [\"subject\"]\n",
    "papers = pd.read_csv(\n",
    "    os.path.join(data_dir, \"cora.content\"), sep=\"\\t\", header=None, names=column_names,\n",
    ")\n",
    "print(\"Papers shape:\", papers.shape)"
   ]
  },
  {
   "cell_type": "markdown",
   "metadata": {
    "colab_type": "text"
   },
   "source": [
    "Now we display a sample of the `papers` DataFrame. The DataFrame includes the `paper_id`\n",
    "and the `subject` columns, as well as 1,433 binary column representing whether a term exists\n",
    "in the paper or not."
   ]
  },
  {
   "cell_type": "code",
   "execution_count": 8,
   "metadata": {
    "colab_type": "code"
   },
   "outputs": [
    {
     "data": {
      "text/html": [
       "<div>\n",
       "<style scoped>\n",
       "    .dataframe tbody tr th:only-of-type {\n",
       "        vertical-align: middle;\n",
       "    }\n",
       "\n",
       "    .dataframe tbody tr th {\n",
       "        vertical-align: top;\n",
       "    }\n",
       "\n",
       "    .dataframe thead th {\n",
       "        text-align: right;\n",
       "    }\n",
       "</style>\n",
       "<table border=\"1\" class=\"dataframe\">\n",
       "  <thead>\n",
       "    <tr style=\"text-align: right;\">\n",
       "      <th></th>\n",
       "      <th>1310</th>\n",
       "      <th>1070</th>\n",
       "      <th>512</th>\n",
       "      <th>2495</th>\n",
       "      <th>1426</th>\n",
       "    </tr>\n",
       "  </thead>\n",
       "  <tbody>\n",
       "    <tr>\n",
       "      <th>paper_id</th>\n",
       "      <td>174425</td>\n",
       "      <td>1152421</td>\n",
       "      <td>1104787</td>\n",
       "      <td>753070</td>\n",
       "      <td>566488</td>\n",
       "    </tr>\n",
       "    <tr>\n",
       "      <th>term_0</th>\n",
       "      <td>0</td>\n",
       "      <td>0</td>\n",
       "      <td>0</td>\n",
       "      <td>0</td>\n",
       "      <td>0</td>\n",
       "    </tr>\n",
       "    <tr>\n",
       "      <th>term_1</th>\n",
       "      <td>0</td>\n",
       "      <td>0</td>\n",
       "      <td>0</td>\n",
       "      <td>0</td>\n",
       "      <td>0</td>\n",
       "    </tr>\n",
       "    <tr>\n",
       "      <th>term_2</th>\n",
       "      <td>0</td>\n",
       "      <td>0</td>\n",
       "      <td>0</td>\n",
       "      <td>0</td>\n",
       "      <td>0</td>\n",
       "    </tr>\n",
       "    <tr>\n",
       "      <th>term_3</th>\n",
       "      <td>0</td>\n",
       "      <td>0</td>\n",
       "      <td>0</td>\n",
       "      <td>0</td>\n",
       "      <td>0</td>\n",
       "    </tr>\n",
       "    <tr>\n",
       "      <th>...</th>\n",
       "      <td>...</td>\n",
       "      <td>...</td>\n",
       "      <td>...</td>\n",
       "      <td>...</td>\n",
       "      <td>...</td>\n",
       "    </tr>\n",
       "    <tr>\n",
       "      <th>term_1429</th>\n",
       "      <td>0</td>\n",
       "      <td>0</td>\n",
       "      <td>0</td>\n",
       "      <td>0</td>\n",
       "      <td>0</td>\n",
       "    </tr>\n",
       "    <tr>\n",
       "      <th>term_1430</th>\n",
       "      <td>0</td>\n",
       "      <td>0</td>\n",
       "      <td>0</td>\n",
       "      <td>0</td>\n",
       "      <td>0</td>\n",
       "    </tr>\n",
       "    <tr>\n",
       "      <th>term_1431</th>\n",
       "      <td>0</td>\n",
       "      <td>0</td>\n",
       "      <td>0</td>\n",
       "      <td>0</td>\n",
       "      <td>0</td>\n",
       "    </tr>\n",
       "    <tr>\n",
       "      <th>term_1432</th>\n",
       "      <td>0</td>\n",
       "      <td>0</td>\n",
       "      <td>0</td>\n",
       "      <td>0</td>\n",
       "      <td>0</td>\n",
       "    </tr>\n",
       "    <tr>\n",
       "      <th>subject</th>\n",
       "      <td>Theory</td>\n",
       "      <td>Genetic_Algorithms</td>\n",
       "      <td>Neural_Networks</td>\n",
       "      <td>Theory</td>\n",
       "      <td>Case_Based</td>\n",
       "    </tr>\n",
       "  </tbody>\n",
       "</table>\n",
       "<p>1435 rows × 5 columns</p>\n",
       "</div>"
      ],
      "text/plain": [
       "             1310                1070             512     2495        1426\n",
       "paper_id   174425             1152421          1104787  753070      566488\n",
       "term_0          0                   0                0       0           0\n",
       "term_1          0                   0                0       0           0\n",
       "term_2          0                   0                0       0           0\n",
       "term_3          0                   0                0       0           0\n",
       "...           ...                 ...              ...     ...         ...\n",
       "term_1429       0                   0                0       0           0\n",
       "term_1430       0                   0                0       0           0\n",
       "term_1431       0                   0                0       0           0\n",
       "term_1432       0                   0                0       0           0\n",
       "subject    Theory  Genetic_Algorithms  Neural_Networks  Theory  Case_Based\n",
       "\n",
       "[1435 rows x 5 columns]"
      ]
     },
     "execution_count": 8,
     "metadata": {},
     "output_type": "execute_result"
    }
   ],
   "source": [
    "papers.sample(5).T"
   ]
  },
  {
   "cell_type": "markdown",
   "metadata": {
    "colab_type": "text"
   },
   "source": [
    "Let's display the count of the papers in each subject."
   ]
  },
  {
   "cell_type": "code",
   "execution_count": 10,
   "metadata": {
    "colab_type": "code"
   },
   "outputs": [
    {
     "data": {
      "text/plain": [
       "Neural_Networks           818\n",
       "Probabilistic_Methods     426\n",
       "Genetic_Algorithms        418\n",
       "Theory                    351\n",
       "Case_Based                298\n",
       "Reinforcement_Learning    217\n",
       "Rule_Learning             180\n",
       "Name: subject, dtype: int64"
      ]
     },
     "execution_count": 10,
     "metadata": {},
     "output_type": "execute_result"
    }
   ],
   "source": [
    "papers.subject.value_counts()"
   ]
  },
  {
   "cell_type": "markdown",
   "metadata": {
    "colab_type": "text"
   },
   "source": [
    "We convert the paper ids and the subjects into zero-based indices."
   ]
  },
  {
   "cell_type": "code",
   "execution_count": 11,
   "metadata": {
    "colab_type": "code"
   },
   "outputs": [],
   "source": [
    "class_values = sorted(papers[\"subject\"].unique())\n",
    "class_idx = {name: id for id, name in enumerate(class_values)}\n",
    "paper_idx = {name: idx for idx, name in enumerate(sorted(papers[\"paper_id\"].unique()))}\n",
    "\n",
    "papers[\"paper_id\"] = papers[\"paper_id\"].apply(lambda name: paper_idx[name])\n",
    "citations[\"source\"] = citations[\"source\"].apply(lambda name: paper_idx[name])\n",
    "citations[\"target\"] = citations[\"target\"].apply(lambda name: paper_idx[name])\n",
    "papers[\"subject\"] = papers[\"subject\"].apply(lambda value: class_idx[value])"
   ]
  },
  {
   "cell_type": "code",
   "execution_count": 13,
   "metadata": {},
   "outputs": [
    {
     "data": {
      "text/html": [
       "<div>\n",
       "<style scoped>\n",
       "    .dataframe tbody tr th:only-of-type {\n",
       "        vertical-align: middle;\n",
       "    }\n",
       "\n",
       "    .dataframe tbody tr th {\n",
       "        vertical-align: top;\n",
       "    }\n",
       "\n",
       "    .dataframe thead th {\n",
       "        text-align: right;\n",
       "    }\n",
       "</style>\n",
       "<table border=\"1\" class=\"dataframe\">\n",
       "  <thead>\n",
       "    <tr style=\"text-align: right;\">\n",
       "      <th></th>\n",
       "      <th>paper_id</th>\n",
       "      <th>term_0</th>\n",
       "      <th>term_1</th>\n",
       "      <th>term_2</th>\n",
       "      <th>term_3</th>\n",
       "      <th>term_4</th>\n",
       "      <th>term_5</th>\n",
       "      <th>term_6</th>\n",
       "      <th>term_7</th>\n",
       "      <th>term_8</th>\n",
       "      <th>...</th>\n",
       "      <th>term_1424</th>\n",
       "      <th>term_1425</th>\n",
       "      <th>term_1426</th>\n",
       "      <th>term_1427</th>\n",
       "      <th>term_1428</th>\n",
       "      <th>term_1429</th>\n",
       "      <th>term_1430</th>\n",
       "      <th>term_1431</th>\n",
       "      <th>term_1432</th>\n",
       "      <th>subject</th>\n",
       "    </tr>\n",
       "  </thead>\n",
       "  <tbody>\n",
       "    <tr>\n",
       "      <th>0</th>\n",
       "      <td>462</td>\n",
       "      <td>0</td>\n",
       "      <td>0</td>\n",
       "      <td>0</td>\n",
       "      <td>0</td>\n",
       "      <td>0</td>\n",
       "      <td>0</td>\n",
       "      <td>0</td>\n",
       "      <td>0</td>\n",
       "      <td>0</td>\n",
       "      <td>...</td>\n",
       "      <td>0</td>\n",
       "      <td>0</td>\n",
       "      <td>1</td>\n",
       "      <td>0</td>\n",
       "      <td>0</td>\n",
       "      <td>0</td>\n",
       "      <td>0</td>\n",
       "      <td>0</td>\n",
       "      <td>0</td>\n",
       "      <td>2</td>\n",
       "    </tr>\n",
       "    <tr>\n",
       "      <th>1</th>\n",
       "      <td>1911</td>\n",
       "      <td>0</td>\n",
       "      <td>0</td>\n",
       "      <td>0</td>\n",
       "      <td>0</td>\n",
       "      <td>0</td>\n",
       "      <td>0</td>\n",
       "      <td>0</td>\n",
       "      <td>0</td>\n",
       "      <td>0</td>\n",
       "      <td>...</td>\n",
       "      <td>0</td>\n",
       "      <td>1</td>\n",
       "      <td>0</td>\n",
       "      <td>0</td>\n",
       "      <td>0</td>\n",
       "      <td>0</td>\n",
       "      <td>0</td>\n",
       "      <td>0</td>\n",
       "      <td>0</td>\n",
       "      <td>5</td>\n",
       "    </tr>\n",
       "    <tr>\n",
       "      <th>2</th>\n",
       "      <td>2002</td>\n",
       "      <td>0</td>\n",
       "      <td>0</td>\n",
       "      <td>0</td>\n",
       "      <td>0</td>\n",
       "      <td>0</td>\n",
       "      <td>0</td>\n",
       "      <td>0</td>\n",
       "      <td>0</td>\n",
       "      <td>0</td>\n",
       "      <td>...</td>\n",
       "      <td>0</td>\n",
       "      <td>0</td>\n",
       "      <td>0</td>\n",
       "      <td>0</td>\n",
       "      <td>0</td>\n",
       "      <td>0</td>\n",
       "      <td>0</td>\n",
       "      <td>0</td>\n",
       "      <td>0</td>\n",
       "      <td>4</td>\n",
       "    </tr>\n",
       "    <tr>\n",
       "      <th>3</th>\n",
       "      <td>248</td>\n",
       "      <td>0</td>\n",
       "      <td>0</td>\n",
       "      <td>0</td>\n",
       "      <td>0</td>\n",
       "      <td>0</td>\n",
       "      <td>0</td>\n",
       "      <td>0</td>\n",
       "      <td>0</td>\n",
       "      <td>0</td>\n",
       "      <td>...</td>\n",
       "      <td>0</td>\n",
       "      <td>0</td>\n",
       "      <td>0</td>\n",
       "      <td>0</td>\n",
       "      <td>0</td>\n",
       "      <td>0</td>\n",
       "      <td>0</td>\n",
       "      <td>0</td>\n",
       "      <td>0</td>\n",
       "      <td>4</td>\n",
       "    </tr>\n",
       "    <tr>\n",
       "      <th>4</th>\n",
       "      <td>519</td>\n",
       "      <td>0</td>\n",
       "      <td>0</td>\n",
       "      <td>0</td>\n",
       "      <td>0</td>\n",
       "      <td>0</td>\n",
       "      <td>0</td>\n",
       "      <td>0</td>\n",
       "      <td>0</td>\n",
       "      <td>0</td>\n",
       "      <td>...</td>\n",
       "      <td>0</td>\n",
       "      <td>0</td>\n",
       "      <td>0</td>\n",
       "      <td>0</td>\n",
       "      <td>0</td>\n",
       "      <td>0</td>\n",
       "      <td>0</td>\n",
       "      <td>0</td>\n",
       "      <td>0</td>\n",
       "      <td>3</td>\n",
       "    </tr>\n",
       "  </tbody>\n",
       "</table>\n",
       "<p>5 rows × 1435 columns</p>\n",
       "</div>"
      ],
      "text/plain": [
       "   paper_id  term_0  term_1  term_2  term_3  term_4  term_5  term_6  term_7  \\\n",
       "0       462       0       0       0       0       0       0       0       0   \n",
       "1      1911       0       0       0       0       0       0       0       0   \n",
       "2      2002       0       0       0       0       0       0       0       0   \n",
       "3       248       0       0       0       0       0       0       0       0   \n",
       "4       519       0       0       0       0       0       0       0       0   \n",
       "\n",
       "   term_8  ...  term_1424  term_1425  term_1426  term_1427  term_1428  \\\n",
       "0       0  ...          0          0          1          0          0   \n",
       "1       0  ...          0          1          0          0          0   \n",
       "2       0  ...          0          0          0          0          0   \n",
       "3       0  ...          0          0          0          0          0   \n",
       "4       0  ...          0          0          0          0          0   \n",
       "\n",
       "   term_1429  term_1430  term_1431  term_1432  subject  \n",
       "0          0          0          0          0        2  \n",
       "1          0          0          0          0        5  \n",
       "2          0          0          0          0        4  \n",
       "3          0          0          0          0        4  \n",
       "4          0          0          0          0        3  \n",
       "\n",
       "[5 rows x 1435 columns]"
      ]
     },
     "execution_count": 13,
     "metadata": {},
     "output_type": "execute_result"
    }
   ],
   "source": [
    "papers.head()"
   ]
  },
  {
   "cell_type": "code",
   "execution_count": 14,
   "metadata": {},
   "outputs": [
    {
     "data": {
      "text/html": [
       "<div>\n",
       "<style scoped>\n",
       "    .dataframe tbody tr th:only-of-type {\n",
       "        vertical-align: middle;\n",
       "    }\n",
       "\n",
       "    .dataframe tbody tr th {\n",
       "        vertical-align: top;\n",
       "    }\n",
       "\n",
       "    .dataframe thead th {\n",
       "        text-align: right;\n",
       "    }\n",
       "</style>\n",
       "<table border=\"1\" class=\"dataframe\">\n",
       "  <thead>\n",
       "    <tr style=\"text-align: right;\">\n",
       "      <th></th>\n",
       "      <th>target</th>\n",
       "      <th>source</th>\n",
       "    </tr>\n",
       "  </thead>\n",
       "  <tbody>\n",
       "    <tr>\n",
       "      <th>0</th>\n",
       "      <td>0</td>\n",
       "      <td>21</td>\n",
       "    </tr>\n",
       "    <tr>\n",
       "      <th>1</th>\n",
       "      <td>0</td>\n",
       "      <td>905</td>\n",
       "    </tr>\n",
       "    <tr>\n",
       "      <th>2</th>\n",
       "      <td>0</td>\n",
       "      <td>906</td>\n",
       "    </tr>\n",
       "    <tr>\n",
       "      <th>3</th>\n",
       "      <td>0</td>\n",
       "      <td>1909</td>\n",
       "    </tr>\n",
       "    <tr>\n",
       "      <th>4</th>\n",
       "      <td>0</td>\n",
       "      <td>1940</td>\n",
       "    </tr>\n",
       "  </tbody>\n",
       "</table>\n",
       "</div>"
      ],
      "text/plain": [
       "   target  source\n",
       "0       0      21\n",
       "1       0     905\n",
       "2       0     906\n",
       "3       0    1909\n",
       "4       0    1940"
      ]
     },
     "execution_count": 14,
     "metadata": {},
     "output_type": "execute_result"
    }
   ],
   "source": [
    "citations.head()"
   ]
  },
  {
   "cell_type": "markdown",
   "metadata": {
    "colab_type": "text"
   },
   "source": [
    "Now let's visualize the citation graph. Each node in the graph represents a paper,\n",
    "and the color of the node corresponds to its subject. Note that we only show a sample of\n",
    "the papers in the dataset."
   ]
  },
  {
   "cell_type": "code",
   "execution_count": 12,
   "metadata": {
    "colab_type": "code"
   },
   "outputs": [
    {
     "data": {
      "image/png": "[encoded data removed]",
      "text/plain": [
       "<Figure size 720x720 with 1 Axes>"
      ]
     },
     "metadata": {},
     "output_type": "display_data"
    }
   ],
   "source": [
    "plt.figure(figsize=(10, 10))\n",
    "colors = papers[\"subject\"].tolist()\n",
    "cora_graph = nx.from_pandas_edgelist(citations.sample(n=1500))\n",
    "subjects = list(papers[papers[\"paper_id\"].isin(list(cora_graph.nodes))][\"subject\"])\n",
    "nx.draw_spring(cora_graph, node_size=15, node_color=subjects)\n"
   ]
  },
  {
   "cell_type": "markdown",
   "metadata": {
    "colab_type": "text"
   },
   "source": [
    "### Split the dataset into stratified train and test sets"
   ]
  },
  {
   "cell_type": "code",
   "execution_count": 15,
   "metadata": {
    "colab_type": "code"
   },
   "outputs": [
    {
     "name": "stdout",
     "output_type": "stream",
     "text": [
      "Train data shape: (1322, 1435)\n",
      "Test data shape: (1386, 1435)\n"
     ]
    }
   ],
   "source": [
    "train_data, test_data = [], []\n",
    "\n",
    "for _, group_data in papers.groupby(\"subject\"):\n",
    "    # Select around 50% of the dataset for training.\n",
    "    random_selection = np.random.rand(len(group_data.index)) <= 0.5\n",
    "    train_data.append(group_data[random_selection])\n",
    "    test_data.append(group_data[~random_selection])\n",
    "\n",
    "train_data = pd.concat(train_data).sample(frac=1)\n",
    "test_data = pd.concat(test_data).sample(frac=1)\n",
    "\n",
    "print(\"Train data shape:\", train_data.shape)\n",
    "print(\"Test data shape:\", test_data.shape)"
   ]
  },
  {
   "cell_type": "markdown",
   "metadata": {
    "colab_type": "text"
   },
   "source": [
    "## Implement Train and Evaluate Experiment"
   ]
  },
  {
   "cell_type": "code",
   "execution_count": 16,
   "metadata": {
    "colab_type": "code"
   },
   "outputs": [],
   "source": [
    "hidden_units = [32, 32]\n",
    "learning_rate = 0.01\n",
    "dropout_rate = 0.5\n",
    "num_epochs = 300\n",
    "batch_size = 256"
   ]
  },
  {
   "cell_type": "markdown",
   "metadata": {
    "colab_type": "text"
   },
   "source": [
    "This function compiles and trains an input model using the given training data."
   ]
  },
  {
   "cell_type": "code",
   "execution_count": 17,
   "metadata": {
    "colab_type": "code"
   },
   "outputs": [],
   "source": [
    "\n",
    "def run_experiment(model, x_train, y_train):\n",
    "    # Compile the model.\n",
    "    model.compile(\n",
    "        optimizer=keras.optimizers.Adam(learning_rate),\n",
    "        loss=keras.losses.SparseCategoricalCrossentropy(from_logits=True),\n",
    "        metrics=[keras.metrics.SparseCategoricalAccuracy(name=\"acc\")],\n",
    "    )\n",
    "    # Create an early stopping callback.\n",
    "    early_stopping = keras.callbacks.EarlyStopping(\n",
    "        monitor=\"val_acc\", patience=50, restore_best_weights=True\n",
    "    )\n",
    "    # Fit the model.\n",
    "    history = model.fit(\n",
    "        x=x_train,\n",
    "        y=y_train,\n",
    "        epochs=num_epochs,\n",
    "        batch_size=batch_size,\n",
    "        validation_split=0.15,\n",
    "        callbacks=[early_stopping],\n",
    "    )\n",
    "\n",
    "    return history\n"
   ]
  },
  {
   "cell_type": "markdown",
   "metadata": {
    "colab_type": "text"
   },
   "source": [
    "This function displays the loss and accuracy curves of the model during training."
   ]
  },
  {
   "cell_type": "code",
   "execution_count": 18,
   "metadata": {
    "colab_type": "code"
   },
   "outputs": [],
   "source": [
    "\n",
    "def display_learning_curves(history):\n",
    "    fig, (ax1, ax2) = plt.subplots(1, 2, figsize=(15, 5))\n",
    "\n",
    "    ax1.plot(history.history[\"loss\"])\n",
    "    ax1.plot(history.history[\"val_loss\"])\n",
    "    ax1.legend([\"train\", \"test\"], loc=\"upper right\")\n",
    "    ax1.set_xlabel(\"Epochs\")\n",
    "    ax1.set_ylabel(\"Loss\")\n",
    "\n",
    "    ax2.plot(history.history[\"acc\"])\n",
    "    ax2.plot(history.history[\"val_acc\"])\n",
    "    ax2.legend([\"train\", \"test\"], loc=\"upper right\")\n",
    "    ax2.set_xlabel(\"Epochs\")\n",
    "    ax2.set_ylabel(\"Accuracy\")\n",
    "    plt.show()\n"
   ]
  },
  {
   "cell_type": "markdown",
   "metadata": {
    "colab_type": "text"
   },
   "source": [
    "## Implement Feedforward Network (FFN) Module\n",
    "\n",
    "We will use this module in the baseline and the GNN models."
   ]
  },
  {
   "cell_type": "code",
   "execution_count": 19,
   "metadata": {
    "colab_type": "code"
   },
   "outputs": [],
   "source": [
    "\n",
    "def create_ffn(hidden_units, dropout_rate, name=None):\n",
    "    fnn_layers = []\n",
    "\n",
    "    for units in hidden_units:\n",
    "        fnn_layers.append(layers.BatchNormalization())\n",
    "        fnn_layers.append(layers.Dropout(dropout_rate))\n",
    "        fnn_layers.append(layers.Dense(units, activation=tf.nn.gelu))\n",
    "\n",
    "    return keras.Sequential(fnn_layers, name=name)\n"
   ]
  },
  {
   "cell_type": "markdown",
   "metadata": {
    "colab_type": "text"
   },
   "source": [
    "## Build a Baseline Neural Network Model\n",
    "\n",
    "### Prepare the data for the baseline model"
   ]
  },
  {
   "cell_type": "code",
   "execution_count": 26,
   "metadata": {
    "colab_type": "code"
   },
   "outputs": [
    {
     "name": "stdout",
     "output_type": "stream",
     "text": [
      "1433\n"
     ]
    }
   ],
   "source": [
    "feature_names = set(papers.columns) - {\"paper_id\", \"subject\"}\n",
    "num_features = len(feature_names)\n",
    "num_classes = len(class_idx)\n",
    "print(num_features)\n",
    "\n",
    "# Create train and test features as a numpy array.\n",
    "x_train = train_data[feature_names].to_numpy()\n",
    "x_test = test_data[feature_names].to_numpy()\n",
    "\n",
    "# Create train and test targets as a numpy array.\n",
    "y_train = train_data[\"subject\"]\n",
    "y_test = test_data[\"subject\"]"
   ]
  },
  {
   "cell_type": "markdown",
   "metadata": {
    "colab_type": "text"
   },
   "source": [
    "### Implement a baseline classifier\n",
    "\n",
    "We add five FFN blocks with skip connections, so that we generate a baseline model with\n",
    "roughly the same number of parameters as the GNN models to be built later."
   ]
  },
  {
   "cell_type": "code",
   "execution_count": 91,
   "metadata": {},
   "outputs": [
    {
     "data": {
      "image/png": "[encoded data removed]",
      "text/plain": [
       "<IPython.core.display.Image object>"
      ]
     },
     "execution_count": 91,
     "metadata": {},
     "output_type": "execute_result"
    }
   ],
   "source": [
    "def create_ffn_model(hidden_units, num_classes, dropout_rate=0.2):\n",
    "    inputs = layers.Input(shape=(num_features,), name=\"input_features\")\n",
    "    x = create_ffn(hidden_units, dropout_rate, name=f\"ffn_block1\")(inputs)\n",
    "    return keras.Model(inputs=inputs, outputs=x)\n",
    "mod=create_ffn_model([32],7)\n",
    "keras.utils.plot_model(mod, show_shapes=True)"
   ]
  },
  {
   "cell_type": "code",
   "execution_count": 23,
   "metadata": {
    "colab_type": "code"
   },
   "outputs": [
    {
     "name": "stdout",
     "output_type": "stream",
     "text": [
      "Model: \"baseline\"\n",
      "__________________________________________________________________________________________________\n",
      " Layer (type)                   Output Shape         Param #     Connected to                     \n",
      "==================================================================================================\n",
      " input_features (InputLayer)    [(None, 1433)]       0           []                               \n",
      "                                                                                                  \n",
      " ffn_block1 (Sequential)        (None, 32)           52804       ['input_features[0][0]']         \n",
      "                                                                                                  \n",
      " ffn_block2 (Sequential)        (None, 32)           2368        ['ffn_block1[0][0]']             \n",
      "                                                                                                  \n",
      " skip_connection2 (Add)         (None, 32)           0           ['ffn_block1[0][0]',             \n",
      "                                                                  'ffn_block2[0][0]']             \n",
      "                                                                                                  \n",
      " ffn_block3 (Sequential)        (None, 32)           2368        ['skip_connection2[0][0]']       \n",
      "                                                                                                  \n",
      " skip_connection3 (Add)         (None, 32)           0           ['skip_connection2[0][0]',       \n",
      "                                                                  'ffn_block3[0][0]']             \n",
      "                                                                                                  \n",
      " ffn_block4 (Sequential)        (None, 32)           2368        ['skip_connection3[0][0]']       \n",
      "                                                                                                  \n",
      " skip_connection4 (Add)         (None, 32)           0           ['skip_connection3[0][0]',       \n",
      "                                                                  'ffn_block4[0][0]']             \n",
      "                                                                                                  \n",
      " ffn_block5 (Sequential)        (None, 32)           2368        ['skip_connection4[0][0]']       \n",
      "                                                                                                  \n",
      " skip_connection5 (Add)         (None, 32)           0           ['skip_connection4[0][0]',       \n",
      "                                                                  'ffn_block5[0][0]']             \n",
      "                                                                                                  \n",
      " logits (Dense)                 (None, 7)            231         ['skip_connection5[0][0]']       \n",
      "                                                                                                  \n",
      "==================================================================================================\n",
      "Total params: 62,507\n",
      "Trainable params: 59,065\n",
      "Non-trainable params: 3,442\n",
      "__________________________________________________________________________________________________\n"
     ]
    },
    {
     "data": {
      "image/png": "[encoded data removed]",
      "text/plain": [
       "<IPython.core.display.Image object>"
      ]
     },
     "execution_count": 23,
     "metadata": {},
     "output_type": "execute_result"
    }
   ],
   "source": [
    "\n",
    "def create_baseline_model(hidden_units, num_classes, dropout_rate=0.2):\n",
    "    inputs = layers.Input(shape=(num_features,), name=\"input_features\")\n",
    "    x = create_ffn(hidden_units, dropout_rate, name=f\"ffn_block1\")(inputs)\n",
    "    for block_idx in range(4):\n",
    "        # Create an FFN block.\n",
    "        x1 = create_ffn(hidden_units, dropout_rate, name=f\"ffn_block{block_idx + 2}\")(x)\n",
    "        # Add skip connection.\n",
    "        x = layers.Add(name=f\"skip_connection{block_idx + 2}\")([x, x1])\n",
    "    # Compute logits.\n",
    "    logits = layers.Dense(num_classes, name=\"logits\")(x)\n",
    "    # Create the model.\n",
    "    return keras.Model(inputs=inputs, outputs=logits, name=\"baseline\")\n",
    "\n",
    "\n",
    "baseline_model = create_baseline_model(hidden_units, num_classes, dropout_rate)\n",
    "baseline_model.summary()\n",
    "keras.utils.plot_model(baseline_model, \"baseline_model.png\", show_shapes=True)"
   ]
  },
  {
   "cell_type": "markdown",
   "metadata": {
    "colab_type": "text"
   },
   "source": [
    "### Train the baseline classifier"
   ]
  },
  {
   "cell_type": "code",
   "execution_count": 38,
   "metadata": {
    "colab_type": "code"
   },
   "outputs": [
    {
     "name": "stdout",
     "output_type": "stream",
     "text": [
      "Epoch 1/300\n",
      "5/5 [==============================] - 2s 77ms/step - loss: 3.6670 - acc: 0.2004 - val_loss: 1.9864 - val_acc: 0.1055\n",
      "Epoch 2/300\n",
      "5/5 [==============================] - 0s 14ms/step - loss: 2.6366 - acc: 0.2235 - val_loss: 1.9918 - val_acc: 0.1156\n",
      "Epoch 3/300\n",
      "5/5 [==============================] - 0s 13ms/step - loss: 2.3488 - acc: 0.2057 - val_loss: 1.9178 - val_acc: 0.1156\n",
      "Epoch 4/300\n",
      "5/5 [==============================] - 0s 14ms/step - loss: 2.1591 - acc: 0.2511 - val_loss: 1.8905 - val_acc: 0.2010\n",
      "Epoch 5/300\n",
      "5/5 [==============================] - 0s 13ms/step - loss: 2.0198 - acc: 0.2778 - val_loss: 1.8875 - val_acc: 0.1457\n",
      "Epoch 6/300\n",
      "5/5 [==============================] - 0s 13ms/step - loss: 1.9043 - acc: 0.2743 - val_loss: 1.8849 - val_acc: 0.1508\n",
      "Epoch 7/300\n",
      "5/5 [==============================] - 0s 13ms/step - loss: 1.7837 - acc: 0.3508 - val_loss: 1.8592 - val_acc: 0.1809\n",
      "Epoch 8/300\n",
      "5/5 [==============================] - 0s 14ms/step - loss: 1.7469 - acc: 0.3215 - val_loss: 1.8042 - val_acc: 0.3065\n",
      "Epoch 9/300\n",
      "5/5 [==============================] - 0s 14ms/step - loss: 1.6879 - acc: 0.3749 - val_loss: 1.7494 - val_acc: 0.3970\n",
      "Epoch 10/300\n",
      "5/5 [==============================] - 0s 14ms/step - loss: 1.6187 - acc: 0.3847 - val_loss: 1.7221 - val_acc: 0.4070\n",
      "Epoch 11/300\n",
      "5/5 [==============================] - 0s 14ms/step - loss: 1.5344 - acc: 0.4114 - val_loss: 1.6738 - val_acc: 0.4673\n",
      "Epoch 12/300\n",
      "5/5 [==============================] - 0s 14ms/step - loss: 1.4361 - acc: 0.4809 - val_loss: 1.5757 - val_acc: 0.5327\n",
      "Epoch 13/300\n",
      "5/5 [==============================] - 0s 13ms/step - loss: 1.4091 - acc: 0.5022 - val_loss: 1.4669 - val_acc: 0.5226\n",
      "Epoch 14/300\n",
      "5/5 [==============================] - 0s 13ms/step - loss: 1.2995 - acc: 0.5245 - val_loss: 1.3850 - val_acc: 0.5075\n",
      "Epoch 15/300\n",
      "5/5 [==============================] - 0s 13ms/step - loss: 1.2446 - acc: 0.5539 - val_loss: 1.3333 - val_acc: 0.4573\n",
      "Epoch 16/300\n",
      "5/5 [==============================] - 0s 13ms/step - loss: 1.2010 - acc: 0.5503 - val_loss: 1.2886 - val_acc: 0.4824\n",
      "Epoch 17/300\n",
      "5/5 [==============================] - 0s 18ms/step - loss: 1.0942 - acc: 0.5993 - val_loss: 1.2814 - val_acc: 0.4824\n",
      "Epoch 18/300\n",
      "5/5 [==============================] - 0s 13ms/step - loss: 1.0351 - acc: 0.6394 - val_loss: 1.2368 - val_acc: 0.5025\n",
      "Epoch 19/300\n",
      "5/5 [==============================] - 0s 13ms/step - loss: 0.9892 - acc: 0.6545 - val_loss: 1.1816 - val_acc: 0.5226\n",
      "Epoch 20/300\n",
      "5/5 [==============================] - 0s 13ms/step - loss: 0.9625 - acc: 0.6696 - val_loss: 1.2163 - val_acc: 0.5126\n",
      "Epoch 21/300\n",
      "5/5 [==============================] - 0s 13ms/step - loss: 0.9037 - acc: 0.6928 - val_loss: 1.2418 - val_acc: 0.5025\n",
      "Epoch 22/300\n",
      "5/5 [==============================] - 0s 14ms/step - loss: 0.8460 - acc: 0.6946 - val_loss: 1.2963 - val_acc: 0.4874\n",
      "Epoch 23/300\n",
      "5/5 [==============================] - 0s 13ms/step - loss: 0.8357 - acc: 0.7070 - val_loss: 1.3966 - val_acc: 0.4472\n",
      "Epoch 24/300\n",
      "5/5 [==============================] - 0s 13ms/step - loss: 0.8074 - acc: 0.7142 - val_loss: 1.3426 - val_acc: 0.4774\n",
      "Epoch 25/300\n",
      "5/5 [==============================] - 0s 13ms/step - loss: 0.7907 - acc: 0.7364 - val_loss: 1.2268 - val_acc: 0.5226\n",
      "Epoch 26/300\n",
      "5/5 [==============================] - 0s 14ms/step - loss: 0.7530 - acc: 0.7373 - val_loss: 1.1891 - val_acc: 0.5377\n",
      "Epoch 27/300\n",
      "5/5 [==============================] - 0s 14ms/step - loss: 0.7790 - acc: 0.7391 - val_loss: 1.1282 - val_acc: 0.5829\n",
      "Epoch 28/300\n",
      "5/5 [==============================] - 0s 13ms/step - loss: 0.7336 - acc: 0.7524 - val_loss: 1.1675 - val_acc: 0.5729\n",
      "Epoch 29/300\n",
      "5/5 [==============================] - 0s 13ms/step - loss: 0.7017 - acc: 0.7596 - val_loss: 1.2993 - val_acc: 0.5327\n",
      "Epoch 30/300\n",
      "5/5 [==============================] - 0s 13ms/step - loss: 0.6903 - acc: 0.7498 - val_loss: 1.2568 - val_acc: 0.5477\n",
      "Epoch 31/300\n",
      "5/5 [==============================] - 0s 13ms/step - loss: 0.6626 - acc: 0.7711 - val_loss: 1.2704 - val_acc: 0.5327\n",
      "Epoch 32/300\n",
      "5/5 [==============================] - 0s 13ms/step - loss: 0.6688 - acc: 0.7774 - val_loss: 1.3288 - val_acc: 0.5377\n",
      "Epoch 33/300\n",
      "5/5 [==============================] - 0s 13ms/step - loss: 0.6577 - acc: 0.7836 - val_loss: 1.2191 - val_acc: 0.5528\n",
      "Epoch 34/300\n",
      "5/5 [==============================] - 0s 13ms/step - loss: 0.5925 - acc: 0.7943 - val_loss: 1.1356 - val_acc: 0.5729\n",
      "Epoch 35/300\n",
      "5/5 [==============================] - 0s 13ms/step - loss: 0.5726 - acc: 0.8005 - val_loss: 1.1347 - val_acc: 0.5829\n",
      "Epoch 36/300\n",
      "5/5 [==============================] - 0s 13ms/step - loss: 0.5819 - acc: 0.8023 - val_loss: 1.1879 - val_acc: 0.5628\n",
      "Epoch 37/300\n",
      "5/5 [==============================] - 0s 13ms/step - loss: 0.5412 - acc: 0.8032 - val_loss: 1.2268 - val_acc: 0.5779\n",
      "Epoch 38/300\n",
      "5/5 [==============================] - 0s 14ms/step - loss: 0.5885 - acc: 0.8014 - val_loss: 1.1084 - val_acc: 0.6332\n",
      "Epoch 39/300\n",
      "5/5 [==============================] - 0s 14ms/step - loss: 0.5769 - acc: 0.8157 - val_loss: 1.0606 - val_acc: 0.6633\n",
      "Epoch 40/300\n",
      "5/5 [==============================] - 0s 14ms/step - loss: 0.5937 - acc: 0.7774 - val_loss: 1.0012 - val_acc: 0.6784\n",
      "Epoch 41/300\n",
      "5/5 [==============================] - 0s 13ms/step - loss: 0.5801 - acc: 0.7996 - val_loss: 1.0163 - val_acc: 0.6482\n",
      "Epoch 42/300\n",
      "5/5 [==============================] - 0s 13ms/step - loss: 0.5464 - acc: 0.8112 - val_loss: 0.9923 - val_acc: 0.6734\n",
      "Epoch 43/300\n",
      "5/5 [==============================] - 0s 14ms/step - loss: 0.5525 - acc: 0.8201 - val_loss: 0.9444 - val_acc: 0.6935\n",
      "Epoch 44/300\n",
      "5/5 [==============================] - 0s 14ms/step - loss: 0.4914 - acc: 0.8397 - val_loss: 0.8780 - val_acc: 0.7136\n",
      "Epoch 45/300\n",
      "5/5 [==============================] - 0s 13ms/step - loss: 0.4941 - acc: 0.8255 - val_loss: 0.8942 - val_acc: 0.7136\n",
      "Epoch 46/300\n",
      "5/5 [==============================] - 0s 13ms/step - loss: 0.5192 - acc: 0.8112 - val_loss: 0.9454 - val_acc: 0.6834\n",
      "Epoch 47/300\n",
      "5/5 [==============================] - 0s 13ms/step - loss: 0.4934 - acc: 0.8166 - val_loss: 0.9799 - val_acc: 0.6683\n",
      "Epoch 48/300\n",
      "5/5 [==============================] - 0s 17ms/step - loss: 0.5327 - acc: 0.8228 - val_loss: 0.9789 - val_acc: 0.6784\n",
      "Epoch 49/300\n",
      "5/5 [==============================] - 0s 14ms/step - loss: 0.5204 - acc: 0.8148 - val_loss: 1.0265 - val_acc: 0.6533\n",
      "Epoch 50/300\n",
      "5/5 [==============================] - 0s 13ms/step - loss: 0.5330 - acc: 0.8272 - val_loss: 1.0832 - val_acc: 0.6281\n",
      "Epoch 51/300\n",
      "5/5 [==============================] - 0s 13ms/step - loss: 0.5166 - acc: 0.8175 - val_loss: 0.9550 - val_acc: 0.6935\n",
      "Epoch 52/300\n",
      "5/5 [==============================] - 0s 14ms/step - loss: 0.5288 - acc: 0.8166 - val_loss: 0.8763 - val_acc: 0.7387\n",
      "Epoch 53/300\n",
      "5/5 [==============================] - 0s 13ms/step - loss: 0.4335 - acc: 0.8522 - val_loss: 0.8575 - val_acc: 0.7286\n",
      "Epoch 54/300\n",
      "5/5 [==============================] - 0s 13ms/step - loss: 0.5013 - acc: 0.8299 - val_loss: 0.8906 - val_acc: 0.7337\n",
      "Epoch 55/300\n",
      "5/5 [==============================] - 0s 13ms/step - loss: 0.4910 - acc: 0.8370 - val_loss: 0.8759 - val_acc: 0.7186\n",
      "Epoch 56/300\n",
      "5/5 [==============================] - 0s 14ms/step - loss: 0.4689 - acc: 0.8379 - val_loss: 0.8627 - val_acc: 0.7136\n",
      "Epoch 57/300\n",
      "5/5 [==============================] - 0s 13ms/step - loss: 0.4868 - acc: 0.8246 - val_loss: 0.8652 - val_acc: 0.7236\n",
      "Epoch 58/300\n",
      "5/5 [==============================] - 0s 13ms/step - loss: 0.5380 - acc: 0.8139 - val_loss: 0.8961 - val_acc: 0.7286\n",
      "Epoch 59/300\n",
      "5/5 [==============================] - 0s 13ms/step - loss: 0.4255 - acc: 0.8557 - val_loss: 0.9538 - val_acc: 0.7085\n",
      "Epoch 60/300\n",
      "5/5 [==============================] - 0s 13ms/step - loss: 0.4864 - acc: 0.8362 - val_loss: 0.9324 - val_acc: 0.7186\n",
      "Epoch 61/300\n",
      "5/5 [==============================] - 0s 13ms/step - loss: 0.4794 - acc: 0.8370 - val_loss: 0.8758 - val_acc: 0.7035\n",
      "Epoch 62/300\n",
      "5/5 [==============================] - 0s 13ms/step - loss: 0.4244 - acc: 0.8602 - val_loss: 0.8815 - val_acc: 0.7085\n",
      "Epoch 63/300\n",
      "5/5 [==============================] - 0s 13ms/step - loss: 0.4495 - acc: 0.8406 - val_loss: 0.9060 - val_acc: 0.7136\n",
      "Epoch 64/300\n",
      "5/5 [==============================] - 0s 14ms/step - loss: 0.4274 - acc: 0.8566 - val_loss: 0.9635 - val_acc: 0.7085\n",
      "Epoch 65/300\n",
      "5/5 [==============================] - 0s 13ms/step - loss: 0.4631 - acc: 0.8362 - val_loss: 0.9761 - val_acc: 0.7035\n",
      "Epoch 66/300\n",
      "5/5 [==============================] - 0s 15ms/step - loss: 0.4736 - acc: 0.8362 - val_loss: 0.9440 - val_acc: 0.7186\n",
      "Epoch 67/300\n",
      "5/5 [==============================] - 0s 13ms/step - loss: 0.4273 - acc: 0.8451 - val_loss: 0.9254 - val_acc: 0.7136\n",
      "Epoch 68/300\n",
      "5/5 [==============================] - 0s 13ms/step - loss: 0.4219 - acc: 0.8540 - val_loss: 0.9839 - val_acc: 0.7186\n",
      "Epoch 69/300\n",
      "5/5 [==============================] - 0s 13ms/step - loss: 0.4330 - acc: 0.8549 - val_loss: 1.0420 - val_acc: 0.6935\n",
      "Epoch 70/300\n",
      "5/5 [==============================] - 0s 13ms/step - loss: 0.4636 - acc: 0.8362 - val_loss: 1.0634 - val_acc: 0.6784\n",
      "Epoch 71/300\n",
      "5/5 [==============================] - 0s 13ms/step - loss: 0.4536 - acc: 0.8433 - val_loss: 0.9936 - val_acc: 0.7085\n",
      "Epoch 72/300\n",
      "5/5 [==============================] - 0s 13ms/step - loss: 0.4409 - acc: 0.8522 - val_loss: 0.9167 - val_acc: 0.7035\n",
      "Epoch 73/300\n",
      "5/5 [==============================] - 0s 13ms/step - loss: 0.4114 - acc: 0.8513 - val_loss: 0.9503 - val_acc: 0.7286\n",
      "Epoch 74/300\n",
      "5/5 [==============================] - 0s 13ms/step - loss: 0.4812 - acc: 0.8326 - val_loss: 0.9683 - val_acc: 0.7236\n",
      "Epoch 75/300\n",
      "5/5 [==============================] - 0s 13ms/step - loss: 0.4161 - acc: 0.8513 - val_loss: 0.9978 - val_acc: 0.7186\n",
      "Epoch 76/300\n",
      "5/5 [==============================] - 0s 13ms/step - loss: 0.4452 - acc: 0.8370 - val_loss: 0.9257 - val_acc: 0.7236\n",
      "Epoch 77/300\n",
      "5/5 [==============================] - 0s 13ms/step - loss: 0.4244 - acc: 0.8611 - val_loss: 0.8781 - val_acc: 0.7286\n",
      "Epoch 78/300\n",
      "5/5 [==============================] - 0s 13ms/step - loss: 0.4375 - acc: 0.8451 - val_loss: 0.8898 - val_acc: 0.7337\n",
      "Epoch 79/300\n",
      "5/5 [==============================] - 0s 13ms/step - loss: 0.3984 - acc: 0.8602 - val_loss: 0.9485 - val_acc: 0.7136\n",
      "Epoch 80/300\n",
      "5/5 [==============================] - 0s 13ms/step - loss: 0.3648 - acc: 0.8744 - val_loss: 0.9387 - val_acc: 0.7136\n",
      "Epoch 81/300\n",
      "5/5 [==============================] - 0s 13ms/step - loss: 0.4117 - acc: 0.8646 - val_loss: 0.9283 - val_acc: 0.7387\n",
      "Epoch 82/300\n",
      "5/5 [==============================] - 0s 13ms/step - loss: 0.4408 - acc: 0.8540 - val_loss: 0.9310 - val_acc: 0.7286\n",
      "Epoch 83/300\n",
      "5/5 [==============================] - 0s 13ms/step - loss: 0.4385 - acc: 0.8549 - val_loss: 0.9253 - val_acc: 0.7286\n",
      "Epoch 84/300\n",
      "5/5 [==============================] - 0s 13ms/step - loss: 0.4263 - acc: 0.8531 - val_loss: 0.9203 - val_acc: 0.7186\n",
      "Epoch 85/300\n",
      "5/5 [==============================] - 0s 13ms/step - loss: 0.4283 - acc: 0.8602 - val_loss: 0.9568 - val_acc: 0.7186\n",
      "Epoch 86/300\n",
      "5/5 [==============================] - 0s 13ms/step - loss: 0.3967 - acc: 0.8638 - val_loss: 0.9311 - val_acc: 0.7186\n",
      "Epoch 87/300\n",
      "5/5 [==============================] - 0s 13ms/step - loss: 0.4025 - acc: 0.8531 - val_loss: 0.9328 - val_acc: 0.7286\n",
      "Epoch 88/300\n",
      "5/5 [==============================] - 0s 13ms/step - loss: 0.3928 - acc: 0.8646 - val_loss: 0.9591 - val_acc: 0.7286\n",
      "Epoch 89/300\n",
      "5/5 [==============================] - 0s 13ms/step - loss: 0.4084 - acc: 0.8522 - val_loss: 0.9516 - val_acc: 0.7286\n",
      "Epoch 90/300\n",
      "5/5 [==============================] - 0s 13ms/step - loss: 0.3947 - acc: 0.8629 - val_loss: 0.9704 - val_acc: 0.7286\n",
      "Epoch 91/300\n",
      "5/5 [==============================] - 0s 13ms/step - loss: 0.4302 - acc: 0.8459 - val_loss: 0.9833 - val_acc: 0.7186\n",
      "Epoch 92/300\n",
      "5/5 [==============================] - 0s 13ms/step - loss: 0.4117 - acc: 0.8602 - val_loss: 1.0001 - val_acc: 0.7035\n",
      "Epoch 93/300\n",
      "5/5 [==============================] - 0s 13ms/step - loss: 0.3974 - acc: 0.8566 - val_loss: 0.9650 - val_acc: 0.7136\n",
      "Epoch 94/300\n",
      "5/5 [==============================] - 0s 13ms/step - loss: 0.4223 - acc: 0.8566 - val_loss: 0.9641 - val_acc: 0.7387\n",
      "Epoch 95/300\n",
      "5/5 [==============================] - 0s 13ms/step - loss: 0.3693 - acc: 0.8602 - val_loss: 0.9981 - val_acc: 0.7286\n",
      "Epoch 96/300\n",
      "5/5 [==============================] - 0s 13ms/step - loss: 0.4304 - acc: 0.8531 - val_loss: 1.0072 - val_acc: 0.7236\n",
      "Epoch 97/300\n",
      "5/5 [==============================] - 0s 13ms/step - loss: 0.3981 - acc: 0.8513 - val_loss: 0.9993 - val_acc: 0.7236\n",
      "Epoch 98/300\n",
      "5/5 [==============================] - 0s 13ms/step - loss: 0.3899 - acc: 0.8575 - val_loss: 1.0116 - val_acc: 0.7186\n",
      "Epoch 99/300\n",
      "5/5 [==============================] - 0s 13ms/step - loss: 0.3682 - acc: 0.8593 - val_loss: 0.9956 - val_acc: 0.7337\n",
      "Epoch 100/300\n",
      "5/5 [==============================] - 0s 13ms/step - loss: 0.4040 - acc: 0.8504 - val_loss: 0.9886 - val_acc: 0.7286\n",
      "Epoch 101/300\n",
      "5/5 [==============================] - 0s 13ms/step - loss: 0.3822 - acc: 0.8646 - val_loss: 1.0160 - val_acc: 0.7136\n",
      "Epoch 102/300\n",
      "5/5 [==============================] - 0s 14ms/step - loss: 0.4225 - acc: 0.8504 - val_loss: 1.0396 - val_acc: 0.7035\n"
     ]
    }
   ],
   "source": [
    "history = run_experiment(baseline_model, x_train, y_train)"
   ]
  },
  {
   "cell_type": "markdown",
   "metadata": {
    "colab_type": "text"
   },
   "source": [
    "Let's plot the learning curves."
   ]
  },
  {
   "cell_type": "code",
   "execution_count": 39,
   "metadata": {
    "colab_type": "code"
   },
   "outputs": [
    {
     "data": {
      "image/png": "[encoded data removed]",
      "text/plain": [
       "<Figure size 1080x360 with 2 Axes>"
      ]
     },
     "metadata": {
      "needs_background": "light"
     },
     "output_type": "display_data"
    }
   ],
   "source": [
    "display_learning_curves(history)"
   ]
  },
  {
   "cell_type": "markdown",
   "metadata": {
    "colab_type": "text"
   },
   "source": [
    "Now we evaluate the baseline model on the test data split."
   ]
  },
  {
   "cell_type": "code",
   "execution_count": 40,
   "metadata": {
    "colab_type": "code"
   },
   "outputs": [
    {
     "name": "stdout",
     "output_type": "stream",
     "text": [
      "Test accuracy: 72.08%\n"
     ]
    }
   ],
   "source": [
    "# baseline_model.compile(\n",
    "#         optimizer=keras.optimizers.Adam(learning_rate),\n",
    "#         loss=keras.losses.SparseCategoricalCrossentropy(from_logits=True),\n",
    "#         metrics=[keras.metrics.SparseCategoricalAccuracy(name=\"acc\")],\n",
    "#     )\n",
    "_, test_accuracy = baseline_model.evaluate(x=x_test, y=y_test, verbose=0)\n",
    "print(f\"Test accuracy: {round(test_accuracy * 100, 2)}%\")"
   ]
  },
  {
   "cell_type": "markdown",
   "metadata": {
    "colab_type": "text"
   },
   "source": [
    "### Examine the baseline model predictions\n",
    "\n",
    "Let's create new data instances by randomly generating binary word vectors with respect to\n",
    "the word presence probabilities."
   ]
  },
  {
   "cell_type": "code",
   "execution_count": 41,
   "metadata": {
    "colab_type": "code"
   },
   "outputs": [],
   "source": [
    "\n",
    "def generate_random_instances(num_instances):\n",
    "    token_probability = x_train.mean(axis=0)\n",
    "    instances = []\n",
    "    for _ in range(num_instances):\n",
    "        probabilities = np.random.uniform(size=len(token_probability))\n",
    "        instance = (probabilities <= token_probability).astype(int)\n",
    "        instances.append(instance)\n",
    "\n",
    "    return np.array(instances)\n",
    "\n",
    "\n",
    "def display_class_probabilities(probabilities):\n",
    "    for instance_idx, probs in enumerate(probabilities):\n",
    "        print(f\"Instance {instance_idx + 1}:\")\n",
    "        for class_idx, prob in enumerate(probs):\n",
    "            print(f\"- {class_values[class_idx]}: {round(prob * 100, 2)}%\")\n"
   ]
  },
  {
   "cell_type": "markdown",
   "metadata": {
    "colab_type": "text"
   },
   "source": [
    "Now we show the baseline model predictions given these randomly generated instances."
   ]
  },
  {
   "cell_type": "code",
   "execution_count": 42,
   "metadata": {
    "colab_type": "code"
   },
   "outputs": [
    {
     "name": "stdout",
     "output_type": "stream",
     "text": [
      "Instance 1:\n",
      "- Case_Based: 2.72%\n",
      "- Genetic_Algorithms: 5.12%\n",
      "- Neural_Networks: 18.99%\n",
      "- Probabilistic_Methods: 1.0%\n",
      "- Reinforcement_Learning: 68.0%\n",
      "- Rule_Learning: 0.65%\n",
      "- Theory: 3.52%\n",
      "Instance 2:\n",
      "- Case_Based: 0.5%\n",
      "- Genetic_Algorithms: 3.08%\n",
      "- Neural_Networks: 58.79%\n",
      "- Probabilistic_Methods: 33.71%\n",
      "- Reinforcement_Learning: 1.42%\n",
      "- Rule_Learning: 0.24%\n",
      "- Theory: 2.26%\n",
      "Instance 3:\n",
      "- Case_Based: 0.28%\n",
      "- Genetic_Algorithms: 91.3%\n",
      "- Neural_Networks: 4.8%\n",
      "- Probabilistic_Methods: 0.46%\n",
      "- Reinforcement_Learning: 1.69%\n",
      "- Rule_Learning: 0.51%\n",
      "- Theory: 0.96%\n",
      "Instance 4:\n",
      "- Case_Based: 0.45%\n",
      "- Genetic_Algorithms: 1.09%\n",
      "- Neural_Networks: 73.56%\n",
      "- Probabilistic_Methods: 22.74%\n",
      "- Reinforcement_Learning: 0.46%\n",
      "- Rule_Learning: 0.13%\n",
      "- Theory: 1.56%\n",
      "Instance 5:\n",
      "- Case_Based: 4.89%\n",
      "- Genetic_Algorithms: 3.6%\n",
      "- Neural_Networks: 17.81%\n",
      "- Probabilistic_Methods: 13.51%\n",
      "- Reinforcement_Learning: 44.73%\n",
      "- Rule_Learning: 3.54%\n",
      "- Theory: 11.93%\n",
      "Instance 6:\n",
      "- Case_Based: 10.14%\n",
      "- Genetic_Algorithms: 35.12%\n",
      "- Neural_Networks: 7.18%\n",
      "- Probabilistic_Methods: 2.04%\n",
      "- Reinforcement_Learning: 2.91%\n",
      "- Rule_Learning: 1.44%\n",
      "- Theory: 41.16%\n",
      "Instance 7:\n",
      "- Case_Based: 2.99%\n",
      "- Genetic_Algorithms: 4.66%\n",
      "- Neural_Networks: 41.42%\n",
      "- Probabilistic_Methods: 15.74%\n",
      "- Reinforcement_Learning: 6.16%\n",
      "- Rule_Learning: 2.29%\n",
      "- Theory: 26.75%\n"
     ]
    }
   ],
   "source": [
    "new_instances = generate_random_instances(num_classes)\n",
    "logits = baseline_model.predict(new_instances)\n",
    "probabilities = keras.activations.softmax(tf.convert_to_tensor(logits)).numpy()\n",
    "display_class_probabilities(probabilities)"
   ]
  },
  {
   "cell_type": "markdown",
   "metadata": {
    "colab_type": "text"
   },
   "source": [
    "## Build a Graph Neural Network Model\n",
    "\n",
    "### Prepare the data for the graph model\n",
    "\n",
    "Preparing and loading the graphs data into the model for training is the most challenging\n",
    "part in GNN models, which is addressed in different ways by the specialised libraries.\n",
    "In this example, we show a simple approach for preparing and using graph data that is suitable\n",
    "if your dataset consists of a single graph that fits entirely in memory.\n",
    "\n",
    "The graph data is represented by the `graph_info` tuple, which consists of the following\n",
    "three elements:\n",
    "\n",
    "1. `node_features`: This is a `[num_nodes, num_features]` NumPy array that includes the\n",
    "node features. In this dataset, the nodes are the papers, and the `node_features` are the\n",
    "word-presence binary vectors of each paper.\n",
    "2. `edges`:  This is `[num_edges, num_edges]` NumPy array representing a sparse\n",
    "[adjacency matrix](https://en.wikipedia.org/wiki/Adjacency_matrix#:~:text=In%20graph%20theory%20and%20computer,with%20zeros%20on%20its%20diagonal.)\n",
    "of the links between the nodes. In this example, the links are the citations between the papers.\n",
    "3. `edge_weights` (optional): This is a `[num_edges]` NumPy array that includes the edge weights, which *quantify*\n",
    "the relationships between nodes in the graph. In this example, there are no weights for the paper citations."
   ]
  },
  {
   "cell_type": "code",
   "execution_count": 46,
   "metadata": {
    "colab_type": "code"
   },
   "outputs": [
    {
     "name": "stdout",
     "output_type": "stream",
     "text": [
      "Edges shape: (2, 5429)\n",
      "Nodes shape: (2708, 1433)\n"
     ]
    },
    {
     "data": {
      "text/plain": [
       "(array([[  21,  905,  906, ..., 2586, 1874, 2707],\n",
       "        [   0,    0,    0, ..., 1874, 1876, 1897]], dtype=int64),\n",
       " <tf.Tensor: shape=(5, 1433), dtype=float32, numpy=\n",
       " array([[0., 0., 0., ..., 0., 0., 0.],\n",
       "        [0., 0., 0., ..., 0., 0., 0.],\n",
       "        [0., 0., 0., ..., 0., 0., 0.],\n",
       "        [0., 0., 0., ..., 0., 0., 0.],\n",
       "        [0., 0., 0., ..., 0., 0., 0.]], dtype=float32)>)"
      ]
     },
     "execution_count": 46,
     "metadata": {},
     "output_type": "execute_result"
    }
   ],
   "source": [
    "# Create an edges array (sparse adjacency matrix) of shape [2, num_edges].\n",
    "edges = citations[[\"source\", \"target\"]].to_numpy().T\n",
    "# Create an edge weights array of ones.\n",
    "edge_weights = tf.ones(shape=edges.shape[1])\n",
    "# Create a node features array of shape [num_nodes, num_features].\n",
    "node_features = tf.cast(\n",
    "    papers.sort_values(\"paper_id\")[feature_names].to_numpy(), dtype=tf.dtypes.float32\n",
    ")\n",
    "# Create graph info tuple with node_features, edges, and edge_weights.\n",
    "graph_info = (node_features, edges, edge_weights)\n",
    "\n",
    "print(\"Edges shape:\", edges.shape)\n",
    "print(\"Nodes shape:\", node_features.shape)\n",
    "\n",
    "edges[:5],node_features[:5]"
   ]
  },
  {
   "cell_type": "markdown",
   "metadata": {
    "colab_type": "text"
   },
   "source": [
    "### Implement a graph convolution layer\n",
    "\n",
    "We implement a graph convolution module as a [Keras Layer](https://www.tensorflow.org/api_docs/python/tf/keras/layers/Layer?version=nightly).\n",
    "Our `GraphConvLayer` performs the following steps:\n",
    "\n",
    "1. **Prepare**: The input node representations are processed using a FFN to produce a *message*. You can simplify\n",
    "the processing by only applying linear transformation to the representations.\n",
    "2. **Aggregate**: The messages of the neighbours of each node are aggregated with\n",
    "respect to the `edge_weights` using a *permutation invariant* pooling operation, such as *sum*, *mean*, and *max*,\n",
    "to prepare a single aggregated message for each node. See, for example, [tf.math.unsorted_segment_sum](https://www.tensorflow.org/api_docs/python/tf/math/unsorted_segment_sum)\n",
    "APIs used to aggregate neighbour messages.\n",
    "3. **Update**: The `node_repesentations` and `aggregated_messages`—both of shape `[num_nodes, representation_dim]`—\n",
    "are combined and processed to produce the new state of the node representations (node embeddings).\n",
    "If `combination_type` is `gru`, the `node_repesentations` and `aggregated_messages` are stacked to create a sequence,\n",
    "then processed by a GRU layer. Otherwise, the `node_repesentations` and `aggregated_messages` are added\n",
    "or concatenated, then processed using a FFN.\n",
    "\n",
    "\n",
    "The technique implemented use ideas from [Graph Convolutional Networks](https://arxiv.org/abs/1609.02907),\n",
    "[GraphSage](https://arxiv.org/abs/1706.02216), [Graph Isomorphism Network](https://arxiv.org/abs/1810.00826),\n",
    "[Simple Graph Networks](https://arxiv.org/abs/1902.07153), and\n",
    "[Gated Graph Sequence Neural Networks](https://arxiv.org/abs/1511.05493).\n",
    "Two other key techniques that are not covered are [Graph Attention Networks](https://arxiv.org/abs/1710.10903)\n",
    "and [Message Passing Neural Networks](https://arxiv.org/abs/1704.01212)."
   ]
  },
  {
   "cell_type": "code",
   "execution_count": 107,
   "metadata": {
    "colab_type": "code"
   },
   "outputs": [],
   "source": [
    "\n",
    "class GraphConvLayer(layers.Layer):\n",
    "    def __init__(\n",
    "        self,\n",
    "        hidden_units,\n",
    "        dropout_rate=0.2,\n",
    "        aggregation_type=\"mean\",\n",
    "        combination_type=\"concat\",\n",
    "        normalize=False,\n",
    "        *args,\n",
    "        **kwargs,\n",
    "    ):\n",
    "        super(GraphConvLayer, self).__init__(*args, **kwargs)\n",
    "\n",
    "        self.aggregation_type = aggregation_type\n",
    "        self.combination_type = combination_type\n",
    "        self.normalize = normalize\n",
    "\n",
    "        self.ffn_prepare = create_ffn(hidden_units, dropout_rate)\n",
    "        if self.combination_type == \"gated\":\n",
    "            self.update_fn = layers.GRU(\n",
    "                units=hidden_units,\n",
    "                activation=\"tanh\",\n",
    "                recurrent_activation=\"sigmoid\",\n",
    "                dropout=dropout_rate,\n",
    "                return_state=True,\n",
    "                recurrent_dropout=dropout_rate,\n",
    "            )\n",
    "        else:\n",
    "            self.update_fn = create_ffn(hidden_units, dropout_rate)\n",
    "\n",
    "    def prepare(self, node_repesentations, weights=None):\n",
    "        # node_repesentations shape is [num_edges, embedding_dim].\n",
    "        messages = self.ffn_prepare(node_repesentations) #create_ffn와 같음\n",
    "        if weights is not None:\n",
    "            messages = messages * tf.expand_dims(weights, -1)\n",
    "        return messages\n",
    "\n",
    "    def aggregate(self, node_indices, neighbour_messages):\n",
    "        # node_indices shape is [num_edges].\n",
    "        # neighbour_messages shape: [num_edges, representation_dim].\n",
    "        num_nodes = tf.math.reduce_max(node_indices) + 1\n",
    "        if self.aggregation_type == \"sum\":\n",
    "            aggregated_message = tf.math.unsorted_segment_sum(\n",
    "                neighbour_messages, node_indices, num_segments=num_nodes\n",
    "            )\n",
    "        elif self.aggregation_type == \"mean\":\n",
    "            aggregated_message = tf.math.unsorted_segment_mean(\n",
    "                neighbour_messages, node_indices, num_segments=num_nodes\n",
    "            )\n",
    "        elif self.aggregation_type == \"max\":\n",
    "            aggregated_message = tf.math.unsorted_segment_max(\n",
    "                neighbour_messages, node_indices, num_segments=num_nodes\n",
    "            )\n",
    "        else:\n",
    "            raise ValueError(f\"Invalid aggregation type: {self.aggregation_type}.\")\n",
    "\n",
    "        return aggregated_message\n",
    "\n",
    "    def update(self, node_repesentations, aggregated_messages):\n",
    "        # node_repesentations shape is [num_nodes, representation_dim].\n",
    "        # aggregated_messages shape is [num_nodes, representation_dim].\n",
    "        if self.combination_type == \"gru\":\n",
    "            # Create a sequence of two elements for the GRU layer.\n",
    "            h = tf.stack([node_repesentations, aggregated_messages], axis=1)\n",
    "        elif self.combination_type == \"concat\":\n",
    "            # Concatenate the node_repesentations and aggregated_messages.\n",
    "            h = tf.concat([node_repesentations, aggregated_messages], axis=1)\n",
    "        elif self.combination_type == \"add\":\n",
    "            # Add node_repesentations and aggregated_messages.\n",
    "            h = node_repesentations + aggregated_messages\n",
    "        else:\n",
    "            raise ValueError(f\"Invalid combination type: {self.combination_type}.\")\n",
    "\n",
    "        self.h=h\n",
    "        \n",
    "        # Apply the processing function.\n",
    "        node_embeddings = self.update_fn(h)\n",
    "        if self.combination_type == \"gru\":\n",
    "            node_embeddings = tf.unstack(node_embeddings, axis=1)[-1]\n",
    "\n",
    "        if self.normalize:\n",
    "            node_embeddings = tf.nn.l2_normalize(node_embeddings, axis=-1)\n",
    "        return node_embeddings\n",
    "\n",
    "    def call(self, inputs):\n",
    "        \"\"\"Process the inputs to produce the node_embeddings.\n",
    "\n",
    "        inputs: a tuple of three elements: node_repesentations, edges, edge_weights.\n",
    "        Returns: node_embeddings of shape [num_nodes, representation_dim].\n",
    "        \"\"\"\n",
    "\n",
    "        node_repesentations, edges, edge_weights = inputs\n",
    "        # Get node_indices (source) and neighbour_indices (target) from edges.\n",
    "        node_indices, neighbour_indices = edges[0], edges[1]\n",
    "        # neighbour_repesentations shape is [num_edges, representation_dim].\n",
    "        neighbour_repesentations = tf.gather(node_repesentations, neighbour_indices)\n",
    "        self.neighbour_representations = neighbour_repesentations \n",
    "\n",
    "        # Prepare the messages of the neighbours.\n",
    "        neighbour_messages = self.prepare(neighbour_repesentations, edge_weights)\n",
    "        self.neighbour_messages = neighbour_messages\n",
    "        \n",
    "        # Aggregate the neighbour messages.\n",
    "        aggregated_messages = self.aggregate(node_indices, neighbour_messages)\n",
    "        self.aggregated_messages = aggregated_messages\n",
    "        \n",
    "        # Update the node embedding with the neighbour messages.\n",
    "        return self.update(node_repesentations, aggregated_messages)\n",
    "\n",
    "\n",
    "def create_ffn(hidden_units, dropout_rate, name=None):\n",
    "    fnn_layers = []\n",
    "\n",
    "    for units in hidden_units:\n",
    "        fnn_layers.append(layers.BatchNormalization())\n",
    "        fnn_layers.append(layers.Dropout(dropout_rate))\n",
    "        fnn_layers.append(layers.Dense(units, activation=tf.nn.gelu))\n",
    "\n",
    "    return keras.Sequential(fnn_layers, name=name)"
   ]
  },
  {
   "cell_type": "code",
   "execution_count": 108,
   "metadata": {},
   "outputs": [
    {
     "data": {
      "text/plain": [
       "[32, 32]"
      ]
     },
     "execution_count": 108,
     "metadata": {},
     "output_type": "execute_result"
    }
   ],
   "source": [
    "hidden_units"
   ]
  },
  {
   "cell_type": "code",
   "execution_count": 109,
   "metadata": {},
   "outputs": [
    {
     "data": {
      "text/plain": [
       "<tf.Tensor: shape=(2708, 32), dtype=float32, numpy=\n",
       "array([[ 0.04467455, -0.00264187,  0.04896718, ...,  0.00748783,\n",
       "         0.13419949,  0.019155  ],\n",
       "       [-0.03322324,  0.0185481 , -0.00401629, ...,  0.00341601,\n",
       "        -0.00062918,  0.03161648],\n",
       "       [ 0.        ,  0.        ,  0.        , ...,  0.        ,\n",
       "         0.        ,  0.        ],\n",
       "       ...,\n",
       "       [-0.02967433,  0.04422354,  0.08370367, ..., -0.00094728,\n",
       "         0.13836278, -0.01488935],\n",
       "       [-0.01123307,  0.03508589,  0.1502243 , ...,  0.11670722,\n",
       "         0.03123232,  0.00131332],\n",
       "       [-0.1868333 , -0.05956054, -0.078136  , ...,  0.0578035 ,\n",
       "        -0.03879562, -0.00401897]], dtype=float32)>"
      ]
     },
     "execution_count": 109,
     "metadata": {},
     "output_type": "execute_result"
    }
   ],
   "source": [
    "node_features.shape, edges.shape, edge_weights.shape\n",
    "\n",
    "layer=GraphConvLayer(\n",
    "            hidden_units,\n",
    "            dropout_rate,\n",
    "            \"sum\",\n",
    "            \"concat\",\n",
    "            True,\n",
    "            name=\"graph_conv2\",\n",
    "        )\n",
    "# layer.call(graph_info)\n",
    "# layer.neighbour_messages, layer.aggregated_messages, \n",
    "layer.call(graph_info)\n",
    "layer.aggregated_messages"
   ]
  },
  {
   "cell_type": "markdown",
   "metadata": {
    "colab_type": "text"
   },
   "source": [
    "### Implement a graph neural network node classifier\n",
    "\n",
    "The GNN classification model follows the [Design Space for Graph Neural Networks](https://arxiv.org/abs/2011.08843) approach,\n",
    "as follows:\n",
    "\n",
    "1. Apply preprocessing using FFN to the node features to generate initial node representations.\n",
    "2. Apply one or more graph convolutional layer, with skip connections,  to the node representation\n",
    "to produce node embeddings.\n",
    "3. Apply post-processing using FFN to the node embeddings to generat the final node embeddings.\n",
    "4. Feed the node embeddings in a Softmax layer to predict the node class.\n",
    "\n",
    "Each graph convolutional layer added captures information from a further level of neighbours.\n",
    "However, adding many graph convolutional layer can cause oversmoothing, where the model\n",
    "produces similar embeddings for all the nodes.\n",
    "\n",
    "Note that the `graph_info` passed to the constructor of the Keras model, and used as a *property*\n",
    "of the Keras model object, rather than input data for training or prediction.\n",
    "The model will accept a **batch** of `node_indices`, which are used to lookup the\n",
    "node features and neighbours from the `graph_info`."
   ]
  },
  {
   "cell_type": "code",
   "execution_count": 114,
   "metadata": {
    "colab_type": "code"
   },
   "outputs": [],
   "source": [
    "#graph_info = (node_features, edges, edge_weights) #edge_weights = tf.ones(shape=edges.shape[1])\n",
    "#num_classes = len(class_idx) #case_based, genetic_algorithms, neural_networks....7가지\n",
    "#hidden_units = [32, 32]\n",
    "#learning_rate = 0.01\n",
    "#dropout_rate = 0.5\n",
    "#num_epochs = 300\n",
    "#batch_size = 256\n",
    "\n",
    "class GNNNodeClassifier(tf.keras.Model):\n",
    "    def __init__(\n",
    "        self,\n",
    "        graph_info,\n",
    "        num_classes,\n",
    "        hidden_units,\n",
    "        aggregation_type=\"sum\",\n",
    "        combination_type=\"concat\",\n",
    "        dropout_rate=0.2,\n",
    "        normalize=True,\n",
    "        *args,\n",
    "        **kwargs,\n",
    "    ):\n",
    "        super(GNNNodeClassifier, self).__init__(*args, **kwargs)\n",
    "\n",
    "        # Unpack graph_info to three elements: node_features, edges, and edge_weight.\n",
    "        node_features, edges, edge_weights = graph_info\n",
    "        self.node_features = node_features\n",
    "        self.edges = edges\n",
    "        self.edge_weights = edge_weights\n",
    "        # Set edge_weights to ones if not provided.\n",
    "        if self.edge_weights is None:\n",
    "            self.edge_weights = tf.ones(shape=edges.shape[1])\n",
    "        # Scale edge_weights to sum to 1.\n",
    "        self.edge_weights = self.edge_weights / tf.math.reduce_sum(self.edge_weights)\n",
    "\n",
    "        # Create a process layer.\n",
    "        self.preprocess = create_ffn(hidden_units, dropout_rate, name=\"preprocess\")\n",
    "        # Create the first GraphConv layer.\n",
    "        self.conv1 = GraphConvLayer(\n",
    "            hidden_units,\n",
    "            dropout_rate,\n",
    "            aggregation_type,\n",
    "            combination_type,\n",
    "            normalize,\n",
    "            name=\"graph_conv1\",\n",
    "        )\n",
    "        # Create the second GraphConv layer.\n",
    "        self.conv2 = GraphConvLayer(\n",
    "            hidden_units,\n",
    "            dropout_rate,\n",
    "            aggregation_type,\n",
    "            combination_type,\n",
    "            normalize,\n",
    "            name=\"graph_conv2\",\n",
    "        )\n",
    "        # Create a postprocess layer.\n",
    "        self.postprocess = create_ffn(hidden_units, dropout_rate, name=\"postprocess\")\n",
    "        # Create a compute logits layer.\n",
    "        self.compute_logits = layers.Dense(units=num_classes, name=\"logits\")\n",
    "\n",
    "    def call(self, input_node_indices):\n",
    "        self.input_node_indices = input_node_indices\n",
    "        \n",
    "        # Preprocess the node_features to produce node representations.\n",
    "        x = self.preprocess(self.node_features)\n",
    "        self.x=x\n",
    "                \n",
    "        # Apply the first graph conv layer.\n",
    "        x1 = self.conv1((x, self.edges, self.edge_weights))\n",
    "        self.x1=x1\n",
    "        \n",
    "        # Skip connection.\n",
    "        x = x1 + x\n",
    "        self.x1x=x\n",
    "        \n",
    "        # Apply the second graph conv layer.\n",
    "        x2 = self.conv2((x, self.edges, self.edge_weights))\n",
    "        self.x2=x2\n",
    "        \n",
    "        # Skip connection.\n",
    "        x = x2 + x\n",
    "        self.x2x=x\n",
    "        \n",
    "        # Postprocess node embedding.\n",
    "        x = self.postprocess(x)\n",
    "        self.postx=x\n",
    "        \n",
    "        # Fetch node embeddings for the input node_indices.\n",
    "        node_embeddings = tf.gather(x, input_node_indices)\n",
    "        self.node_embeddings=node_embeddings\n",
    "        \n",
    "        # Compute logits\n",
    "        return self.compute_logits(node_embeddings)\n",
    "\n",
    "\n",
    "##참고: 아까 생성한 함수임\n",
    "\n",
    "def create_ffn(hidden_units, dropout_rate, name=None):\n",
    "    fnn_layers = []\n",
    "\n",
    "    for units in hidden_units:\n",
    "        fnn_layers.append(layers.BatchNormalization())\n",
    "        fnn_layers.append(layers.Dropout(dropout_rate))\n",
    "        fnn_layers.append(layers.Dense(units, activation=tf.nn.gelu))\n",
    "\n",
    "    return keras.Sequential(fnn_layers, name=name)"
   ]
  },
  {
   "cell_type": "markdown",
   "metadata": {
    "colab_type": "text"
   },
   "source": [
    "Let's test instantiating and calling the GNN model.\n",
    "Notice that if you provide `N` node indices, the output will be a tensor of shape `[N, num_classes]`,\n",
    "regardless of the size of the graph."
   ]
  },
  {
   "cell_type": "code",
   "execution_count": 115,
   "metadata": {},
   "outputs": [
    {
     "data": {
      "text/plain": [
       "{'Case_Based': 0,\n",
       " 'Genetic_Algorithms': 1,\n",
       " 'Neural_Networks': 2,\n",
       " 'Probabilistic_Methods': 3,\n",
       " 'Reinforcement_Learning': 4,\n",
       " 'Rule_Learning': 5,\n",
       " 'Theory': 6}"
      ]
     },
     "execution_count": 115,
     "metadata": {},
     "output_type": "execute_result"
    }
   ],
   "source": [
    "class_idx"
   ]
  },
  {
   "cell_type": "code",
   "execution_count": 137,
   "metadata": {},
   "outputs": [
    {
     "data": {
      "text/plain": [
       "(2, 5429)"
      ]
     },
     "execution_count": 137,
     "metadata": {},
     "output_type": "execute_result"
    }
   ],
   "source": [
    "gnn_model.call(x_train)\n",
    "# gnn_model.input_node_indices.shape #1322,\n",
    "# gnn_model.x #2708,32\n",
    "# gnn_model.x1 #2708,32\n",
    "# gnn_model.x1x #2708,32\n",
    "# gnn_model.x2\n",
    "# gnn_model.x2x\n",
    "# gnn_model.postx #2708,32\n",
    "# gnn_model.node_embeddings #1322,32\n",
    "# compute logits #1322, 7\n",
    "# gnn_model.node_features\n",
    "gnn_model.edges.shape"
   ]
  },
  {
   "cell_type": "code",
   "execution_count": 119,
   "metadata": {
    "colab_type": "code"
   },
   "outputs": [
    {
     "name": "stdout",
     "output_type": "stream",
     "text": [
      "GNN output shape: tf.Tensor(\n",
      "[[-0.16693339 -0.11011479 -0.0824277   0.22726047  0.02515058 -0.04525544\n",
      "  -0.09413736]\n",
      " [-0.04958968 -0.0054202  -0.11125409 -0.01035484 -0.00393604  0.09372509\n",
      "  -0.08575363]\n",
      " [ 0.05867004 -0.02871553 -0.19279684 -0.12164588 -0.147477   -0.0413764\n",
      "  -0.07037739]], shape=(3, 7), dtype=float32)\n",
      "Model: \"gnn_model\"\n",
      "_________________________________________________________________\n",
      " Layer (type)                Output Shape              Param #   \n",
      "=================================================================\n",
      " preprocess (Sequential)     (2708, 32)                52804     \n",
      "                                                                 \n",
      " graph_conv1 (GraphConvLayer  multiple                 5888      \n",
      " )                                                               \n",
      "                                                                 \n",
      " graph_conv2 (GraphConvLayer  multiple                 5888      \n",
      " )                                                               \n",
      "                                                                 \n",
      " postprocess (Sequential)    (2708, 32)                2368      \n",
      "                                                                 \n",
      " logits (Dense)              multiple                  231       \n",
      "                                                                 \n",
      "=================================================================\n",
      "Total params: 67,179\n",
      "Trainable params: 63,481\n",
      "Non-trainable params: 3,698\n",
      "_________________________________________________________________\n"
     ]
    },
    {
     "data": {
      "image/png": "[encoded data removed]",
      "text/plain": [
       "<IPython.core.display.Image object>"
      ]
     },
     "execution_count": 119,
     "metadata": {},
     "output_type": "execute_result"
    }
   ],
   "source": [
    "#graph_info = (node_features, edges, edge_weights)\n",
    "#num_classes = len(class_idx) #case_based, genetic_algorithms, neural_networks....7가지\n",
    "#hidden_units = [32, 32]\n",
    "#learning_rate = 0.01\n",
    "#dropout_rate = 0.5\n",
    "#num_epochs = 300\n",
    "#batch_size = 256\n",
    "\n",
    "gnn_model = GNNNodeClassifier(\n",
    "    graph_info=graph_info,\n",
    "    num_classes=num_classes,\n",
    "    hidden_units=hidden_units,\n",
    "    dropout_rate=dropout_rate,\n",
    "    name=\"gnn_model\",\n",
    ")\n",
    "\n",
    "print(\"GNN output shape:\", gnn_model([1, 10, 100]))\n",
    "\n",
    "gnn_model.summary()\n",
    "keras.utils.plot_model(gnn_model, \"gnn_model.png\", show_shapes=True)"
   ]
  },
  {
   "cell_type": "markdown",
   "metadata": {
    "colab_type": "text"
   },
   "source": [
    "### Train the GNN model\n",
    "\n",
    "Note that we use the standard *supervised* cross-entropy loss to train the model.\n",
    "However, we can add another *self-supervised* loss term for the generated node embeddings\n",
    "that makes sure that neighbouring nodes in graph have similar representations, while faraway\n",
    "nodes have dissimilar representations."
   ]
  },
  {
   "cell_type": "code",
   "execution_count": 120,
   "metadata": {
    "colab_type": "code"
   },
   "outputs": [
    {
     "name": "stdout",
     "output_type": "stream",
     "text": [
      "Epoch 1/300\n",
      "5/5 [==============================] - 4s 162ms/step - loss: 2.2732 - acc: 0.1282 - val_loss: 1.9203 - val_acc: 0.1608\n",
      "Epoch 2/300\n",
      "5/5 [==============================] - 0s 75ms/step - loss: 1.9344 - acc: 0.2369 - val_loss: 1.8870 - val_acc: 0.2965\n",
      "Epoch 3/300\n",
      "5/5 [==============================] - 0s 75ms/step - loss: 1.8900 - acc: 0.2743 - val_loss: 1.8729 - val_acc: 0.3166\n",
      "Epoch 4/300\n",
      "5/5 [==============================] - 0s 72ms/step - loss: 1.9019 - acc: 0.2832 - val_loss: 1.8646 - val_acc: 0.3166\n",
      "Epoch 5/300\n",
      "5/5 [==============================] - 0s 73ms/step - loss: 1.8294 - acc: 0.2903 - val_loss: 1.8584 - val_acc: 0.3166\n",
      "Epoch 6/300\n",
      "5/5 [==============================] - 0s 73ms/step - loss: 1.8392 - acc: 0.2743 - val_loss: 1.8577 - val_acc: 0.3166\n",
      "Epoch 7/300\n",
      "5/5 [==============================] - 0s 73ms/step - loss: 1.8129 - acc: 0.3063 - val_loss: 1.8555 - val_acc: 0.3166\n",
      "Epoch 8/300\n",
      "5/5 [==============================] - 0s 74ms/step - loss: 1.8183 - acc: 0.3063 - val_loss: 1.8466 - val_acc: 0.3166\n",
      "Epoch 9/300\n",
      "5/5 [==============================] - 0s 74ms/step - loss: 1.8136 - acc: 0.3081 - val_loss: 1.8340 - val_acc: 0.3266\n",
      "Epoch 10/300\n",
      "5/5 [==============================] - 0s 73ms/step - loss: 1.7763 - acc: 0.2992 - val_loss: 1.8219 - val_acc: 0.3266\n",
      "Epoch 11/300\n",
      "5/5 [==============================] - 0s 76ms/step - loss: 1.7759 - acc: 0.3117 - val_loss: 1.8026 - val_acc: 0.3317\n",
      "Epoch 12/300\n",
      "5/5 [==============================] - 0s 76ms/step - loss: 1.7485 - acc: 0.3268 - val_loss: 1.7839 - val_acc: 0.3769\n",
      "Epoch 13/300\n",
      "5/5 [==============================] - 0s 75ms/step - loss: 1.7100 - acc: 0.3348 - val_loss: 1.7557 - val_acc: 0.4322\n",
      "Epoch 14/300\n",
      "5/5 [==============================] - 0s 75ms/step - loss: 1.6669 - acc: 0.3713 - val_loss: 1.7181 - val_acc: 0.3970\n",
      "Epoch 15/300\n",
      "5/5 [==============================] - 0s 74ms/step - loss: 1.6185 - acc: 0.3785 - val_loss: 1.6240 - val_acc: 0.4020\n",
      "Epoch 16/300\n",
      "5/5 [==============================] - 0s 75ms/step - loss: 1.5677 - acc: 0.3963 - val_loss: 1.4690 - val_acc: 0.4523\n",
      "Epoch 17/300\n",
      "5/5 [==============================] - 0s 76ms/step - loss: 1.5141 - acc: 0.4417 - val_loss: 1.3335 - val_acc: 0.4824\n",
      "Epoch 18/300\n",
      "5/5 [==============================] - 0s 72ms/step - loss: 1.4292 - acc: 0.4684 - val_loss: 1.2915 - val_acc: 0.5075\n",
      "Epoch 19/300\n",
      "5/5 [==============================] - 0s 75ms/step - loss: 1.4329 - acc: 0.4746 - val_loss: 1.3444 - val_acc: 0.4874\n",
      "Epoch 20/300\n",
      "5/5 [==============================] - 0s 74ms/step - loss: 1.3707 - acc: 0.4853 - val_loss: 1.4143 - val_acc: 0.4724\n",
      "Epoch 21/300\n",
      "5/5 [==============================] - 0s 72ms/step - loss: 1.3015 - acc: 0.5378 - val_loss: 1.7917 - val_acc: 0.4322\n",
      "Epoch 22/300\n",
      "5/5 [==============================] - 0s 82ms/step - loss: 1.2966 - acc: 0.5334 - val_loss: 2.4848 - val_acc: 0.4221\n",
      "Epoch 23/300\n",
      "5/5 [==============================] - 0s 77ms/step - loss: 1.2060 - acc: 0.5779 - val_loss: 2.7773 - val_acc: 0.3920\n",
      "Epoch 24/300\n",
      "5/5 [==============================] - 0s 73ms/step - loss: 1.1868 - acc: 0.5904 - val_loss: 2.4815 - val_acc: 0.4322\n",
      "Epoch 25/300\n",
      "5/5 [==============================] - 0s 74ms/step - loss: 1.1280 - acc: 0.6055 - val_loss: 2.5366 - val_acc: 0.4221\n",
      "Epoch 26/300\n",
      "5/5 [==============================] - 0s 73ms/step - loss: 1.1051 - acc: 0.6162 - val_loss: 2.5162 - val_acc: 0.4171\n",
      "Epoch 27/300\n",
      "5/5 [==============================] - 0s 73ms/step - loss: 1.0938 - acc: 0.6242 - val_loss: 2.7209 - val_acc: 0.4221\n",
      "Epoch 28/300\n",
      "5/5 [==============================] - 0s 75ms/step - loss: 1.0972 - acc: 0.6055 - val_loss: 2.5617 - val_acc: 0.4221\n",
      "Epoch 29/300\n",
      "5/5 [==============================] - 0s 74ms/step - loss: 1.0483 - acc: 0.6465 - val_loss: 2.5541 - val_acc: 0.4121\n",
      "Epoch 30/300\n",
      "5/5 [==============================] - 0s 74ms/step - loss: 1.0418 - acc: 0.6367 - val_loss: 2.5979 - val_acc: 0.3970\n",
      "Epoch 31/300\n",
      "5/5 [==============================] - 0s 73ms/step - loss: 0.9917 - acc: 0.6518 - val_loss: 2.3566 - val_acc: 0.4121\n",
      "Epoch 32/300\n",
      "5/5 [==============================] - 0s 75ms/step - loss: 0.9329 - acc: 0.6848 - val_loss: 2.1541 - val_acc: 0.4372\n",
      "Epoch 33/300\n",
      "5/5 [==============================] - 0s 73ms/step - loss: 0.9608 - acc: 0.6598 - val_loss: 1.9443 - val_acc: 0.4774\n",
      "Epoch 34/300\n",
      "5/5 [==============================] - 0s 74ms/step - loss: 0.9645 - acc: 0.6500 - val_loss: 1.6334 - val_acc: 0.5126\n",
      "Epoch 35/300\n",
      "5/5 [==============================] - 0s 72ms/step - loss: 0.8603 - acc: 0.7133 - val_loss: 1.4525 - val_acc: 0.5126\n",
      "Epoch 36/300\n",
      "5/5 [==============================] - 0s 77ms/step - loss: 0.9172 - acc: 0.6670 - val_loss: 1.4259 - val_acc: 0.5528\n",
      "Epoch 37/300\n",
      "5/5 [==============================] - 0s 73ms/step - loss: 0.8776 - acc: 0.6821 - val_loss: 1.4631 - val_acc: 0.5427\n",
      "Epoch 38/300\n",
      "5/5 [==============================] - 0s 73ms/step - loss: 0.8570 - acc: 0.6892 - val_loss: 1.5295 - val_acc: 0.5276\n",
      "Epoch 39/300\n",
      "5/5 [==============================] - 0s 73ms/step - loss: 0.8301 - acc: 0.7053 - val_loss: 1.3871 - val_acc: 0.5628\n",
      "Epoch 40/300\n",
      "5/5 [==============================] - 0s 77ms/step - loss: 0.8291 - acc: 0.6946 - val_loss: 1.3879 - val_acc: 0.5729\n",
      "Epoch 41/300\n",
      "5/5 [==============================] - 0s 74ms/step - loss: 0.8285 - acc: 0.7008 - val_loss: 1.5115 - val_acc: 0.5528\n",
      "Epoch 42/300\n",
      "5/5 [==============================] - 0s 73ms/step - loss: 0.7940 - acc: 0.6955 - val_loss: 1.5559 - val_acc: 0.5226\n",
      "Epoch 43/300\n",
      "5/5 [==============================] - 0s 73ms/step - loss: 0.8283 - acc: 0.7008 - val_loss: 1.6081 - val_acc: 0.5176\n",
      "Epoch 44/300\n",
      "5/5 [==============================] - 0s 72ms/step - loss: 0.7827 - acc: 0.7142 - val_loss: 1.2633 - val_acc: 0.5678\n",
      "Epoch 45/300\n",
      "5/5 [==============================] - 0s 75ms/step - loss: 0.7460 - acc: 0.7355 - val_loss: 1.1002 - val_acc: 0.6131\n",
      "Epoch 46/300\n",
      "5/5 [==============================] - 0s 73ms/step - loss: 0.8023 - acc: 0.7133 - val_loss: 1.1668 - val_acc: 0.5980\n",
      "Epoch 47/300\n",
      "5/5 [==============================] - 0s 72ms/step - loss: 0.7742 - acc: 0.7186 - val_loss: 1.2256 - val_acc: 0.5879\n",
      "Epoch 48/300\n",
      "5/5 [==============================] - 0s 76ms/step - loss: 0.7887 - acc: 0.7026 - val_loss: 1.1945 - val_acc: 0.6030\n",
      "Epoch 49/300\n",
      "5/5 [==============================] - 0s 75ms/step - loss: 0.7772 - acc: 0.7150 - val_loss: 1.0134 - val_acc: 0.6432\n",
      "Epoch 50/300\n",
      "5/5 [==============================] - 0s 73ms/step - loss: 0.7193 - acc: 0.7293 - val_loss: 0.9820 - val_acc: 0.6382\n",
      "Epoch 51/300\n",
      "5/5 [==============================] - 0s 72ms/step - loss: 0.7950 - acc: 0.6999 - val_loss: 1.0912 - val_acc: 0.6181\n",
      "Epoch 52/300\n",
      "5/5 [==============================] - 0s 75ms/step - loss: 0.7511 - acc: 0.7427 - val_loss: 1.0237 - val_acc: 0.6281\n",
      "Epoch 53/300\n",
      "5/5 [==============================] - 0s 78ms/step - loss: 0.7362 - acc: 0.7400 - val_loss: 0.9589 - val_acc: 0.6985\n",
      "Epoch 54/300\n",
      "5/5 [==============================] - 0s 74ms/step - loss: 0.7162 - acc: 0.7471 - val_loss: 0.9673 - val_acc: 0.6533\n",
      "Epoch 55/300\n",
      "5/5 [==============================] - 0s 73ms/step - loss: 0.7115 - acc: 0.7391 - val_loss: 1.0227 - val_acc: 0.6382\n",
      "Epoch 56/300\n",
      "5/5 [==============================] - 0s 73ms/step - loss: 0.7217 - acc: 0.7382 - val_loss: 1.0876 - val_acc: 0.6332\n",
      "Epoch 57/300\n",
      "5/5 [==============================] - 0s 74ms/step - loss: 0.7291 - acc: 0.7373 - val_loss: 1.3024 - val_acc: 0.5829\n",
      "Epoch 58/300\n",
      "5/5 [==============================] - 0s 74ms/step - loss: 0.6848 - acc: 0.7596 - val_loss: 1.1556 - val_acc: 0.6131\n",
      "Epoch 59/300\n",
      "5/5 [==============================] - 0s 73ms/step - loss: 0.7038 - acc: 0.7622 - val_loss: 0.9754 - val_acc: 0.6683\n",
      "Epoch 60/300\n",
      "5/5 [==============================] - 0s 73ms/step - loss: 0.6968 - acc: 0.7605 - val_loss: 0.9332 - val_acc: 0.6834\n",
      "Epoch 61/300\n",
      "5/5 [==============================] - 0s 74ms/step - loss: 0.6626 - acc: 0.7667 - val_loss: 0.9163 - val_acc: 0.6985\n",
      "Epoch 62/300\n",
      "5/5 [==============================] - 0s 76ms/step - loss: 0.6514 - acc: 0.7685 - val_loss: 0.8940 - val_acc: 0.6784\n",
      "Epoch 63/300\n",
      "5/5 [==============================] - 0s 77ms/step - loss: 0.6254 - acc: 0.7774 - val_loss: 0.8801 - val_acc: 0.6784\n",
      "Epoch 64/300\n",
      "5/5 [==============================] - 0s 74ms/step - loss: 0.6537 - acc: 0.7703 - val_loss: 0.8843 - val_acc: 0.6985\n",
      "Epoch 65/300\n",
      "5/5 [==============================] - 0s 77ms/step - loss: 0.6732 - acc: 0.7667 - val_loss: 0.9191 - val_acc: 0.6884\n",
      "Epoch 66/300\n",
      "5/5 [==============================] - 0s 75ms/step - loss: 0.6212 - acc: 0.7854 - val_loss: 0.9199 - val_acc: 0.6884\n",
      "Epoch 67/300\n",
      "5/5 [==============================] - 0s 76ms/step - loss: 0.6552 - acc: 0.7703 - val_loss: 0.9647 - val_acc: 0.6683\n",
      "Epoch 68/300\n",
      "5/5 [==============================] - 0s 75ms/step - loss: 0.6308 - acc: 0.7783 - val_loss: 0.9515 - val_acc: 0.6734\n",
      "Epoch 69/300\n",
      "5/5 [==============================] - 0s 74ms/step - loss: 0.5802 - acc: 0.7996 - val_loss: 0.9245 - val_acc: 0.6734\n",
      "Epoch 70/300\n",
      "5/5 [==============================] - 0s 72ms/step - loss: 0.6398 - acc: 0.7711 - val_loss: 0.9524 - val_acc: 0.6533\n",
      "Epoch 71/300\n",
      "5/5 [==============================] - 0s 73ms/step - loss: 0.6232 - acc: 0.7898 - val_loss: 0.9533 - val_acc: 0.6734\n",
      "Epoch 72/300\n",
      "5/5 [==============================] - 0s 75ms/step - loss: 0.6169 - acc: 0.7934 - val_loss: 0.9093 - val_acc: 0.6784\n",
      "Epoch 73/300\n",
      "5/5 [==============================] - 0s 73ms/step - loss: 0.5741 - acc: 0.8059 - val_loss: 0.8988 - val_acc: 0.6834\n",
      "Epoch 74/300\n",
      "5/5 [==============================] - 0s 75ms/step - loss: 0.6063 - acc: 0.7863 - val_loss: 0.9855 - val_acc: 0.6884\n",
      "Epoch 75/300\n",
      "5/5 [==============================] - 0s 73ms/step - loss: 0.5929 - acc: 0.8014 - val_loss: 1.0026 - val_acc: 0.6834\n",
      "Epoch 76/300\n",
      "5/5 [==============================] - 0s 72ms/step - loss: 0.6309 - acc: 0.7890 - val_loss: 0.9195 - val_acc: 0.6935\n",
      "Epoch 77/300\n",
      "5/5 [==============================] - 0s 72ms/step - loss: 0.6466 - acc: 0.7809 - val_loss: 0.8999 - val_acc: 0.6834\n",
      "Epoch 78/300\n",
      "5/5 [==============================] - 0s 73ms/step - loss: 0.6411 - acc: 0.7907 - val_loss: 0.8640 - val_acc: 0.6935\n",
      "Epoch 79/300\n",
      "5/5 [==============================] - 0s 74ms/step - loss: 0.5586 - acc: 0.8014 - val_loss: 0.8455 - val_acc: 0.7236\n",
      "Epoch 80/300\n",
      "5/5 [==============================] - 0s 76ms/step - loss: 0.5530 - acc: 0.7988 - val_loss: 0.8663 - val_acc: 0.7085\n",
      "Epoch 81/300\n",
      "5/5 [==============================] - 0s 72ms/step - loss: 0.5770 - acc: 0.8005 - val_loss: 0.8624 - val_acc: 0.7186\n",
      "Epoch 82/300\n",
      "5/5 [==============================] - 0s 76ms/step - loss: 0.5817 - acc: 0.8228 - val_loss: 0.8511 - val_acc: 0.7236\n",
      "Epoch 83/300\n",
      "5/5 [==============================] - 0s 73ms/step - loss: 0.5402 - acc: 0.8175 - val_loss: 0.8248 - val_acc: 0.7236\n",
      "Epoch 84/300\n",
      "5/5 [==============================] - 0s 73ms/step - loss: 0.5721 - acc: 0.7907 - val_loss: 0.7614 - val_acc: 0.7638\n",
      "Epoch 85/300\n",
      "5/5 [==============================] - 0s 77ms/step - loss: 0.5248 - acc: 0.8272 - val_loss: 0.7460 - val_acc: 0.7487\n",
      "Epoch 86/300\n",
      "5/5 [==============================] - 0s 76ms/step - loss: 0.6346 - acc: 0.7720 - val_loss: 0.7933 - val_acc: 0.7286\n",
      "Epoch 87/300\n",
      "5/5 [==============================] - 0s 76ms/step - loss: 0.5493 - acc: 0.8255 - val_loss: 0.7929 - val_acc: 0.7236\n",
      "Epoch 88/300\n",
      "5/5 [==============================] - 0s 77ms/step - loss: 0.5274 - acc: 0.8112 - val_loss: 0.8965 - val_acc: 0.7387\n",
      "Epoch 89/300\n",
      "5/5 [==============================] - 0s 79ms/step - loss: 0.5408 - acc: 0.8085 - val_loss: 0.8838 - val_acc: 0.7487\n",
      "Epoch 90/300\n",
      "5/5 [==============================] - 0s 81ms/step - loss: 0.4975 - acc: 0.8379 - val_loss: 0.8197 - val_acc: 0.7739\n",
      "Epoch 91/300\n",
      "5/5 [==============================] - 0s 77ms/step - loss: 0.5053 - acc: 0.8290 - val_loss: 0.8209 - val_acc: 0.7889\n",
      "Epoch 92/300\n",
      "5/5 [==============================] - 0s 76ms/step - loss: 0.5133 - acc: 0.8335 - val_loss: 0.8402 - val_acc: 0.7688\n",
      "Epoch 93/300\n",
      "5/5 [==============================] - 0s 77ms/step - loss: 0.5139 - acc: 0.8317 - val_loss: 0.8319 - val_acc: 0.7889\n",
      "Epoch 94/300\n",
      "5/5 [==============================] - 0s 76ms/step - loss: 0.4860 - acc: 0.8370 - val_loss: 0.8039 - val_acc: 0.7940\n",
      "Epoch 95/300\n",
      "5/5 [==============================] - 0s 75ms/step - loss: 0.5055 - acc: 0.8335 - val_loss: 0.7515 - val_acc: 0.7940\n",
      "Epoch 96/300\n",
      "5/5 [==============================] - 0s 74ms/step - loss: 0.5302 - acc: 0.8157 - val_loss: 0.7401 - val_acc: 0.7839\n",
      "Epoch 97/300\n",
      "5/5 [==============================] - 0s 75ms/step - loss: 0.5162 - acc: 0.8317 - val_loss: 0.7458 - val_acc: 0.7889\n",
      "Epoch 98/300\n",
      "5/5 [==============================] - 0s 74ms/step - loss: 0.4986 - acc: 0.8362 - val_loss: 0.7394 - val_acc: 0.7889\n",
      "Epoch 99/300\n",
      "5/5 [==============================] - 0s 75ms/step - loss: 0.5386 - acc: 0.8237 - val_loss: 0.7255 - val_acc: 0.7688\n",
      "Epoch 100/300\n",
      "5/5 [==============================] - 0s 76ms/step - loss: 0.4836 - acc: 0.8344 - val_loss: 0.7189 - val_acc: 0.7789\n",
      "Epoch 101/300\n",
      "5/5 [==============================] - 0s 76ms/step - loss: 0.4833 - acc: 0.8362 - val_loss: 0.7395 - val_acc: 0.7688\n",
      "Epoch 102/300\n",
      "5/5 [==============================] - 0s 75ms/step - loss: 0.4984 - acc: 0.8335 - val_loss: 0.7846 - val_acc: 0.7437\n",
      "Epoch 103/300\n",
      "5/5 [==============================] - 0s 75ms/step - loss: 0.5088 - acc: 0.8264 - val_loss: 0.8108 - val_acc: 0.7337\n",
      "Epoch 104/300\n",
      "5/5 [==============================] - 0s 75ms/step - loss: 0.5015 - acc: 0.8308 - val_loss: 0.7407 - val_acc: 0.7789\n",
      "Epoch 105/300\n",
      "5/5 [==============================] - 0s 76ms/step - loss: 0.4671 - acc: 0.8397 - val_loss: 0.7120 - val_acc: 0.7889\n",
      "Epoch 106/300\n",
      "5/5 [==============================] - 0s 73ms/step - loss: 0.4346 - acc: 0.8513 - val_loss: 0.7296 - val_acc: 0.7789\n",
      "Epoch 107/300\n",
      "5/5 [==============================] - 0s 87ms/step - loss: 0.4902 - acc: 0.8379 - val_loss: 0.7671 - val_acc: 0.7839\n",
      "Epoch 108/300\n",
      "5/5 [==============================] - 0s 78ms/step - loss: 0.4846 - acc: 0.8308 - val_loss: 0.7826 - val_acc: 0.7789\n",
      "Epoch 109/300\n",
      "5/5 [==============================] - 0s 72ms/step - loss: 0.5136 - acc: 0.8388 - val_loss: 0.7103 - val_acc: 0.7739\n",
      "Epoch 110/300\n",
      "5/5 [==============================] - 0s 73ms/step - loss: 0.5098 - acc: 0.8326 - val_loss: 0.6843 - val_acc: 0.7839\n",
      "Epoch 111/300\n",
      "5/5 [==============================] - 0s 74ms/step - loss: 0.4888 - acc: 0.8370 - val_loss: 0.6517 - val_acc: 0.8090\n",
      "Epoch 112/300\n",
      "5/5 [==============================] - 0s 72ms/step - loss: 0.4820 - acc: 0.8504 - val_loss: 0.6731 - val_acc: 0.7889\n",
      "Epoch 113/300\n",
      "5/5 [==============================] - 0s 73ms/step - loss: 0.4447 - acc: 0.8575 - val_loss: 0.6856 - val_acc: 0.7940\n",
      "Epoch 114/300\n",
      "5/5 [==============================] - 0s 74ms/step - loss: 0.4605 - acc: 0.8566 - val_loss: 0.7054 - val_acc: 0.7990\n",
      "Epoch 115/300\n",
      "5/5 [==============================] - 0s 77ms/step - loss: 0.4818 - acc: 0.8433 - val_loss: 0.7571 - val_acc: 0.7940\n",
      "Epoch 116/300\n",
      "5/5 [==============================] - 0s 74ms/step - loss: 0.4876 - acc: 0.8486 - val_loss: 0.7390 - val_acc: 0.7940\n",
      "Epoch 117/300\n",
      "5/5 [==============================] - 0s 73ms/step - loss: 0.4566 - acc: 0.8646 - val_loss: 0.7257 - val_acc: 0.7889\n",
      "Epoch 118/300\n",
      "5/5 [==============================] - 0s 73ms/step - loss: 0.4721 - acc: 0.8459 - val_loss: 0.7195 - val_acc: 0.7789\n",
      "Epoch 119/300\n",
      "5/5 [==============================] - 0s 72ms/step - loss: 0.4585 - acc: 0.8575 - val_loss: 0.7052 - val_acc: 0.7990\n",
      "Epoch 120/300\n",
      "5/5 [==============================] - 0s 73ms/step - loss: 0.4972 - acc: 0.8477 - val_loss: 0.7080 - val_acc: 0.8040\n",
      "Epoch 121/300\n",
      "5/5 [==============================] - 0s 75ms/step - loss: 0.4507 - acc: 0.8593 - val_loss: 0.6921 - val_acc: 0.7990\n",
      "Epoch 122/300\n",
      "5/5 [==============================] - 0s 73ms/step - loss: 0.4250 - acc: 0.8691 - val_loss: 0.7191 - val_acc: 0.7940\n",
      "Epoch 123/300\n",
      "5/5 [==============================] - 0s 74ms/step - loss: 0.4488 - acc: 0.8522 - val_loss: 0.7222 - val_acc: 0.8040\n",
      "Epoch 124/300\n",
      "5/5 [==============================] - 0s 72ms/step - loss: 0.4622 - acc: 0.8495 - val_loss: 0.7348 - val_acc: 0.7990\n",
      "Epoch 125/300\n",
      "5/5 [==============================] - 0s 74ms/step - loss: 0.4315 - acc: 0.8593 - val_loss: 0.7405 - val_acc: 0.7839\n",
      "Epoch 126/300\n",
      "5/5 [==============================] - 0s 74ms/step - loss: 0.4350 - acc: 0.8575 - val_loss: 0.7657 - val_acc: 0.7990\n",
      "Epoch 127/300\n",
      "5/5 [==============================] - 0s 72ms/step - loss: 0.4164 - acc: 0.8638 - val_loss: 0.8194 - val_acc: 0.8040\n",
      "Epoch 128/300\n",
      "5/5 [==============================] - 0s 73ms/step - loss: 0.4408 - acc: 0.8593 - val_loss: 0.7803 - val_acc: 0.8090\n",
      "Epoch 129/300\n",
      "5/5 [==============================] - 0s 73ms/step - loss: 0.4798 - acc: 0.8353 - val_loss: 0.7484 - val_acc: 0.7889\n",
      "Epoch 130/300\n",
      "5/5 [==============================] - 0s 73ms/step - loss: 0.4491 - acc: 0.8415 - val_loss: 0.7509 - val_acc: 0.8040\n",
      "Epoch 131/300\n",
      "5/5 [==============================] - 0s 73ms/step - loss: 0.4423 - acc: 0.8629 - val_loss: 0.7473 - val_acc: 0.8040\n",
      "Epoch 132/300\n",
      "5/5 [==============================] - 0s 73ms/step - loss: 0.4558 - acc: 0.8549 - val_loss: 0.7404 - val_acc: 0.7789\n",
      "Epoch 133/300\n",
      "5/5 [==============================] - 0s 74ms/step - loss: 0.4240 - acc: 0.8664 - val_loss: 0.7448 - val_acc: 0.7839\n",
      "Epoch 134/300\n",
      "5/5 [==============================] - 0s 72ms/step - loss: 0.3963 - acc: 0.8736 - val_loss: 0.7850 - val_acc: 0.7889\n",
      "Epoch 135/300\n",
      "5/5 [==============================] - 0s 75ms/step - loss: 0.4582 - acc: 0.8513 - val_loss: 0.8001 - val_acc: 0.7990\n",
      "Epoch 136/300\n",
      "5/5 [==============================] - 0s 73ms/step - loss: 0.4046 - acc: 0.8673 - val_loss: 0.8146 - val_acc: 0.7940\n",
      "Epoch 137/300\n",
      "5/5 [==============================] - 0s 73ms/step - loss: 0.4101 - acc: 0.8736 - val_loss: 0.7806 - val_acc: 0.7990\n",
      "Epoch 138/300\n",
      "5/5 [==============================] - 0s 74ms/step - loss: 0.4457 - acc: 0.8629 - val_loss: 0.7368 - val_acc: 0.8141\n",
      "Epoch 139/300\n",
      "5/5 [==============================] - 0s 73ms/step - loss: 0.4282 - acc: 0.8655 - val_loss: 0.7068 - val_acc: 0.8291\n",
      "Epoch 140/300\n",
      "5/5 [==============================] - 0s 76ms/step - loss: 0.4495 - acc: 0.8477 - val_loss: 0.6867 - val_acc: 0.8241\n",
      "Epoch 141/300\n",
      "5/5 [==============================] - 0s 74ms/step - loss: 0.4365 - acc: 0.8638 - val_loss: 0.7078 - val_acc: 0.8090\n",
      "Epoch 142/300\n",
      "5/5 [==============================] - 0s 74ms/step - loss: 0.4404 - acc: 0.8629 - val_loss: 0.7062 - val_acc: 0.8090\n",
      "Epoch 143/300\n",
      "5/5 [==============================] - 0s 78ms/step - loss: 0.4415 - acc: 0.8540 - val_loss: 0.7239 - val_acc: 0.7940\n",
      "Epoch 144/300\n",
      "5/5 [==============================] - 0s 73ms/step - loss: 0.4456 - acc: 0.8682 - val_loss: 0.7922 - val_acc: 0.7990\n",
      "Epoch 145/300\n",
      "5/5 [==============================] - 0s 73ms/step - loss: 0.4546 - acc: 0.8584 - val_loss: 0.8027 - val_acc: 0.7940\n",
      "Epoch 146/300\n",
      "5/5 [==============================] - 0s 73ms/step - loss: 0.4234 - acc: 0.8718 - val_loss: 0.7910 - val_acc: 0.7889\n",
      "Epoch 147/300\n",
      "5/5 [==============================] - 0s 74ms/step - loss: 0.3884 - acc: 0.8744 - val_loss: 0.7535 - val_acc: 0.8090\n",
      "Epoch 148/300\n",
      "5/5 [==============================] - 0s 74ms/step - loss: 0.4523 - acc: 0.8664 - val_loss: 0.7543 - val_acc: 0.8090\n",
      "Epoch 149/300\n",
      "5/5 [==============================] - 0s 72ms/step - loss: 0.4215 - acc: 0.8780 - val_loss: 0.7413 - val_acc: 0.7940\n",
      "Epoch 150/300\n",
      "5/5 [==============================] - 0s 74ms/step - loss: 0.4387 - acc: 0.8540 - val_loss: 0.7258 - val_acc: 0.8040\n",
      "Epoch 151/300\n",
      "5/5 [==============================] - 0s 75ms/step - loss: 0.4272 - acc: 0.8629 - val_loss: 0.7234 - val_acc: 0.8090\n",
      "Epoch 152/300\n",
      "5/5 [==============================] - 0s 71ms/step - loss: 0.4191 - acc: 0.8718 - val_loss: 0.7305 - val_acc: 0.8090\n",
      "Epoch 153/300\n",
      "5/5 [==============================] - 0s 72ms/step - loss: 0.3952 - acc: 0.8727 - val_loss: 0.7229 - val_acc: 0.7940\n",
      "Epoch 154/300\n",
      "5/5 [==============================] - 0s 74ms/step - loss: 0.3952 - acc: 0.8825 - val_loss: 0.7146 - val_acc: 0.7889\n",
      "Epoch 155/300\n",
      "5/5 [==============================] - 0s 72ms/step - loss: 0.3970 - acc: 0.8744 - val_loss: 0.6971 - val_acc: 0.7940\n",
      "Epoch 156/300\n",
      "5/5 [==============================] - 0s 73ms/step - loss: 0.3950 - acc: 0.8816 - val_loss: 0.6933 - val_acc: 0.8241\n",
      "Epoch 157/300\n",
      "5/5 [==============================] - 0s 74ms/step - loss: 0.4223 - acc: 0.8664 - val_loss: 0.7065 - val_acc: 0.7940\n",
      "Epoch 158/300\n",
      "5/5 [==============================] - 0s 73ms/step - loss: 0.3910 - acc: 0.8762 - val_loss: 0.7405 - val_acc: 0.7990\n",
      "Epoch 159/300\n",
      "5/5 [==============================] - 0s 74ms/step - loss: 0.4361 - acc: 0.8744 - val_loss: 0.6993 - val_acc: 0.8241\n",
      "Epoch 160/300\n",
      "5/5 [==============================] - 0s 72ms/step - loss: 0.3245 - acc: 0.8985 - val_loss: 0.7027 - val_acc: 0.8191\n",
      "Epoch 161/300\n",
      "5/5 [==============================] - 0s 75ms/step - loss: 0.4161 - acc: 0.8620 - val_loss: 0.7434 - val_acc: 0.7990\n",
      "Epoch 162/300\n",
      "5/5 [==============================] - 0s 74ms/step - loss: 0.4216 - acc: 0.8602 - val_loss: 0.7246 - val_acc: 0.8040\n",
      "Epoch 163/300\n",
      "5/5 [==============================] - 0s 71ms/step - loss: 0.3970 - acc: 0.8673 - val_loss: 0.6904 - val_acc: 0.8241\n",
      "Epoch 164/300\n",
      "5/5 [==============================] - 0s 73ms/step - loss: 0.3830 - acc: 0.8878 - val_loss: 0.7163 - val_acc: 0.8090\n",
      "Epoch 165/300\n",
      "5/5 [==============================] - 0s 74ms/step - loss: 0.4341 - acc: 0.8638 - val_loss: 0.7184 - val_acc: 0.8090\n",
      "Epoch 166/300\n",
      "5/5 [==============================] - 0s 74ms/step - loss: 0.4169 - acc: 0.8753 - val_loss: 0.7402 - val_acc: 0.8040\n",
      "Epoch 167/300\n",
      "5/5 [==============================] - 0s 73ms/step - loss: 0.4000 - acc: 0.8744 - val_loss: 0.7226 - val_acc: 0.8141\n",
      "Epoch 168/300\n",
      "5/5 [==============================] - 0s 73ms/step - loss: 0.4037 - acc: 0.8655 - val_loss: 0.6845 - val_acc: 0.8141\n",
      "Epoch 169/300\n",
      "5/5 [==============================] - 0s 73ms/step - loss: 0.4039 - acc: 0.8700 - val_loss: 0.7086 - val_acc: 0.8191\n",
      "Epoch 170/300\n",
      "5/5 [==============================] - 0s 83ms/step - loss: 0.3742 - acc: 0.8789 - val_loss: 0.7070 - val_acc: 0.7990\n",
      "Epoch 171/300\n",
      "5/5 [==============================] - 0s 75ms/step - loss: 0.3729 - acc: 0.8771 - val_loss: 0.7106 - val_acc: 0.8040\n",
      "Epoch 172/300\n",
      "5/5 [==============================] - 0s 73ms/step - loss: 0.3639 - acc: 0.8905 - val_loss: 0.7351 - val_acc: 0.8090\n",
      "Epoch 173/300\n",
      "5/5 [==============================] - 0s 72ms/step - loss: 0.3926 - acc: 0.8753 - val_loss: 0.7197 - val_acc: 0.7990\n",
      "Epoch 174/300\n",
      "5/5 [==============================] - 0s 73ms/step - loss: 0.3667 - acc: 0.8896 - val_loss: 0.7045 - val_acc: 0.8141\n",
      "Epoch 175/300\n",
      "5/5 [==============================] - 0s 73ms/step - loss: 0.3792 - acc: 0.8780 - val_loss: 0.6838 - val_acc: 0.8090\n",
      "Epoch 176/300\n",
      "5/5 [==============================] - 0s 74ms/step - loss: 0.4162 - acc: 0.8593 - val_loss: 0.6801 - val_acc: 0.8090\n",
      "Epoch 177/300\n",
      "5/5 [==============================] - 0s 73ms/step - loss: 0.3754 - acc: 0.8789 - val_loss: 0.7026 - val_acc: 0.7940\n",
      "Epoch 178/300\n",
      "5/5 [==============================] - 0s 77ms/step - loss: 0.4157 - acc: 0.8736 - val_loss: 0.7110 - val_acc: 0.7839\n",
      "Epoch 179/300\n",
      "5/5 [==============================] - 0s 73ms/step - loss: 0.4228 - acc: 0.8682 - val_loss: 0.7383 - val_acc: 0.7839\n",
      "Epoch 180/300\n",
      "5/5 [==============================] - 0s 73ms/step - loss: 0.3869 - acc: 0.8709 - val_loss: 0.7360 - val_acc: 0.7940\n",
      "Epoch 181/300\n",
      "5/5 [==============================] - 0s 73ms/step - loss: 0.3721 - acc: 0.8842 - val_loss: 0.7389 - val_acc: 0.7688\n",
      "Epoch 182/300\n",
      "5/5 [==============================] - 0s 74ms/step - loss: 0.3723 - acc: 0.8780 - val_loss: 0.7306 - val_acc: 0.7839\n",
      "Epoch 183/300\n",
      "5/5 [==============================] - 0s 76ms/step - loss: 0.4218 - acc: 0.8718 - val_loss: 0.7169 - val_acc: 0.7940\n",
      "Epoch 184/300\n",
      "5/5 [==============================] - 0s 76ms/step - loss: 0.3810 - acc: 0.8851 - val_loss: 0.7067 - val_acc: 0.7990\n",
      "Epoch 185/300\n",
      "5/5 [==============================] - 0s 75ms/step - loss: 0.3814 - acc: 0.8825 - val_loss: 0.6911 - val_acc: 0.8191\n",
      "Epoch 186/300\n",
      "5/5 [==============================] - 0s 76ms/step - loss: 0.3358 - acc: 0.8914 - val_loss: 0.7094 - val_acc: 0.8090\n",
      "Epoch 187/300\n",
      "5/5 [==============================] - 0s 77ms/step - loss: 0.4058 - acc: 0.8691 - val_loss: 0.7046 - val_acc: 0.8040\n",
      "Epoch 188/300\n",
      "5/5 [==============================] - 0s 76ms/step - loss: 0.3696 - acc: 0.8825 - val_loss: 0.6910 - val_acc: 0.8141\n",
      "Epoch 189/300\n",
      "5/5 [==============================] - 0s 77ms/step - loss: 0.3443 - acc: 0.8896 - val_loss: 0.6866 - val_acc: 0.8141\n"
     ]
    }
   ],
   "source": [
    "x_train = train_data.paper_id.to_numpy()\n",
    "history = run_experiment(gnn_model, x_train, y_train)"
   ]
  },
  {
   "cell_type": "markdown",
   "metadata": {
    "colab_type": "text"
   },
   "source": [
    "Let's plot the learning curves"
   ]
  },
  {
   "cell_type": "code",
   "execution_count": 51,
   "metadata": {
    "colab_type": "code"
   },
   "outputs": [
    {
     "data": {
      "image/png": "[encoded data removed]",
      "text/plain": [
       "<Figure size 1080x360 with 2 Axes>"
      ]
     },
     "metadata": {
      "needs_background": "light"
     },
     "output_type": "display_data"
    }
   ],
   "source": [
    "display_learning_curves(history)"
   ]
  },
  {
   "cell_type": "markdown",
   "metadata": {
    "colab_type": "text"
   },
   "source": [
    "Now we evaluate the GNN model on the test data split.\n",
    "The results may vary depending on the training sample, however the GNN model always outperforms\n",
    "the baseline model in terms of the test accuracy."
   ]
  },
  {
   "cell_type": "code",
   "execution_count": 52,
   "metadata": {
    "colab_type": "code"
   },
   "outputs": [
    {
     "name": "stdout",
     "output_type": "stream",
     "text": [
      "Test accuracy: 80.59%\n"
     ]
    }
   ],
   "source": [
    "x_test = test_data.paper_id.to_numpy()\n",
    "_, test_accuracy = gnn_model.evaluate(x=x_test, y=y_test, verbose=0)\n",
    "print(f\"Test accuracy: {round(test_accuracy * 100, 2)}%\")"
   ]
  },
  {
   "cell_type": "markdown",
   "metadata": {
    "colab_type": "text"
   },
   "source": [
    "### Examine the GNN model predictions\n",
    "\n",
    "Let's add the new instances as nodes to the `node_features`, and generate links\n",
    "(citations) to existing nodes."
   ]
  },
  {
   "cell_type": "code",
   "execution_count": 53,
   "metadata": {
    "colab_type": "code"
   },
   "outputs": [],
   "source": [
    "# First we add the N new_instances as nodes to the graph\n",
    "# by appending the new_instance to node_features.\n",
    "num_nodes = node_features.shape[0]\n",
    "new_node_features = np.concatenate([node_features, new_instances])\n",
    "# Second we add the M edges (citations) from each new node to a set\n",
    "# of existing nodes in a particular subject\n",
    "new_node_indices = [i + num_nodes for i in range(num_classes)]\n",
    "new_citations = []\n",
    "for subject_idx, group in papers.groupby(\"subject\"):\n",
    "    subject_papers = list(group.paper_id)\n",
    "    # Select random x papers specific subject.\n",
    "    selected_paper_indices1 = np.random.choice(subject_papers, 5)\n",
    "    # Select random y papers from any subject (where y < x).\n",
    "    selected_paper_indices2 = np.random.choice(list(papers.paper_id), 2)\n",
    "    # Merge the selected paper indices.\n",
    "    selected_paper_indices = np.concatenate(\n",
    "        [selected_paper_indices1, selected_paper_indices2], axis=0\n",
    "    )\n",
    "    # Create edges between a citing paper idx and the selected cited papers.\n",
    "    citing_paper_indx = new_node_indices[subject_idx]\n",
    "    for cited_paper_idx in selected_paper_indices:\n",
    "        new_citations.append([citing_paper_indx, cited_paper_idx])\n",
    "\n",
    "new_citations = np.array(new_citations).T\n",
    "new_edges = np.concatenate([edges, new_citations], axis=1)"
   ]
  },
  {
   "cell_type": "markdown",
   "metadata": {
    "colab_type": "text"
   },
   "source": [
    "Now let's update the `node_features` and the `edges` in the GNN model."
   ]
  },
  {
   "cell_type": "code",
   "execution_count": 54,
   "metadata": {
    "colab_type": "code"
   },
   "outputs": [
    {
     "name": "stdout",
     "output_type": "stream",
     "text": [
      "Original node_features shape: (2708, 1433)\n",
      "Original edges shape: (2, 5429)\n",
      "New node_features shape: (2715, 1433)\n",
      "New edges shape: (2, 5478)\n",
      "Instance 1:\n",
      "- Case_Based: 54.94%\n",
      "- Genetic_Algorithms: 30.18%\n",
      "- Neural_Networks: 1.15%\n",
      "- Probabilistic_Methods: 0.18%\n",
      "- Reinforcement_Learning: 1.39%\n",
      "- Rule_Learning: 8.79%\n",
      "- Theory: 3.37%\n",
      "Instance 2:\n",
      "- Case_Based: 1.87%\n",
      "- Genetic_Algorithms: 84.55%\n",
      "- Neural_Networks: 1.57%\n",
      "- Probabilistic_Methods: 0.36%\n",
      "- Reinforcement_Learning: 10.68%\n",
      "- Rule_Learning: 0.18%\n",
      "- Theory: 0.78%\n",
      "Instance 3:\n",
      "- Case_Based: 0.5%\n",
      "- Genetic_Algorithms: 68.05%\n",
      "- Neural_Networks: 26.15%\n",
      "- Probabilistic_Methods: 0.33%\n",
      "- Reinforcement_Learning: 3.65%\n",
      "- Rule_Learning: 0.46%\n",
      "- Theory: 0.86%\n",
      "Instance 4:\n",
      "- Case_Based: 0.01%\n",
      "- Genetic_Algorithms: 0.02%\n",
      "- Neural_Networks: 98.75%\n",
      "- Probabilistic_Methods: 0.94%\n",
      "- Reinforcement_Learning: 0.02%\n",
      "- Rule_Learning: 0.01%\n",
      "- Theory: 0.26%\n",
      "Instance 5:\n",
      "- Case_Based: 1.88%\n",
      "- Genetic_Algorithms: 3.85%\n",
      "- Neural_Networks: 1.57%\n",
      "- Probabilistic_Methods: 2.14%\n",
      "- Reinforcement_Learning: 75.37%\n",
      "- Rule_Learning: 1.36%\n",
      "- Theory: 13.82%\n",
      "Instance 6:\n",
      "- Case_Based: 98.15%\n",
      "- Genetic_Algorithms: 0.03%\n",
      "- Neural_Networks: 0.03%\n",
      "- Probabilistic_Methods: 0.06%\n",
      "- Reinforcement_Learning: 0.01%\n",
      "- Rule_Learning: 0.43%\n",
      "- Theory: 1.3%\n",
      "Instance 7:\n",
      "- Case_Based: 7.46%\n",
      "- Genetic_Algorithms: 0.07%\n",
      "- Neural_Networks: 1.86%\n",
      "- Probabilistic_Methods: 0.47%\n",
      "- Reinforcement_Learning: 0.26%\n",
      "- Rule_Learning: 2.89%\n",
      "- Theory: 86.98%\n"
     ]
    }
   ],
   "source": [
    "print(\"Original node_features shape:\", gnn_model.node_features.shape)\n",
    "print(\"Original edges shape:\", gnn_model.edges.shape)\n",
    "gnn_model.node_features = new_node_features\n",
    "gnn_model.edges = new_edges\n",
    "gnn_model.edge_weights = tf.ones(shape=new_edges.shape[1])\n",
    "print(\"New node_features shape:\", gnn_model.node_features.shape)\n",
    "print(\"New edges shape:\", gnn_model.edges.shape)\n",
    "\n",
    "logits = gnn_model.predict(tf.convert_to_tensor(new_node_indices))\n",
    "probabilities = keras.activations.softmax(tf.convert_to_tensor(logits)).numpy()\n",
    "display_class_probabilities(probabilities)"
   ]
  },
  {
   "cell_type": "markdown",
   "metadata": {
    "colab_type": "text"
   },
   "source": [
    "Notice that the probabilities of the expected subjects\n",
    "(to which several citations are added) are higher compared to the baseline model."
   ]
  }
 ],
 "metadata": {
  "colab": {
   "collapsed_sections": [],
   "name": "gnn_citations",
   "private_outputs": false,
   "provenance": [],
   "toc_visible": true
  },
  "kernelspec": {
   "display_name": "Python 3",
   "language": "python",
   "name": "python3"
  },
  "language_info": {
   "codemirror_mode": {
    "name": "ipython",
    "version": 3
   },
   "file_extension": ".py",
   "mimetype": "text/x-python",
   "name": "python",
   "nbconvert_exporter": "python",
   "pygments_lexer": "ipython3",
   "version": "3.9.6"
  }
 },
 "nbformat": 4,
 "nbformat_minor": 0
}
