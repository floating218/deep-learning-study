{
 "cells": [
  {
   "cell_type": "markdown",
   "metadata": {},
   "source": [
    "# 핸즈온ML14 합성곱 신경망을 사용한 컴퓨터 비전"
   ]
  },
  {
   "cell_type": "markdown",
   "metadata": {},
   "source": [
    "### 합성곱층\n",
    "\n",
    "-   입력층: 이미지 픽셀 정보\n",
    "-   합성곱 층 1: 합성곱 층 뉴런의 수용장 안에 있는 픽셀과 해당 층의 뉴런이 연결된다. 하나의 뉴런이 모든 픽셀과 연결되지 않고, 일부에만 연결된다.\n",
    "-   합성곱 층 2: 이전 층의 작은 사각 영역 안에 위치한 뉴런과 해당 층의 뉴런이 연결된다. \n",
    "\n",
    "### 데이터 불러오기\n",
    "\n",
    "```\n",
    "(X_train_full, y_train_full), (X_test, y_test) = keras.datasets.fashion_mnist.load_data()\n",
    "X_train, X_valid = X_train_full[:-5000], X_train_full[-5000:]\n",
    "y_train, y_valid = y_train_full[:-5000], y_train_full[-5000:]\n",
    "\n",
    "X_mean = X_train.mean(axis=0, keepdims=True)\n",
    "X_std = X_train.std(axis=0, keepdims=True) + 1e-7\n",
    "X_train = (X_train - X_mean) / X_std\n",
    "X_valid = (X_valid - X_mean) / X_std\n",
    "X_test = (X_test - X_mean) / X_std\n",
    "\n",
    "X_train = X_train[..., np.newaxis]\n",
    "X_valid = X_valid[..., np.newaxis]\n",
    "X_test = X_test[..., np.newaxis]\n",
    "```\n",
    "\n",
    "### CNN 구조\n",
    "\n",
    "#### Conv2D\n",
    "\n",
    "-   kernel\\_size = 3 : 3X3 사이즈라는 뜻.\n",
    "-   strides = (1,1)이 디폴트임 : 가로로 1칸씩 세로로 1칸씩 이라는 뜻\n",
    "-   padding = 'valid'가 디폴트. valid는 패딩을 하지 않는 것, same은 왼쪽 오른쪽 위 아래 패딩을 고르게 분포시킨다는 뜻이다. \n",
    "\n",
    "#### Pooling \n",
    "\n",
    "-   MaxPool2D: 최대값으로 풀링 하는 것\n",
    "    -   pool\\_size = (2,2)로 디폴트. 그냥 정수만 넣으면 정사각형이라고 간주함\n",
    "    -   strides =None이 디폴트\n",
    "    -   padding = 'valid'가 디폴트\n",
    "-   AveragePooling2D: 평균 값으로 풀링 하는 것\n",
    "\n",
    "```\n",
    "from functools import partial\n",
    "\n",
    "DefaultConv2D = partial(keras.layers.Conv2D,\n",
    "                        kernel_size=3, activation='relu', padding=\"SAME\")\n",
    "\n",
    "model = keras.models.Sequential([\n",
    "    DefaultConv2D(filters=64, kernel_size=7, input_shape=[28, 28, 1]),\n",
    "    keras.layers.MaxPooling2D(pool_size=2),\n",
    "    DefaultConv2D(filters=128),\n",
    "    DefaultConv2D(filters=128),\n",
    "    keras.layers.MaxPooling2D(pool_size=2),\n",
    "    DefaultConv2D(filters=256),\n",
    "    DefaultConv2D(filters=256),\n",
    "    keras.layers.MaxPooling2D(pool_size=2),\n",
    "    keras.layers.Flatten(),\n",
    "    keras.layers.Dense(units=128, activation='relu'),\n",
    "    keras.layers.Dropout(0.5),\n",
    "    keras.layers.Dense(units=64, activation='relu'),\n",
    "    keras.layers.Dropout(0.5),\n",
    "    keras.layers.Dense(units=10, activation='softmax'),\n",
    "])\n",
    "\n",
    "model.compile(loss=\"sparse_categorical_crossentropy\", optimizer=\"nadam\", metrics=[\"accuracy\"])\n",
    "history = model.fit(X_train, y_train, epochs=10, validation_data=(X_valid, y_valid))\n",
    "score = model.evaluate(X_test, y_test)\n",
    "X_new = X_test[:10] # 새로운 이미지처럼 사용합니다\n",
    "y_pred = model.predict(X_new)\n",
    "```"
   ]
  },
  {
   "cell_type": "markdown",
   "metadata": {},
   "source": []
  }
 ],
 "metadata": {
  "language_info": {
   "name": "python"
  },
  "orig_nbformat": 4
 },
 "nbformat": 4,
 "nbformat_minor": 2
}
