{
 "cells": [
  {
   "cell_type": "code",
   "execution_count": 1,
   "id": "085c8b6e",
   "metadata": {},
   "outputs": [],
   "source": [
    "# 파이썬 ≥3.5 필수\n",
    "import sys\n",
    "assert sys.version_info >= (3, 5)\n",
    "\n",
    "# 사이킷런 ≥0.20 필수\n",
    "import sklearn\n",
    "assert sklearn.__version__ >= \"0.20\"\n",
    "\n",
    "# 텐서플로 ≥2.0 필수\n",
    "import tensorflow as tf\n",
    "from tensorflow import keras\n",
    "assert tf.__version__ >= \"2.0\"\n",
    "\n",
    "%load_ext tensorboard\n",
    "\n",
    "# 공통 모듈 임포트\n",
    "import numpy as np\n",
    "import os\n",
    "\n",
    "# 노트북 실행 결과를 동일하게 유지하기 위해\n",
    "np.random.seed(42)\n",
    "\n",
    "# 깔끔한 그래프 출력을 위해\n",
    "%matplotlib inline\n",
    "import matplotlib as mpl\n",
    "import matplotlib.pyplot as plt\n",
    "mpl.rc('axes', labelsize=14)\n",
    "mpl.rc('xtick', labelsize=12)\n",
    "mpl.rc('ytick', labelsize=12)\n",
    "\n",
    "# 그림을 저장할 위치\n",
    "PROJECT_ROOT_DIR = \".\"\n",
    "CHAPTER_ID = \"deep\"\n",
    "IMAGES_PATH = os.path.join(PROJECT_ROOT_DIR, \"images\", CHAPTER_ID)\n",
    "os.makedirs(IMAGES_PATH, exist_ok=True)\n",
    "\n",
    "def save_fig(fig_id, tight_layout=True, fig_extension=\"png\", resolution=300):\n",
    "    path = os.path.join(IMAGES_PATH, fig_id + \".\" + fig_extension)\n",
    "    print(\"그림 저장:\", fig_id)\n",
    "    if tight_layout:\n",
    "        plt.tight_layout()\n",
    "    plt.savefig(path, format=fig_extension, dpi=resolution)"
   ]
  },
  {
   "cell_type": "markdown",
   "id": "b7f2ee13",
   "metadata": {},
   "source": [
    "# 데이터 가져오는 코드\n",
    "- 샘플 데이터 읽기는 `keras.datasets.fashion_mnist.load_data()`, (xtrain,ytrain),(xtest,ytest)형태로 불러온다.  \n",
    "\n",
    "```\n",
    "fashion_mnist = keras.datasets.fashion_mnist\n",
    "(X_train_full, y_train_full), (X_test, y_test) = fashion_mnist.load_data()\n",
    "```\n",
    "\n",
    "\n",
    "```"
   ]
  },
  {
   "cell_type": "markdown",
   "id": "0c9a1f74",
   "metadata": {},
   "source": [
    "# 모델 만드는 기본 틀\n",
    "\n",
    "- 시작  \n",
    "`keras.backend.clear_session()`  \n",
    "`np.random.seed(42)`  \n",
    "`tf.random.set_seed(42)`  \n",
    "\n",
    "- 층 쌓기  \n",
    "`model = keras.models.Sequential([\n",
    "    keras.layers.Flatten(input_shape=[28, 28]),\n",
    "    keras.layers.Dense(300, activation=\"relu\"),\n",
    "    keras.layers.Dense(100, activation=\"relu\"),\n",
    "    keras.layers.Dense(10, activation=\"softmax\")\n",
    "])`  \n",
    "\n",
    "- 컴파일 (loss, optimizer, metrics)  \n",
    "`model.compile(loss=\"sparse_categorical_crossentropy\", optimizer=\"sgd\", metrics=[\"accuracy\"])`\n",
    "\n",
    "- 모델 결과 확인  \n",
    "`model.summary()`\n",
    "`keras.utils.plot_model(model, \"my_fashion_mnist_model.png\", show_shapes=True)`\n",
    "\n",
    "- 학습 fit  \n",
    "`history = model.fit(X_train, y_train, epochs=30, validation_data=(X_valid, y_valid))`\n",
    "`pd.DataFrame(history.history).plot(figsize=(8, 5))`\n",
    "\n",
    "- 모델 검증 evaluate  \n",
    "`model.evaluate(X_test, y_test)`  \n",
    "\n",
    "- 예측 predict  \n",
    "`y_proba = model.predict(X_new)`  \n",
    "\n",
    "- 모델 저장  \n",
    "`model.save(\"my_keras_model.h5\")`  \n",
    "`model.save_weights(\"my_keras_weights.ckpt\")`  \n",
    "`model.load_weights(\"my_keras_weights.ckpt\")`  \n",
    "`model = keras.models.load_model(\"my_keras_model.h5\")`  \n",
    "\n"
   ]
  },
  {
   "cell_type": "code",
   "execution_count": 2,
   "id": "83f6573e",
   "metadata": {},
   "outputs": [
    {
     "ename": "SyntaxError",
     "evalue": "invalid syntax (<ipython-input-2-7b964ab73e45>, line 1)",
     "output_type": "error",
     "traceback": [
      "\u001b[0;36m  File \u001b[0;32m\"<ipython-input-2-7b964ab73e45>\"\u001b[0;36m, line \u001b[0;32m1\u001b[0m\n\u001b[0;31m    - `loss: mean_squared_error, binary_crossentropy, categorical_crossentropy, sparse_categorical_crossentropy`\u001b[0m\n\u001b[0m      ^\u001b[0m\n\u001b[0;31mSyntaxError\u001b[0m\u001b[0;31m:\u001b[0m invalid syntax\n"
     ]
    }
   ],
   "source": [
    "- `loss: mean_squared_error, binary_crossentropy, categorical_crossentropy, sparse_categorical_crossentropy`\n",
    "- `optimizer: \n",
    "optimizer = keras.optimizers.SGD(learning_rate=0.001, momentum=0.9)\n",
    "optimizer = keras.optimizers.SGD(learning_rate=0.001, momentum=0.9, nesterov=True)\n",
    "optimizer = keras.optimizers.Adagrad(learning_rate=0.001)\n",
    "optimizer = keras.optimizers.RMSprop(learning_rate=0.001, rho=0.9)\n",
    "optimizer = keras.optimizers.Adam(learning_rate=0.001, beta_1=0.9, beta_2=0.999)\n",
    "optimizer = keras.optimizers.Adamax(learning_rate=0.001, beta_1=0.9, beta_2=0.999)\n",
    "optimizer = keras.optimizers.Nadam(learning_rate=0.001, beta_1=0.9, beta_2=0.999)\n",
    "`\n",
    "- `metric: `"
   ]
  },
  {
   "cell_type": "markdown",
   "id": "140b9e4a",
   "metadata": {},
   "source": [
    "# 함수형 모델 만드는 법\n",
    "```\n",
    "input_A = keras.layers.Input(shape=[5], name=\"wide_input\")\n",
    "input_B = keras.layers.Input(shape=[6], name=\"deep_input\")\n",
    "hidden1 = keras.layers.Dense(30, activation=\"relu\")(input_B)\n",
    "hidden2 = keras.layers.Dense(30, activation=\"relu\")(hidden1)\n",
    "concat = keras.layers.concatenate([input_A, hidden2])\n",
    "output = keras.layers.Dense(1, name=\"main_output\")(concat)\n",
    "aux_output = keras.layers.Dense(1, name=\"aux_output\")(hidden2)\n",
    "model = keras.models.Model(inputs=[input_A, input_B],\n",
    "                           outputs=[output, aux_output])\n",
    "keras.utils.plot_model(model, \" 함수형api.png\", show_shapes=True)\n",
    "```"
   ]
  }
 ],
 "metadata": {
  "kernelspec": {
   "display_name": "conda_tensorflow2_p36",
   "language": "python",
   "name": "conda_tensorflow2_p36"
  },
  "language_info": {
   "codemirror_mode": {
    "name": "ipython",
    "version": 3
   },
   "file_extension": ".py",
   "mimetype": "text/x-python",
   "name": "python",
   "nbconvert_exporter": "python",
   "pygments_lexer": "ipython3",
   "version": "3.6.13"
  }
 },
 "nbformat": 4,
 "nbformat_minor": 5
}
