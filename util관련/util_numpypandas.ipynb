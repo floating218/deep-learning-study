{
 "cells": [
  {
   "cell_type": "code",
   "execution_count": 1,
   "id": "8ba68a64",
   "metadata": {},
   "outputs": [],
   "source": [
    "import numpy as np"
   ]
  },
  {
   "cell_type": "code",
   "execution_count": 4,
   "id": "5f1e99e2",
   "metadata": {},
   "outputs": [
    {
     "data": {
      "text/plain": [
       "array([[  1,  10, 100],\n",
       "       [  2,  20, 200],\n",
       "       [  3,  30, 300]])"
      ]
     },
     "execution_count": 4,
     "metadata": {},
     "output_type": "execute_result"
    }
   ],
   "source": [
    "#3*2\n",
    "a=np.array([[1,10],\n",
    "           [2,20],\n",
    "           [3,30]])\n",
    "b=np.array([100,200,300])\n",
    "#-1*1 = 3*1 row수를 같게함\n",
    "b=b.reshape(-1,1)\n",
    "#row끼리 붙임\n",
    "np.hstack((a,b))"
   ]
  },
  {
   "cell_type": "code",
   "execution_count": 7,
   "id": "cd6c694f",
   "metadata": {},
   "outputs": [
    {
     "data": {
      "text/plain": [
       "array([[ 1, 10],\n",
       "       [ 2, 20],\n",
       "       [ 3, 30],\n",
       "       [ 4, 40]])"
      ]
     },
     "execution_count": 7,
     "metadata": {},
     "output_type": "execute_result"
    }
   ],
   "source": [
    "#3*2\n",
    "a=np.array([[1,10],\n",
    "           [2,20],\n",
    "           [3,30]])\n",
    "b=np.array([4,40])\n",
    "#1*-1 = 3*1 col수를 같게함\n",
    "b=b.reshape(1,-1)\n",
    "#row끼리 붙임\n",
    "np.vstack((a,b))"
   ]
  },
  {
   "cell_type": "code",
   "execution_count": null,
   "id": "53c31e0b",
   "metadata": {},
   "outputs": [],
   "source": [
    "<pandas.core.strings.StringMethods at 0x7fa796c43f98>\n",
    "이거 연구 필요. .len() 이런게 가능한듯"
   ]
  }
 ],
 "metadata": {
  "kernelspec": {
   "display_name": "Python 3 (ipykernel)",
   "language": "python",
   "name": "python3"
  },
  "language_info": {
   "codemirror_mode": {
    "name": "ipython",
    "version": 3
   },
   "file_extension": ".py",
   "mimetype": "text/x-python",
   "name": "python",
   "nbconvert_exporter": "python",
   "pygments_lexer": "ipython3",
   "version": "3.7.12"
  }
 },
 "nbformat": 4,
 "nbformat_minor": 5
}
