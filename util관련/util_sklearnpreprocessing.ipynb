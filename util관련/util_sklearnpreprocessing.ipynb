{
 "cells": [
  {
   "cell_type": "markdown",
   "metadata": {},
   "source": [
    "### Scale 스케일링\n",
    "- scale(x) : 같은 column끼리 z = (x - u) / s 수행함.\n",
    "- minmax_scale(x)\n",
    "```\n",
    "instance.fit()# 계수 추정\n",
    "instance.transform()# 자료 변환\n",
    "instance.fit_transform()# 계수 추정, 자료 변환\n",
    "```\n",
    "- StandardScaler().fit_transform(data): z = (x - u) / s 에 따라 표준정규분포로 정규화\n",
    "\n",
    "### Normalize 노멀라이징\n",
    "- normalize(x): 하나의 row(벡터)의 길이(norm)이 무조건 1.0이 되도록 = 개별 데이터의 크기를 모두 같게 만드는 변환이다. \n",
    "\n",
    "### OneHotEncoder \n",
    "- OneHotEncoder().fit_transfrom(data): 원핫인코딩 변환\n",
    "\n",
    "### LabelEncoder\n",
    "- LabelEncoder().fit_transfrom(data): 숫자 인덱스로 변환\n",
    "\n",
    "### Binarizer\n",
    "- Binarizer(threshold=0).fit_transform(data): threshold 초과 여부에 따라 0,1로 변환"
   ]
  },
  {
   "cell_type": "code",
   "execution_count": 5,
   "metadata": {},
   "outputs": [],
   "source": [
    "from sklearn.preprocessing import *\n",
    "import numpy as np\n",
    "import pandas as pd"
   ]
  },
  {
   "cell_type": "code",
   "execution_count": 27,
   "metadata": {},
   "outputs": [
    {
     "name": "stderr",
     "output_type": "stream",
     "text": [
      "C:\\Users\\USER-PC\\AppData\\Local\\Temp/ipykernel_26572/536568765.py:1: DeprecationWarning: `np.float` is a deprecated alias for the builtin `float`. To silence this warning, use `float` by itself. Doing this will not modify any behavior and is safe. If you specifically wanted the numpy scalar type, use `np.float64` here.\n",
      "Deprecated in NumPy 1.20; for more details and guidance: https://numpy.org/devdocs/release/1.20.0-notes.html#deprecations\n",
      "  x = (np.arange(10, dtype=np.float) - 3).reshape(-1, 1)\n"
     ]
    },
    {
     "data": {
      "text/html": [
       "<div>\n",
       "<style scoped>\n",
       "    .dataframe tbody tr th:only-of-type {\n",
       "        vertical-align: middle;\n",
       "    }\n",
       "\n",
       "    .dataframe tbody tr th {\n",
       "        vertical-align: top;\n",
       "    }\n",
       "\n",
       "    .dataframe thead th {\n",
       "        text-align: right;\n",
       "    }\n",
       "</style>\n",
       "<table border=\"1\" class=\"dataframe\">\n",
       "  <thead>\n",
       "    <tr style=\"text-align: right;\">\n",
       "      <th></th>\n",
       "      <th>x</th>\n",
       "      <th>scale(x)</th>\n",
       "      <th>robust_scale(x)</th>\n",
       "      <th>minmax_scale(x)</th>\n",
       "      <th>maxabs_scale(x)</th>\n",
       "      <th>normalize(x)</th>\n",
       "      <th>d</th>\n",
       "    </tr>\n",
       "  </thead>\n",
       "  <tbody>\n",
       "    <tr>\n",
       "      <th>0</th>\n",
       "      <td>-3.0</td>\n",
       "      <td>-1.566699</td>\n",
       "      <td>-1.000000</td>\n",
       "      <td>0.000000</td>\n",
       "      <td>-0.500000</td>\n",
       "      <td>-1.0</td>\n",
       "      <td>-1.0</td>\n",
       "    </tr>\n",
       "    <tr>\n",
       "      <th>1</th>\n",
       "      <td>-2.0</td>\n",
       "      <td>-1.218544</td>\n",
       "      <td>-0.777778</td>\n",
       "      <td>0.111111</td>\n",
       "      <td>-0.333333</td>\n",
       "      <td>-1.0</td>\n",
       "      <td>-1.0</td>\n",
       "    </tr>\n",
       "    <tr>\n",
       "      <th>2</th>\n",
       "      <td>-1.0</td>\n",
       "      <td>-0.870388</td>\n",
       "      <td>-0.555556</td>\n",
       "      <td>0.222222</td>\n",
       "      <td>-0.166667</td>\n",
       "      <td>-1.0</td>\n",
       "      <td>-1.0</td>\n",
       "    </tr>\n",
       "    <tr>\n",
       "      <th>3</th>\n",
       "      <td>0.0</td>\n",
       "      <td>-0.522233</td>\n",
       "      <td>-0.333333</td>\n",
       "      <td>0.333333</td>\n",
       "      <td>0.000000</td>\n",
       "      <td>0.0</td>\n",
       "      <td>0.0</td>\n",
       "    </tr>\n",
       "    <tr>\n",
       "      <th>4</th>\n",
       "      <td>1.0</td>\n",
       "      <td>-0.174078</td>\n",
       "      <td>-0.111111</td>\n",
       "      <td>0.444444</td>\n",
       "      <td>0.166667</td>\n",
       "      <td>1.0</td>\n",
       "      <td>1.0</td>\n",
       "    </tr>\n",
       "    <tr>\n",
       "      <th>5</th>\n",
       "      <td>2.0</td>\n",
       "      <td>0.174078</td>\n",
       "      <td>0.111111</td>\n",
       "      <td>0.555556</td>\n",
       "      <td>0.333333</td>\n",
       "      <td>1.0</td>\n",
       "      <td>1.0</td>\n",
       "    </tr>\n",
       "    <tr>\n",
       "      <th>6</th>\n",
       "      <td>3.0</td>\n",
       "      <td>0.522233</td>\n",
       "      <td>0.333333</td>\n",
       "      <td>0.666667</td>\n",
       "      <td>0.500000</td>\n",
       "      <td>1.0</td>\n",
       "      <td>1.0</td>\n",
       "    </tr>\n",
       "    <tr>\n",
       "      <th>7</th>\n",
       "      <td>4.0</td>\n",
       "      <td>0.870388</td>\n",
       "      <td>0.555556</td>\n",
       "      <td>0.777778</td>\n",
       "      <td>0.666667</td>\n",
       "      <td>1.0</td>\n",
       "      <td>1.0</td>\n",
       "    </tr>\n",
       "    <tr>\n",
       "      <th>8</th>\n",
       "      <td>5.0</td>\n",
       "      <td>1.218544</td>\n",
       "      <td>0.777778</td>\n",
       "      <td>0.888889</td>\n",
       "      <td>0.833333</td>\n",
       "      <td>1.0</td>\n",
       "      <td>1.0</td>\n",
       "    </tr>\n",
       "    <tr>\n",
       "      <th>9</th>\n",
       "      <td>6.0</td>\n",
       "      <td>1.566699</td>\n",
       "      <td>1.000000</td>\n",
       "      <td>1.000000</td>\n",
       "      <td>1.000000</td>\n",
       "      <td>1.0</td>\n",
       "      <td>1.0</td>\n",
       "    </tr>\n",
       "  </tbody>\n",
       "</table>\n",
       "</div>"
      ],
      "text/plain": [
       "     x  scale(x)  robust_scale(x)  minmax_scale(x)  maxabs_scale(x)  \\\n",
       "0 -3.0 -1.566699        -1.000000         0.000000        -0.500000   \n",
       "1 -2.0 -1.218544        -0.777778         0.111111        -0.333333   \n",
       "2 -1.0 -0.870388        -0.555556         0.222222        -0.166667   \n",
       "3  0.0 -0.522233        -0.333333         0.333333         0.000000   \n",
       "4  1.0 -0.174078        -0.111111         0.444444         0.166667   \n",
       "5  2.0  0.174078         0.111111         0.555556         0.333333   \n",
       "6  3.0  0.522233         0.333333         0.666667         0.500000   \n",
       "7  4.0  0.870388         0.555556         0.777778         0.666667   \n",
       "8  5.0  1.218544         0.777778         0.888889         0.833333   \n",
       "9  6.0  1.566699         1.000000         1.000000         1.000000   \n",
       "\n",
       "   normalize(x)    d  \n",
       "0          -1.0 -1.0  \n",
       "1          -1.0 -1.0  \n",
       "2          -1.0 -1.0  \n",
       "3           0.0  0.0  \n",
       "4           1.0  1.0  \n",
       "5           1.0  1.0  \n",
       "6           1.0  1.0  \n",
       "7           1.0  1.0  \n",
       "8           1.0  1.0  \n",
       "9           1.0  1.0  "
      ]
     },
     "execution_count": 27,
     "metadata": {},
     "output_type": "execute_result"
    }
   ],
   "source": [
    "x = (np.arange(10, dtype=np.float) - 3).reshape(-1, 1)\n",
    "df = pd.DataFrame(np.hstack([x, scale(x), robust_scale(x), minmax_scale(x), maxabs_scale(x), normalize(x), Normalizer().fit_transform(x)]),\n",
    "                 columns=[\"x\", \"scale(x)\", \"robust_scale(x)\", \"minmax_scale(x)\", \"maxabs_scale(x)\", \"normalize(x)\",\"d\"])\n",
    "df"
   ]
  },
  {
   "cell_type": "code",
   "execution_count": 15,
   "metadata": {},
   "outputs": [
    {
     "data": {
      "text/plain": [
       "(1.9738430577598278, 1.0)"
      ]
     },
     "execution_count": 15,
     "metadata": {},
     "output_type": "execute_result"
    }
   ],
   "source": [
    "from sklearn.datasets import load_iris\n",
    "iris = load_iris()\n",
    "\n",
    "data1 = iris.data\n",
    "data2 = scale(iris.data)\n",
    "\n",
    "scaler = StandardScaler()\n",
    "scaler.fit(data1)\n",
    "data2 = scaler.transform(data1)\n",
    "data1.std(), data2.std()"
   ]
  },
  {
   "cell_type": "code",
   "execution_count": 31,
   "metadata": {},
   "outputs": [
    {
     "data": {
      "text/plain": [
       "array([-1.41421356, -0.70710678,  0.        ,  0.70710678,  1.41421356])"
      ]
     },
     "execution_count": 31,
     "metadata": {},
     "output_type": "execute_result"
    }
   ],
   "source": [
    "lst=np.array([-20,-19,-18,-17,-16])\n",
    "(lst-np.mean(lst))/np.std(lst)"
   ]
  },
  {
   "cell_type": "code",
   "execution_count": 33,
   "metadata": {},
   "outputs": [
    {
     "name": "stdout",
     "output_type": "stream",
     "text": [
      "original x:\n",
      " [[-20.  -2.]\n",
      " [-19.  -1.]\n",
      " [-18.   0.]\n",
      " [-17.   1.]\n",
      " [-16.   2.]]\n",
      "scale:\n",
      " [[-1.41421356 -1.41421356]\n",
      " [-0.70710678 -0.70710678]\n",
      " [ 0.          0.        ]\n",
      " [ 0.70710678  0.70710678]\n",
      " [ 1.41421356  1.41421356]]\n",
      "norms (scale)\n",
      " [2. 1. 0. 1. 2.]\n",
      "normlize:\n",
      " [[-0.99503719 -0.09950372]\n",
      " [-0.99861783 -0.05255883]\n",
      " [-1.          0.        ]\n",
      " [-0.99827437  0.05872202]\n",
      " [-0.99227788  0.12403473]]\n",
      "norms (normalize)\n",
      " [1. 1. 1. 1. 1.]\n"
     ]
    }
   ],
   "source": [
    "x = np.vstack([np.arange(5, dtype=float) - 20, np.arange(5, dtype=float) - 2]).T\n",
    "y1 = scale(x)\n",
    "y2 = normalize(x)\n",
    "\n",
    "print(\"original x:\\n\", x)\n",
    "print(\"scale:\\n\", y1)\n",
    "print(\"norms (scale)\\n\", np.linalg.norm(y1, axis=1))\n",
    "print(\"normlize:\\n\", y2)\n",
    "print(\"norms (normalize)\\n\", np.linalg.norm(y2, axis=1))"
   ]
  },
  {
   "cell_type": "code",
   "execution_count": 35,
   "metadata": {},
   "outputs": [
    {
     "data": {
      "text/plain": [
       "array([[1., 0., 0.],\n",
       "       [0., 1., 0.],\n",
       "       [0., 0., 1.]])"
      ]
     },
     "execution_count": 35,
     "metadata": {},
     "output_type": "execute_result"
    }
   ],
   "source": [
    "ohe = OneHotEncoder()\n",
    "X = np.array([[0], [1], [5]])\n",
    "ohe.fit_transform(X).toarray()"
   ]
  },
  {
   "cell_type": "code",
   "execution_count": 37,
   "metadata": {},
   "outputs": [
    {
     "data": {
      "text/plain": [
       "array([1, 1, 2, 0], dtype=int64)"
      ]
     },
     "execution_count": 37,
     "metadata": {},
     "output_type": "execute_result"
    }
   ],
   "source": [
    "le = LabelEncoder()\n",
    "le.fit_transform([\"paris\", \"paris\", \"tokyo\", \"amsterdam\"])"
   ]
  },
  {
   "cell_type": "code",
   "execution_count": 40,
   "metadata": {},
   "outputs": [
    {
     "data": {
      "text/plain": [
       "array([[0., 0., 1.],\n",
       "       [1., 0., 0.],\n",
       "       [0., 0., 0.]])"
      ]
     },
     "execution_count": 40,
     "metadata": {},
     "output_type": "execute_result"
    }
   ],
   "source": [
    "X = [[ 1., -1.,  2.],\n",
    "     [ 2.,  0.,  0.],\n",
    "     [ 0.,  1., -1.]]\n",
    "Binarizer(threshold=1).fit_transform(X)"
   ]
  }
 ],
 "metadata": {
  "interpreter": {
   "hash": "5812e37fbc42ae0019c075dcd625ea6adf837b197758e07cfdfe5b415c77a600"
  },
  "kernelspec": {
   "display_name": "Python 3.9.6 64-bit",
   "language": "python",
   "name": "python3"
  },
  "language_info": {
   "codemirror_mode": {
    "name": "ipython",
    "version": 3
   },
   "file_extension": ".py",
   "mimetype": "text/x-python",
   "name": "python",
   "nbconvert_exporter": "python",
   "pygments_lexer": "ipython3",
   "version": "3.9.6"
  },
  "orig_nbformat": 4
 },
 "nbformat": 4,
 "nbformat_minor": 2
}
