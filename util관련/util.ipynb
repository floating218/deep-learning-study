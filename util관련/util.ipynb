{
 "cells": [
  {
   "cell_type": "markdown",
   "metadata": {},
   "source": [
    "# argparse\n",
    "- '--argname'으로 콘솔에 입력했던 인수는 args.argname으로 호출할 수 있음"
   ]
  },
  {
   "cell_type": "code",
   "execution_count": 4,
   "metadata": {},
   "outputs": [],
   "source": [
    "import argparse\n",
    "\n",
    "def parse_args():\n",
    "    parser = argparse.ArgumentParser(description=\"parser name\")\n",
    "    parser.add_argument('--arg1', type=str, help='first arg')\n",
    "    parser.add_argument('--arg2', type=str, help='second arg')\n",
    "    return parser.parse_args()\n",
    "\n",
    "args=parse_args()\n",
    "print(args)"
   ]
  },
  {
   "cell_type": "markdown",
   "metadata": {},
   "source": [
    "# os\n",
    "- os.getcwd()\n",
    "- os.chdir('D:/') : 현재 작업 폴더 변경\n",
    "- os.listdir('D:/') : 폴더 리스트\n",
    "- os.mkdir('D:/test') : 폴더 생성\n",
    "- os.rmdir('D:/test) : 빈폴더 삭제\n",
    "\n",
    "- os.path.isdir('D:/User/User/Desktop/test') : 폴더 여부 반환\n",
    "- os.path.isfile('D:/User/User/Desktop/test.txt')\n",
    "- os.path.getsize('D:/User/User/Desktop/test.txt') : 단위는 byte\n",
    "- os.path.split('D:/User/User/Desktop/test.txt') : ('D:/User/User/Desktop/','test.txt') \n",
    "- os.path.join(path, filename) : 파일명과 경로를 합치기\n",
    "- os.path.dirname(path) : 폴더 경로만 꺼냄\n",
    "- os.path.basename(path) : 파일 이름만 꺼냄"
   ]
  },
  {
   "cell_type": "markdown",
   "metadata": {},
   "source": []
  }
 ],
 "metadata": {
  "interpreter": {
   "hash": "5812e37fbc42ae0019c075dcd625ea6adf837b197758e07cfdfe5b415c77a600"
  },
  "kernelspec": {
   "display_name": "Python 3.9.6 64-bit",
   "language": "python",
   "name": "python3"
  },
  "language_info": {
   "codemirror_mode": {
    "name": "ipython",
    "version": 3
   },
   "file_extension": ".py",
   "mimetype": "text/x-python",
   "name": "python",
   "nbconvert_exporter": "python",
   "pygments_lexer": "ipython3",
   "version": "3.9.6"
  },
  "orig_nbformat": 4
 },
 "nbformat": 4,
 "nbformat_minor": 2
}
