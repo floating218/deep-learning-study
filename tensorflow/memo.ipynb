{
 "cells": [
  {
   "cell_type": "markdown",
   "metadata": {},
   "source": [
    "# 텐서플로를 사용하는 방법(tf.Tensor)\n",
    "\n",
    "- `tf.constant([[1,2,3],[4,5,6]])`\n",
    "- 계산\n",
    "  - `tf.square(t)` \n",
    "  - `t@tf.transpose(t)` \n",
    "  - `tf.add(t,t), tf.multiply(t,t), tf.square(t), tf.exp(t), tf.sqrt(t)`\n",
    "  - `tf.reduce_sum(t), tf.reduce_mean(t), tf.reduce_max(t), tf.math.log(t)`\n",
    "- 형식변경\n",
    "  - `tf.constant(a), t.numpy(), np.array(t), tf.square(a), np.square(t)`\n",
    "- 타입 변경\n",
    "  - `tf.constant(40., dtype=tf.float64)`\n",
    "- 문자열\n",
    "```\n",
    "tf.constant(b\"hello\")\n",
    "tf.constant(\"hello\")\n",
    "enc=tf.strings.unicode_encode(tf.constant([ord(c) for c in \"hello\"]),\"UTF-8\")\n",
    "dec=tf.strings.unicode_decode(enc, \"UTF-8\")\n",
    "```\n",
    "\n",
    "- 희소 텐서 `tf.SparseTensor()`\n",
    "- to_dense `tf.sparse.to_dense(t)` : 희소 텐서를 실제 텐서 형태로 리턴해줌 (0 채워서)\n",
    "```\n",
    "t = tf.SparseTensor(indices=[[0, 1], [1, 0], [2, 3]],\n",
    "                    values=[1., 2., 3.],\n",
    "                    dense_shape=[3, 4])\n",
    "print(t)\n",
    "print(tf.sparse.to_dense(t))\n",
    "```\n",
    "- 집합 `tf.sets.union(tensor1,tensor2)`, `tf.sets.intersection(tensor1,tensor2)`, `tf.sets.difference(tensor1,tensor2)`\n",
    "  \n",
    "# 인덱싱 하는법\n",
    "- `...`와 `:`는 같은 효과이다.\n",
    "```\n",
    "t=tf.constant([[1,2,3],[4,5,6]])\n",
    "\n",
    "print(t[:,1:])\n",
    "print(t[...,1:])\n",
    "\n",
    "```\n",
    "- 인덱싱할 때 `tf.newaxis` 넣으면 1차원을 늘릴수가 있다. \n",
    "```\n",
    "t=tf.constant([[1,2,3],[4,5,6]])\n",
    "\n",
    "t[:,:].shape, t[:,:,tf.newaxis].shape #(2,3) -> (2,3,1)\n",
    "t[:,1].shape, t[:,1,tf.newaxis].shape #(2) -> (2,1)\n",
    "t[1,:].shape, t[tf.newaxis,1,:].shape #(3) -> (1,3)\n",
    "```\n",
    "\n",
    "# tf.Variable\n",
    "- 변수에 해당하는 Variable은 변숫값을 함부러 바꾸지 못하고, v.assign을 통해 바꿀 수 있다. \n",
    "```\n",
    "v = tf.Variable([[1., 2., 3.], [4., 5., 6.]])\n",
    "v.assign(2*v)\n",
    "```\n",
    "- 그 외 `v.assign_add()`, `v.assign_sub()`\n"
   ]
  },
  {
   "cell_type": "code",
   "execution_count": 1,
   "metadata": {},
   "outputs": [],
   "source": [
    "import tensorflow as tf\n",
    "\n",
    "t=tf.constant([[1,2,3],[4,5,6]])\n"
   ]
  },
  {
   "cell_type": "code",
   "execution_count": 2,
   "metadata": {},
   "outputs": [
    {
     "data": {
      "text/plain": [
       "(<tf.Tensor: shape=(2, 2), dtype=int32, numpy=\n",
       " array([[2, 3],\n",
       "        [5, 6]])>,\n",
       " <tf.Tensor: shape=(2, 2), dtype=int32, numpy=\n",
       " array([[2, 3],\n",
       "        [5, 6]])>)"
      ]
     },
     "execution_count": 2,
     "metadata": {},
     "output_type": "execute_result"
    }
   ],
   "source": [
    "t[:,1:],t[...,1:]"
   ]
  },
  {
   "cell_type": "code",
   "execution_count": 15,
   "metadata": {},
   "outputs": [
    {
     "data": {
      "text/plain": [
       "(TensorShape([3]), TensorShape([1, 3]))"
      ]
     },
     "execution_count": 15,
     "metadata": {},
     "output_type": "execute_result"
    }
   ],
   "source": [
    "t=tf.constant([[1,2,3],[4,5,6]])\n",
    "new=t[:,:,tf.newaxis] #\n",
    "t[:,:].shape, t[:,:,tf.newaxis].shape #(2,3) -> (2,3,1)\n",
    "t[:,1].shape, t[:,1,tf.newaxis].shape #(2) -> (2,1)\n",
    "t[1,:].shape, t[tf.newaxis,1,:].shape #(3) -> (1,3)"
   ]
  },
  {
   "cell_type": "code",
   "execution_count": null,
   "metadata": {},
   "outputs": [],
   "source": []
  }
 ],
 "metadata": {
  "interpreter": {
   "hash": "5812e37fbc42ae0019c075dcd625ea6adf837b197758e07cfdfe5b415c77a600"
  },
  "kernelspec": {
   "display_name": "Python 3.9.6 64-bit",
   "language": "python",
   "name": "python3"
  },
  "language_info": {
   "codemirror_mode": {
    "name": "ipython",
    "version": 3
   },
   "file_extension": ".py",
   "mimetype": "text/x-python",
   "name": "python",
   "nbconvert_exporter": "python",
   "pygments_lexer": "ipython3",
   "version": "3.9.6"
  },
  "orig_nbformat": 4
 },
 "nbformat": 4,
 "nbformat_minor": 2
}
