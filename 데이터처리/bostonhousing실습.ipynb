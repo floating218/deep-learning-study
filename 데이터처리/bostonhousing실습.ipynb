{
 "cells": [
  {
   "cell_type": "code",
   "execution_count": 1,
   "metadata": {},
   "outputs": [],
   "source": [
    "# 파이썬 ≥3.5 필수\n",
    "import sys\n",
    "assert sys.version_info >= (3, 5)\n",
    "\n",
    "# 사이킷런 ≥0.20 필수\n",
    "import sklearn\n",
    "assert sklearn.__version__ >= \"0.20\"\n",
    "\n",
    "try:\n",
    "    # %tensorflow_version은 코랩 명령입니다.\n",
    "    %tensorflow_version 2.x\n",
    "    !pip install -q -U tfx\n",
    "    print(\"패키지 호환 에러는 무시해도 괜찮습니다.\")\n",
    "except Exception:\n",
    "    pass\n",
    "\n",
    "# 텐서플로 ≥2.0 필수\n",
    "import tensorflow as tf\n",
    "from tensorflow import keras\n",
    "assert tf.__version__ >= \"2.0\"\n",
    "\n",
    "# 공통 모듈 임포트\u001f\n",
    "import numpy as np\n",
    "import os\n",
    "\n",
    "# 노트북 실행 결과를 동일하게 유지하기 위해\n",
    "np.random.seed(42)\n",
    "\n",
    "# 깔끔한 그래프 출력을 위해\n",
    "%matplotlib inline\n",
    "import matplotlib as mpl\n",
    "import matplotlib.pyplot as plt\n",
    "mpl.rc('axes', labelsize=14)\n",
    "mpl.rc('xtick', labelsize=12)\n",
    "mpl.rc('ytick', labelsize=12)\n",
    "\n",
    "# 그림을 저장할 위치\n",
    "PROJECT_ROOT_DIR = \".\"\n",
    "CHAPTER_ID = \"data\"\n",
    "IMAGES_PATH = os.path.join(PROJECT_ROOT_DIR, \"images\", CHAPTER_ID)\n",
    "os.makedirs(IMAGES_PATH, exist_ok=True)\n",
    "\n",
    "def save_fig(fig_id, tight_layout=True, fig_extension=\"png\", resolution=300):\n",
    "    path = os.path.join(IMAGES_PATH, fig_id + \".\" + fig_extension)\n",
    "    print(\"그림 저장:\", fig_id)\n",
    "    if tight_layout:\n",
    "        plt.tight_layout()\n",
    "    plt.savefig(path, format=fig_extension, dpi=resolution)"
   ]
  },
  {
   "cell_type": "markdown",
   "metadata": {},
   "source": [
    "Data description\n",
    "The Boston data frame has 506 rows and 14 columns.\n",
    "\n",
    "This data frame contains the following columns:\n",
    "\n",
    "## crim\n",
    "per capita crime rate by town.\n",
    "\n",
    "## zn\n",
    "proportion of residential land zoned for lots over 25,000 sq.ft.\n",
    "\n",
    "## indus\n",
    "proportion of non-retail business acres per town.\n",
    "\n",
    "## chas\n",
    "Charles River dummy variable (= 1 if tract bounds river; 0 otherwise).\n",
    "\n",
    "## nox\n",
    "nitrogen oxides concentration (parts per 10 million).\n",
    "\n",
    "## rm\n",
    "average number of rooms per dwelling.\n",
    "\n",
    "## age\n",
    "proportion of owner-occupied units built prior to 1940.\n",
    "\n",
    "## dis\n",
    "weighted mean of distances to five Boston employment centres.\n",
    "\n",
    "## rad\n",
    "index of accessibility to radial highways.\n",
    "\n",
    "## tax\n",
    "full-value property-tax rate per \\$10,000.\n",
    "\n",
    "## ptratio\n",
    "pupil-teacher ratio by town.\n",
    "\n",
    "## black\n",
    "1000(Bk - 0.63)^2 where Bk is the proportion of blacks by town.\n",
    "\n",
    "## lstat\n",
    "lower status of the population (percent).\n",
    "\n",
    "## medv\n",
    "median value of owner-occupied homes in \\$1000s."
   ]
  },
  {
   "cell_type": "code",
   "execution_count": 23,
   "metadata": {},
   "outputs": [],
   "source": [
    "from keras.datasets import boston_housing\n",
    "(train_data, train_targets), (test_data, test_targets) = boston_housing.load_data()"
   ]
  },
  {
   "cell_type": "code",
   "execution_count": 31,
   "metadata": {},
   "outputs": [
    {
     "data": {
      "text/plain": [
       "count    404.000000\n",
       "mean       3.745111\n",
       "std        9.240734\n",
       "min        0.006320\n",
       "25%        0.081437\n",
       "50%        0.268880\n",
       "75%        3.674808\n",
       "max       88.976200\n",
       "dtype: float64"
      ]
     },
     "execution_count": 31,
     "metadata": {},
     "output_type": "execute_result"
    }
   ],
   "source": [
    "import numpy as np\n",
    "import pandas as pd\n",
    "pd.Series(train_data[:,0]).describe()\n",
    "# plt.boxplot(train_data[:,0])"
   ]
  },
  {
   "cell_type": "code",
   "execution_count": 8,
   "metadata": {},
   "outputs": [],
   "source": [
    "mean = train_data.mean(axis=0)\n",
    "train_data -= mean\n",
    "std = train_data.std(axis=0)\n",
    "train_data /= std\n",
    "test_data -= mean\n",
    "test_data /= std"
   ]
  },
  {
   "cell_type": "code",
   "execution_count": 22,
   "metadata": {},
   "outputs": [
    {
     "data": {
      "text/plain": [
       "(404,)"
      ]
     },
     "execution_count": 22,
     "metadata": {},
     "output_type": "execute_result"
    }
   ],
   "source": [
    "train_data[:,0].shape"
   ]
  },
  {
   "cell_type": "code",
   "execution_count": 11,
   "metadata": {},
   "outputs": [],
   "source": [
    "from keras import models\n",
    "from keras import layers\n",
    "def build_model():\n",
    "    model = models.Sequential()\n",
    "    model.add(layers.Dense(64, activation='relu', input_shape=(train_data.shape[1],)))\n",
    "    model.add(layers.Dense(64, activation='relu'))\n",
    "    model.add(layers.Dense(1))\n",
    "    model.compile(optimizer='rmsprop', loss='mse', metrics=['mae'])\n",
    "    return model"
   ]
  },
  {
   "cell_type": "code",
   "execution_count": 15,
   "metadata": {},
   "outputs": [
    {
     "name": "stdout",
     "output_type": "stream",
     "text": [
      "processing fold # 0\n",
      "processing fold # 1\n",
      "processing fold # 2\n",
      "processing fold # 3\n"
     ]
    }
   ],
   "source": [
    "import numpy as np\n",
    "k=4\n",
    "num_val_samples = len(train_data) // k\n",
    "num_epochs = 100\n",
    "all_scores = []\n",
    "all_mae_histories = []\n",
    "for i in  range(k):\n",
    "    print(\"processing fold #\", i)\n",
    "    # 검증 데이터 분리\n",
    "    val_data  = train_data[i * num_val_samples: (i+1) * num_val_samples]\n",
    "    val_targets = train_targets[i * num_val_samples: (i+1) * num_val_samples]\n",
    "    \n",
    "    # 훈련 데이터 분리\n",
    "    partial_train_data = np.concatenate([train_data[:i*num_val_samples], train_data[(i + 1) * num_val_samples:]], axis=0)\n",
    "    partial_train_targets = np.concatenate([train_targets[:i*num_val_samples], train_targets[(i + 1) * num_val_samples:]], axis=0)\n",
    "    \n",
    "    # 모델 학습\n",
    "    model = build_model()\n",
    "    history = model.fit(partial_train_data, partial_train_targets, validation_data=(val_data, val_targets), epochs=num_epochs, batch_size=1, verbose=0)\n",
    "\n",
    "    mae_history = history.history['val_mae']\n",
    "    all_mae_histories.append(mae_history)\n",
    "\n",
    "    val_mse, val_mae = model.evaluate(val_data, val_targets, verbose=0)\n",
    "    all_scores.append(val_mae)"
   ]
  },
  {
   "cell_type": "code",
   "execution_count": 16,
   "metadata": {},
   "outputs": [
    {
     "data": {
      "image/png": "[encoded data removed]",
      "text/plain": [
       "<Figure size 432x288 with 1 Axes>"
      ]
     },
     "metadata": {
      "needs_background": "light"
     },
     "output_type": "display_data"
    }
   ],
   "source": [
    " \n",
    "import matplotlib.pyplot as plt\n",
    "average_mae_history = [np.mean([x[i] for x in all_mae_histories]) for i in range(num_epochs)]\n",
    "plt.figure(1)\n",
    "plt.plot(range(1, len(average_mae_history) + 1), average_mae_history, 'r', label='aver_mae')\n",
    "plt.title('MAE')\n",
    "plt.xlabel('Epochs')\n",
    "plt.ylabel('Validation MAE')\n",
    "plt.legend()\n",
    "plt.show()"
   ]
  },
  {
   "cell_type": "code",
   "execution_count": 17,
   "metadata": {},
   "outputs": [
    {
     "data": {
      "text/plain": [
       "[9.746753573417664,\n",
       " 7.820435285568237,\n",
       " 7.688177227973938,\n",
       " 6.166177988052368,\n",
       " 5.659617364406586,\n",
       " 6.778519988059998,\n",
       " 8.081584930419922,\n",
       " 5.915085554122925,\n",
       " 5.944534420967102,\n",
       " 4.347123444080353,\n",
       " 6.245115160942078,\n",
       " 5.437495708465576,\n",
       " 4.967913746833801,\n",
       " 6.078910827636719,\n",
       " 4.562866032123566,\n",
       " 4.626837968826294,\n",
       " 4.37217903137207,\n",
       " 5.454518795013428,\n",
       " 4.5399304032325745,\n",
       " 4.8550368547439575,\n",
       " 4.413112282752991,\n",
       " 4.266301691532135,\n",
       " 4.1520756483078,\n",
       " 4.554109334945679,\n",
       " 5.175742149353027,\n",
       " 4.0930368304252625,\n",
       " 4.376212120056152,\n",
       " 3.9411203861236572,\n",
       " 5.229575574398041,\n",
       " 3.809054911136627,\n",
       " 3.7025617957115173,\n",
       " 3.8942689895629883,\n",
       " 4.100541710853577,\n",
       " 3.5281066298484802,\n",
       " 3.863266885280609,\n",
       " 3.637873947620392,\n",
       " 3.7114478945732117,\n",
       " 3.722026288509369,\n",
       " 3.940508544445038,\n",
       " 3.3750815391540527,\n",
       " 3.5860307216644287,\n",
       " 3.498066782951355,\n",
       " 3.36240017414093,\n",
       " 3.730212092399597,\n",
       " 3.634961187839508,\n",
       " 3.480537176132202,\n",
       " 3.756750226020813,\n",
       " 3.6109743118286133,\n",
       " 3.2980923652648926,\n",
       " 3.3690885305404663,\n",
       " 3.2373358011245728,\n",
       " 3.7511643767356873,\n",
       " 3.7730435132980347,\n",
       " 3.8682146072387695,\n",
       " 3.2200013995170593,\n",
       " 3.5049978494644165,\n",
       " 3.1501718163490295,\n",
       " 3.8040428161621094,\n",
       " 4.024644374847412,\n",
       " 3.7941904067993164,\n",
       " 3.4449466466903687,\n",
       " 3.282672941684723,\n",
       " 3.4432284832000732,\n",
       " 3.4613860845565796,\n",
       " 3.3761061429977417,\n",
       " 2.980720102787018,\n",
       " 3.2970204949378967,\n",
       " 3.3252950310707092,\n",
       " 3.2189007997512817,\n",
       " 3.206464409828186,\n",
       " 3.6102631092071533,\n",
       " 3.2374380230903625,\n",
       " 3.1654765605926514,\n",
       " 3.0972381830215454,\n",
       " 3.0694777369499207,\n",
       " 3.5288564562797546,\n",
       " 3.1815890669822693,\n",
       " 3.410731017589569,\n",
       " 3.2020562291145325,\n",
       " 3.4135074615478516,\n",
       " 3.261514127254486,\n",
       " 3.5090140104293823,\n",
       " 3.0284390449523926,\n",
       " 3.3075926899909973,\n",
       " 3.4817473888397217,\n",
       " 3.47344833612442,\n",
       " 3.687628984451294,\n",
       " 3.3808470964431763,\n",
       " 3.3702287673950195,\n",
       " 3.752905786037445,\n",
       " 3.382660210132599,\n",
       " 3.3310027718544006,\n",
       " 3.3252333998680115,\n",
       " 3.953559160232544,\n",
       " 3.52764630317688,\n",
       " 3.6093490719795227,\n",
       " 3.0875688791275024,\n",
       " 3.0775439739227295,\n",
       " 3.5098047852516174,\n",
       " 3.465686082839966]"
      ]
     },
     "execution_count": 17,
     "metadata": {},
     "output_type": "execute_result"
    }
   ],
   "source": [
    "average_mae_history = [np.mean([x[i] for x in all_mae_histories]) for i in range(num_epochs)]\n",
    "average_mae_history"
   ]
  },
  {
   "cell_type": "code",
   "execution_count": null,
   "metadata": {},
   "outputs": [],
   "source": []
  }
 ],
 "metadata": {
  "interpreter": {
   "hash": "5812e37fbc42ae0019c075dcd625ea6adf837b197758e07cfdfe5b415c77a600"
  },
  "kernelspec": {
   "display_name": "Python 3.9.6 64-bit",
   "language": "python",
   "name": "python3"
  },
  "language_info": {
   "codemirror_mode": {
    "name": "ipython",
    "version": 3
   },
   "file_extension": ".py",
   "mimetype": "text/x-python",
   "name": "python",
   "nbconvert_exporter": "python",
   "pygments_lexer": "ipython3",
   "version": "3.9.6"
  },
  "orig_nbformat": 4
 },
 "nbformat": 4,
 "nbformat_minor": 2
}
