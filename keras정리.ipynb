{
 "cells": [
  {
   "cell_type": "markdown",
   "id": "78f013c1",
   "metadata": {},
   "source": [
    "# 데이터 가져오는 코드\n",
    "- 샘플 데이터 읽기는 `(xtrain,ytrain),(xtest,ytest) = keras.datasets.fashion_mnist.load_data()`, (xtrain,ytrain),(xtest,ytest)형태로 불러온다.  "
   ]
  },
  {
   "cell_type": "markdown",
   "id": "839531c4",
   "metadata": {},
   "source": [
    "# 케라스 모델링의 기본 플로우\n",
    "- 모델 클래스 만들기 (또는 그냥 케라스 층쌓아서 만들기)\n",
    "- 모델에 loss, optimizer, metric 정보를 넣어서 compile하기\n",
    "- 학습 데이터로 모델 학습 (fit)하기\n",
    "- 테스트 데이터로 모델 검증 (evaluate)하기\n",
    "- 새로운 인풋 데이터로 predict하기"
   ]
  },
  {
   "cell_type": "markdown",
   "id": "a3eb4d7d",
   "metadata": {},
   "source": [
    "# 모델 만드는 기본 틀\n",
    "\n",
    "- 시작  \n",
    "`keras.backend.clear_session()`  \n",
    "`np.random.seed(42)`  \n",
    "`tf.random.set_seed(42)`  \n",
    "\n",
    "- 층 쌓기  \n",
    "`model = keras.models.Sequential([\n",
    "    keras.layers.Flatten(input_shape=[28, 28]),\n",
    "    keras.layers.Dense(300, activation=\"relu\"),\n",
    "    keras.layers.Dense(100, activation=\"relu\"),\n",
    "    keras.layers.Dense(10, activation=\"softmax\")\n",
    "])`  \n",
    "\n",
    "- 함수형 모델 만들기  \n",
    "`input_A = keras.layers.Input(shape=[5], name=\"wide_input\")`  \n",
    "`input_B = keras.layers.Input(shape=[6], name=\"deep_input\")`  \n",
    "`hidden1 = keras.layers.Dense(30, activation=\"relu\")(input_B)`  \n",
    "`hidden2 = keras.layers.Dense(30, activation=\"relu\")(hidden1)`  \n",
    "`concat = keras.layers.concatenate([input_A, hidden2])`  \n",
    "`output = keras.layers.Dense(1, name=\"main_output\")(concat)`  \n",
    "`aux_output = keras.layers.Dense(1, name=\"aux_output\")(hidden2)`  \n",
    "`model = keras.models.Model(inputs=[input_A, input_B], outputs=[output, aux_output])`  \n",
    "`keras.utils.plot_model(model, \" 함수형api.png\", show_shapes=True)`  \n",
    "\n",
    "- 컴파일 (loss, optimizer, metrics)  \n",
    "`model.compile(loss=\"sparse_categorical_crossentropy\", optimizer=\"sgd\", metrics=[\"accuracy\"])`\n",
    "\n",
    "- 모델 결과 확인  \n",
    "`model.summary()`  \n",
    "`keras.utils.plot_model(model, \"my_fashion_mnist_model.png\", show_shapes=True)`\n",
    "\n",
    "- 학습 fit  \n",
    "`history = model.fit(X_train, y_train, epochs=30, validation_data=(X_valid, y_valid))`  \n",
    "`pd.DataFrame(history.history).plot(figsize=(8, 5))`\n",
    "\n",
    "- 모델 검증 evaluate  \n",
    "`model.evaluate(X_test, y_test)`  \n",
    "\n",
    "- 예측 predict  \n",
    "`y_proba = model.predict(X_new)`  \n",
    "\n",
    "- 모델 저장  \n",
    "`model.save(\"my_keras_model.h5\")`  \n",
    "`model.save_weights(\"my_keras_weights.ckpt\")`  \n",
    "`model.load_weights(\"my_keras_weights.ckpt\")`  \n",
    "`model = keras.models.load_model(\"my_keras_model.h5\")`  \n",
    "\n",
    "- 텐서보드  \n",
    "`import os`  \n",
    "`def get_run_logdir():\n",
    "    import time\n",
    "    run_id = time.strftime(\"run_%Y_%m_%d-%H_%M_%S\")\n",
    "    return os.path.join(os.path.join(os.curdir, \"my_logs\"), run_id)`  \n",
    "`run_logdir = get_run_logdir()`  \n",
    "`tensorboard_cb = keras.callbacks.TensorBoard(run_logdir)`  \n",
    "`history = model.fit(X_train, y_train, epochs=30, validation_data=(X_valid, y_valid), callbacks=[tensorboard_cb])`"
   ]
  },
  {
   "cell_type": "markdown",
   "id": "3314b410",
   "metadata": {},
   "source": [
    "# 사용자 정의 모델\n",
    "- keras.models.Model을 상속받는다.\n",
    "- init에서는 레이어를 정의한다. \n",
    "- call(self,inputs)에서는 input및 레이어를 연결하여 output을 도출하는 함수를 짠다."
   ]
  },
  {
   "cell_type": "code",
   "execution_count": 12,
   "id": "d3663803",
   "metadata": {},
   "outputs": [],
   "source": [
    "from tensorflow.keras.utils import plot_model\n",
    "class WideAndDeepModel(keras.models.Model):\n",
    "    def __init__(self, units=30, activation=\"relu\", **kwargs):\n",
    "        super().__init__(**kwargs)\n",
    "        self.hidden1 = keras.layers.Dense(units, activation=activation)\n",
    "        self.hidden2 = keras.layers.Dense(units, activation=activation)\n",
    "        self.main_output = keras.layers.Dense(1)\n",
    "        self.aux_output = keras.layers.Dense(1)\n",
    "        \n",
    "    def call(self, inputs):\n",
    "        input_A, input_B = inputs\n",
    "        hidden1 = self.hidden1(input_B)\n",
    "        hidden2 = self.hidden2(hidden1)\n",
    "        concat = keras.layers.concatenate([input_A, hidden2])\n",
    "        main_output = self.main_output(concat)\n",
    "        aux_output = self.aux_output(hidden2)\n",
    "        return main_output, aux_output\n",
    "\n",
    "model = WideAndDeepModel(30, activation=\"relu\")"
   ]
  },
  {
   "cell_type": "markdown",
   "id": "f8e2bf81",
   "metadata": {},
   "source": [
    "# 더 쉽게 클래스를 만드는 방법 (함수형 모델)\n",
    "- keras.models.Model을 상속받지 않는다. \n",
    "- init내부에서 레이어들을 정의, 연결\n",
    "- keras.Model(inputs레이어,outputs레이어)로 모델 정의\n",
    "- get_model 함수를 정의하여 모델 리턴하기"
   ]
  },
  {
   "cell_type": "code",
   "execution_count": 18,
   "id": "337b900f",
   "metadata": {},
   "outputs": [],
   "source": [
    "from tensorflow import keras\n",
    "\n",
    "class WideAndDeepModelFunc:\n",
    "    def __init__(self, input_A_len, input_B_len, units=30, activation='relu', **kwargs):\n",
    "        \n",
    "        input_A=keras.layers.Input(shape=(input_A_len,))\n",
    "        input_B=keras.layers.Input(shape=(input_B_len,))\n",
    "        \n",
    "        hidden1 = keras.layers.Dense(units, activation=activation)(input_B)\n",
    "        hidden2 = keras.layers.Dense(units, activation=activation)(hidden1)\n",
    "        concat = keras.layers.concatenate([input_A, input_B])\n",
    "        main_output = keras.layers.Dense(1)(concat)\n",
    "        aux_output = keras.layers.Dense(1)(hidden2)\n",
    "        \n",
    "        self.model = keras.models.Model([input_A,input_B], [main_output,aux_output])\n",
    "    \n",
    "    def get_model(self):\n",
    "        return self.model\n",
    "\n",
    "input_A_len, input_B_len = 32, 32\n",
    "model = WideAndDeepModelFunc(input_A_len, input_B_len).get_model()\n",
    "#model.fit([input_A,input_B])"
   ]
  },
  {
   "cell_type": "markdown",
   "id": "2a5f03d6",
   "metadata": {},
   "source": [
    "# train 데이터 외에 다른 데이터가 개입되는 모델"
   ]
  },
  {
   "cell_type": "code",
   "execution_count": null,
   "id": "f5d71f5e",
   "metadata": {},
   "outputs": [],
   "source": [
    "class Modelname(tf.keras.Model):\n",
    "    def __init__(\n",
    "        self,\n",
    "        data,\n",
    "        units,\n",
    "        *args,\n",
    "        **kwargs,\n",
    "    ):\n",
    "        super(Modelname, self).__init__(*args, **kwargs)\n",
    "        \n",
    "        self.data = data\n",
    "        \n",
    "        self.custom_layer = keras.layers.Dense(units, activation=activation)\n",
    "        self.output_layer = keras.layers.Dense(1)\n",
    "\n",
    "    def call(self, x_train):\n",
    "        \n",
    "        x = self.customlayer(self.data)\n",
    "        embeddings = tf.gather(x, x_train)\n",
    "        return self.output_layer(embeddings)\n",
    "    \n",
    "model = Modelname(\n",
    "    data=data,\n",
    "    units=units\n",
    ")\n",
    "\n",
    "# Compile the model.\n",
    "model.compile(\n",
    "    optimizer=keras.optimizers.Adam(0.01),\n",
    "    loss=keras.losses.SparseCategoricalCrossentropy(from_logits=True),\n",
    "    metrics=[keras.metrics.SparseCategoricalAccuracy(name=\"acc\")],\n",
    ")\n",
    "\n",
    "# Fit the model.\n",
    "history = model.fit(\n",
    "    x=x_train,\n",
    "    y=y_train,\n",
    "    epochs=100,\n",
    "    batch_size=256,\n",
    "    validation_split=0.15,\n",
    ")\n",
    "        "
   ]
  },
  {
   "cell_type": "markdown",
   "id": "7f501aef",
   "metadata": {},
   "source": [
    "# 자주 쓰는 케라스 레이어\n",
    "- `keras.layers.Input(shape=(x,x),dtype='xx')`\n",
    "- `keras.layers.Embedding(input_dim, output_dim, input_length=none)(layer)`\n",
    "- `keras.layers.Flatten()(layer)`\n",
    "- `keras.layers.Multiply()([layer1,layer2])`: element-wise한 곱셈\n",
    "- `keras.Concatenate()([layer1,layer2])`\n",
    "- `keras.Dense(units, activation='relu')(layer)`\n",
    "- `keras.Dropout(rate)(layer)`\n",
    "- `keras.layers.BatchNormalization()(layer)`\n",
    "- `keras.layers.StringLookup(vocabulary)` vocabulary=['str1','str2','str3'] 을 쓰면 1,2,3으로 변환됨\n",
    "- `keras.layers.Normalization(axis=1)` layer.adapt(data)로 평균, 표준편차를 뽑아내고, layer(data)로 적용함.\n",
    "- `keras.layers.Embedding()`"
   ]
  },
  {
   "cell_type": "markdown",
   "id": "eee6287f",
   "metadata": {},
   "source": [
    "# Loss, Optimizer, Metrics\n",
    "\n",
    "## Loss\n",
    "- `loss: mean_squared_error, binary_crossentropy, categorical_crossentropy, sparse_categorical_crossentropy`\n",
    "\n",
    "<img src = \"images/loss.png\">"
   ]
  },
  {
   "cell_type": "markdown",
   "id": "53c63dde",
   "metadata": {},
   "source": [
    "## Optimizer\n",
    "- `optimizer: SGD, Adagrad, RMSprop, Adam, Adamax, Nadam 등` \n",
    "- `optimizer = keras.optimizers.SGD(learning_rate=0.001, momentum=0.9)`\n",
    "- `optimizer = keras.optimizers.SGD(learning_rate=0.001, momentum=0.9, nesterov=True)`\n",
    "- `optimizer = keras.optimizers.Adagrad(learning_rate=0.001)`\n",
    "- `optimizer = keras.optimizers.RMSprop(learning_rate=0.001, rho=0.9)`\n",
    "- `optimizer = keras.optimizers.Adam(learning_rate=0.001, beta_1=0.9, beta_2=0.999)`\n",
    "- `optimizer = keras.optimizers.Adamax(learning_rate=0.001, beta_1=0.9, beta_2=0.999)`\n",
    "- `optimizer = keras.optimizers.Nadam(learning_rate=0.001, beta_1=0.9, beta_2=0.999)`\n",
    "\n",
    "## Metrics\n",
    "- loss: 손실함수. 훈련셋과 연관. 훈련에 사용. \n",
    "- metric: 평가지표. 검증셋과 연관. 훈련 과정을 모니터링하는데 사용. \n",
    "- `metric: AUC, accuracy, precision, recall, binary_accuracy, categorical_accuracy, sparse_categorical_accuracy, top_k_categorical_accuracy, sparse_top_k_categorical_accuracy, 그 외 loss에 포함된 모든 지표`"
   ]
  },
  {
   "cell_type": "markdown",
   "id": "5ddbf624",
   "metadata": {},
   "source": [
    "# Transfer 모델링\n",
    "\n",
    "### transfer 대상이 되는 모델\n",
    "- `model_A = keras.models.load_model(\"my_model_A.h5\")`\n",
    "\n",
    "### 서로 영향받는 레이어를 공유하는 방식\n",
    "- `model_B_on_A = keras.models.Sequential(model_A.layers[:-1])`\n",
    "- `model_B_on_A.add(keras.layers.Dense(1, activation=\"sigmoid\"))`\n",
    "\n",
    "### 서로 영향받지 않게 레이어를 복사해서 공유하는 방식\n",
    "- `model_A_clone = keras.models.clone_model(model_A)#모델복사 keras.models.clone_model(model_A)`\n",
    "- `model_A_clone.set_weights(model_A.get_weights())#가중치복사 .set_weights(model_A.get_weights())` \n",
    "- `model_B_on_A = keras.models.Sequential(model_A_clone.layers[:-1])#레이어 공유`\n",
    "- `model_B_on_A.add(keras.layers.Dense(1, activation=\"sigmoid\"))#마지막 레이어 설정`\n",
    "\n",
    "### 처음n번의 epoch동안 재사용된 레이어의 학습 상태를 동결한다.--> 4ephoch동안 훈련"
   ]
  },
  {
   "cell_type": "code",
   "execution_count": null,
   "id": "fc9b5304",
   "metadata": {},
   "outputs": [],
   "source": [
    "for layer in model_B_on_A.layers[:-1]:\n",
    "    layer.trainable = False\n",
    "\n",
    "model_B_on_A.compile(loss=\"binary_crossentropy\",\n",
    "                     optimizer=keras.optimizers.SGD(learning_rate=1e-3),\n",
    "                     metrics=[\"accuracy\"])\n",
    "\n",
    "history = model_B_on_A.fit(X_train_B, y_train_B, epochs=4, validation_data=(X_valid_B, y_valid_B))"
   ]
  },
  {
   "cell_type": "markdown",
   "id": "6871a031",
   "metadata": {},
   "source": [
    "### 동결된 레이어의 학습 상태를 풀고, 남은 16epoch동안 훈련한다. "
   ]
  },
  {
   "cell_type": "code",
   "execution_count": null,
   "id": "566bfb60",
   "metadata": {},
   "outputs": [],
   "source": [
    "for layer in model_B_on_A.layers[:-1]:\n",
    "    layer.trainable = True\n",
    "\n",
    "model_B_on_A.compile(loss=\"binary_crossentropy\",\n",
    "                     optimizer=keras.optimizers.SGD(learning_rate=1e-3),\n",
    "                     metrics=[\"accuracy\"])\n",
    "\n",
    "history = model_B_on_A.fit(X_train_B, y_train_B, epochs=16, validation_data=(X_valid_B, y_valid_B))"
   ]
  },
  {
   "cell_type": "code",
   "execution_count": 3,
   "id": "6121c1d0",
   "metadata": {},
   "outputs": [
    {
     "name": "stdout",
     "output_type": "stream",
     "text": [
      "The tensorboard extension is already loaded. To reload it, use:\n",
      "  %reload_ext tensorboard\n"
     ]
    }
   ],
   "source": [
    "# 파이썬 ≥3.5 필수\n",
    "import sys\n",
    "assert sys.version_info >= (3, 5)\n",
    "\n",
    "# 사이킷런 ≥0.20 필수\n",
    "import sklearn\n",
    "assert sklearn.__version__ >= \"0.20\"\n",
    "\n",
    "# 텐서플로 ≥2.0 필수\n",
    "import tensorflow as tf\n",
    "from tensorflow import keras\n",
    "assert tf.__version__ >= \"2.0\"\n",
    "\n",
    "%load_ext tensorboard\n",
    "\n",
    "# 공통 모듈 임포트\n",
    "import numpy as np\n",
    "import os\n",
    "\n",
    "# 노트북 실행 결과를 동일하게 유지하기 위해\n",
    "np.random.seed(42)\n",
    "\n",
    "# 깔끔한 그래프 출력을 위해\n",
    "%matplotlib inline\n",
    "import matplotlib as mpl\n",
    "import matplotlib.pyplot as plt\n",
    "mpl.rc('axes', labelsize=14)\n",
    "mpl.rc('xtick', labelsize=12)\n",
    "mpl.rc('ytick', labelsize=12)\n",
    "\n",
    "# 그림을 저장할 위치\n",
    "PROJECT_ROOT_DIR = \".\"\n",
    "CHAPTER_ID = \"deep\"\n",
    "IMAGES_PATH = os.path.join(PROJECT_ROOT_DIR, \"images\", CHAPTER_ID)\n",
    "os.makedirs(IMAGES_PATH, exist_ok=True)\n",
    "\n",
    "def save_fig(fig_id, tight_layout=True, fig_extension=\"png\", resolution=300):\n",
    "    path = os.path.join(IMAGES_PATH, fig_id + \".\" + fig_extension)\n",
    "    print(\"그림 저장:\", fig_id)\n",
    "    if tight_layout:\n",
    "        plt.tight_layout()\n",
    "    plt.savefig(path, format=fig_extension, dpi=resolution)"
   ]
  },
  {
   "cell_type": "code",
   "execution_count": 9,
   "id": "86a6b81e",
   "metadata": {},
   "outputs": [],
   "source": [
    "# [name for name in dir(keras.optimizers) if not name.startswith(\"_\")]"
   ]
  },
  {
   "cell_type": "code",
   "execution_count": null,
   "id": "45b3fc74",
   "metadata": {},
   "outputs": [],
   "source": []
  }
 ],
 "metadata": {
  "interpreter": {
   "hash": "5812e37fbc42ae0019c075dcd625ea6adf837b197758e07cfdfe5b415c77a600"
  },
  "kernelspec": {
   "display_name": "Python 3 (ipykernel)",
   "language": "python",
   "name": "python3"
  },
  "language_info": {
   "codemirror_mode": {
    "name": "ipython",
    "version": 3
   },
   "file_extension": ".py",
   "mimetype": "text/x-python",
   "name": "python",
   "nbconvert_exporter": "python",
   "pygments_lexer": "ipython3",
   "version": "3.7.12"
  }
 },
 "nbformat": 4,
 "nbformat_minor": 5
}
