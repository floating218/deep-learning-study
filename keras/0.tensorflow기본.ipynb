{
 "cells": [
  {
   "cell_type": "code",
   "execution_count": 2,
   "metadata": {},
   "outputs": [],
   "source": [
    "import tensorflow as tf"
   ]
  },
  {
   "cell_type": "markdown",
   "metadata": {},
   "source": [
    "# 텐서플로를 사용하는 방법(tf.Tensor)\n",
    "\n",
    "- 평범한 텐서\n",
    "  - `tf.constant([[1,2,3],[4,5,6]])`\n",
    "- 계산\n",
    "  - `tf.square(t)` \n",
    "  - `t@tf.transpose(t)` \n",
    "  - `tf.add(t,t), tf.multiply(t,t), tf.square(t), tf.exp(t), tf.sqrt(t)`\n",
    "  - `tf.reduce_sum(t), tf.reduce_mean(t), tf.reduce_max(t), tf.math.log(t)`\n",
    "- 형식변경\n",
    "  - `tf.constant(a), t.numpy(), np.array(t), tf.square(a), np.square(t)`\n",
    "- 타입 변경\n",
    "  - `tf.constant(40., dtype=tf.float64)`\n",
    "- 문자열\n",
    "  - `tf.constant(b\"hello\")`\n",
    "  - `tf.constant(\"hello\")`\n",
    "  - `enc=tf.strings.unicode_encode(tf.constant([ord(c) for c in \"hello\"]),\"UTF-8\")`\n",
    "  - `dec=tf.strings.unicode_decode(enc, \"UTF-8\")`\n",
    "\n",
    "- 희소 텐서 `tf.SparseTensor()`\n",
    "- to_dense `tf.sparse.to_dense(t)` : 희소 텐서를 실제 텐서 형태로 리턴해줌 (0 채워서)"
   ]
  },
  {
   "cell_type": "code",
   "execution_count": 6,
   "metadata": {},
   "outputs": [
    {
     "name": "stdout",
     "output_type": "stream",
     "text": [
      "SparseTensor(indices=tf.Tensor(\n",
      "[[0 1]\n",
      " [1 0]\n",
      " [2 3]], shape=(3, 2), dtype=int64), values=tf.Tensor([1. 2. 3.], shape=(3,), dtype=float32), dense_shape=tf.Tensor([3 4], shape=(2,), dtype=int64))\n",
      "tf.Tensor(\n",
      "[[0. 1. 0. 0.]\n",
      " [2. 0. 0. 0.]\n",
      " [0. 0. 0. 3.]], shape=(3, 4), dtype=float32)\n"
     ]
    }
   ],
   "source": [
    "t = tf.SparseTensor(indices=[[0, 1], [1, 0], [2, 3]],\n",
    "                    values=[1., 2., 3.],\n",
    "                    dense_shape=[3, 4])\n",
    "print(t)\n",
    "print(tf.sparse.to_dense(t))"
   ]
  },
  {
   "cell_type": "markdown",
   "metadata": {},
   "source": [
    "- 집합 `tf.sets.union(tensor1,tensor2)`, `tf.sets.intersection(tensor1,tensor2)`, `tf.sets.difference(tensor1,tensor2)`\n",
    "  \n",
    "# 인덱싱 하는법\n",
    "- `...`와 `:`는 같은 효과이다."
   ]
  },
  {
   "cell_type": "code",
   "execution_count": 3,
   "metadata": {},
   "outputs": [
    {
     "name": "stdout",
     "output_type": "stream",
     "text": [
      "tf.Tensor(\n",
      "[[2 3]\n",
      " [5 6]], shape=(2, 2), dtype=int32)\n",
      "tf.Tensor(\n",
      "[[2 3]\n",
      " [5 6]], shape=(2, 2), dtype=int32)\n"
     ]
    }
   ],
   "source": [
    "t=tf.constant([[1,2,3],[4,5,6]])\n",
    "print(t[:,1:])\n",
    "print(t[...,1:])"
   ]
  },
  {
   "cell_type": "markdown",
   "metadata": {},
   "source": [
    "- 인덱싱할 때 `tf.newaxis` 넣으면 1차원을 늘릴수가 있다. "
   ]
  },
  {
   "cell_type": "code",
   "execution_count": 4,
   "metadata": {},
   "outputs": [
    {
     "data": {
      "text/plain": [
       "(TensorShape([3]), TensorShape([1, 3]))"
      ]
     },
     "execution_count": 4,
     "metadata": {},
     "output_type": "execute_result"
    }
   ],
   "source": [
    "t=tf.constant([[1,2,3],[4,5,6]])\n",
    "\n",
    "t[:,:].shape, t[:,:,tf.newaxis].shape #(2,3) -> (2,3,1)\n",
    "t[:,1].shape, t[:,1,tf.newaxis].shape #(2) -> (2,1)\n",
    "t[1,:].shape, t[tf.newaxis,1,:].shape #(3) -> (1,3)"
   ]
  },
  {
   "cell_type": "markdown",
   "metadata": {},
   "source": [
    "# tf.Variable\n",
    "- 변수에 해당하는 Variable은 변숫값을 함부러 바꾸지 못하고, v.assign을 통해 바꿀 수 있다. \n",
    "- 그 외 `v.assign_add()`, `v.assign_sub()` "
   ]
  },
  {
   "cell_type": "code",
   "execution_count": 5,
   "metadata": {},
   "outputs": [
    {
     "data": {
      "text/plain": [
       "<tf.Variable 'UnreadVariable' shape=(2, 3) dtype=float32, numpy=\n",
       "array([[ 2.,  4.,  6.],\n",
       "       [ 8., 10., 12.]], dtype=float32)>"
      ]
     },
     "execution_count": 5,
     "metadata": {},
     "output_type": "execute_result"
    }
   ],
   "source": [
    "v = tf.Variable([[1., 2., 3.], [4., 5., 6.]])\n",
    "v.assign(2*v)"
   ]
  }
 ],
 "metadata": {
  "kernelspec": {
   "display_name": "Python 3.9.6 64-bit",
   "language": "python",
   "name": "python3"
  },
  "language_info": {
   "codemirror_mode": {
    "name": "ipython",
    "version": 3
   },
   "file_extension": ".py",
   "mimetype": "text/x-python",
   "name": "python",
   "nbconvert_exporter": "python",
   "pygments_lexer": "ipython3",
   "version": "3.9.6"
  },
  "orig_nbformat": 4,
  "vscode": {
   "interpreter": {
    "hash": "4d97dfac72b5344da9592506e8ae21cbbdfd9437ca0e05329aac99300b906c4a"
   }
  }
 },
 "nbformat": 4,
 "nbformat_minor": 2
}
