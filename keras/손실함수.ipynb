{
 "cells": [
  {
   "cell_type": "markdown",
   "metadata": {},
   "source": [
    "<img src=\"../images/loss.png\">"
   ]
  },
  {
   "cell_type": "code",
   "execution_count": 4,
   "metadata": {},
   "outputs": [],
   "source": [
    "# 파이썬 ≥3.5 필수\n",
    "import sys\n",
    "assert sys.version_info >= (3, 5)\n",
    "\n",
    "# 사이킷런 ≥0.20 필수\n",
    "import sklearn\n",
    "assert sklearn.__version__ >= \"0.20\"\n",
    "\n",
    "# 텐서플로 ≥2.0 필수\n",
    "import tensorflow as tf\n",
    "assert tf.__version__ >= \"2.0\"\n",
    "\n",
    "from tensorflow import keras\n",
    "\n",
    "# 공통 모듈 임포트\n",
    "import numpy as np\n",
    "import os\n",
    "\n",
    "# 노트북 실행 결과를 동일하게 유지하기 위해\n",
    "np.random.seed(42)\n",
    "\n",
    "# 깔끔한 그래프 출력을 위해\n",
    "%matplotlib inline\n",
    "import matplotlib as mpl\n",
    "import matplotlib.pyplot as plt\n",
    "mpl.rc('axes', labelsize=14)\n",
    "mpl.rc('xtick', labelsize=12)\n",
    "mpl.rc('ytick', labelsize=12)\n",
    "\n",
    "# 그림을 저장할 위치\n",
    "PROJECT_ROOT_DIR = \".\"\n",
    "CHAPTER_ID = \"ann\"\n",
    "IMAGES_PATH = os.path.join(PROJECT_ROOT_DIR, \"images\", CHAPTER_ID)\n",
    "os.makedirs(IMAGES_PATH, exist_ok=True)\n",
    "\n",
    "def save_fig(fig_id, tight_layout=True, fig_extension=\"png\", resolution=300):\n",
    "    path = os.path.join(IMAGES_PATH, fig_id + \".\" + fig_extension)\n",
    "    print(\"그림 저장:\", fig_id)\n",
    "    if tight_layout:\n",
    "        plt.tight_layout()\n",
    "    plt.savefig(path, format=fig_extension, dpi=resolution)"
   ]
  },
  {
   "cell_type": "code",
   "execution_count": 44,
   "metadata": {},
   "outputs": [],
   "source": [
    "keras.backend.clear_session()  \n",
    "np.random.seed(42)\n",
    "tf.random.set_seed(42)  "
   ]
  },
  {
   "cell_type": "code",
   "execution_count": 53,
   "metadata": {},
   "outputs": [
    {
     "data": {
      "text/plain": [
       "(55000, 28, 28)"
      ]
     },
     "execution_count": 53,
     "metadata": {},
     "output_type": "execute_result"
    }
   ],
   "source": [
    "(X_train_full, y_train_full), (X_test, y_test) = keras.datasets.fashion_mnist.load_data()\n",
    "X_train_full = X_train_full.astype(np.float32) / 255\n",
    "X_test = X_test.astype(np.float32) / 255\n",
    "X_train, X_valid = X_train_full[:-5000], X_train_full[-5000:]\n",
    "y_train, y_valid = y_train_full[:-5000], y_train_full[-5000:]\n",
    "X_train.shape"
   ]
  },
  {
   "cell_type": "code",
   "execution_count": 20,
   "metadata": {},
   "outputs": [
    {
     "name": "stdout",
     "output_type": "stream",
     "text": [
      "Epoch 1/30\n",
      "32/32 [==============================] - 0s 901us/step - loss: 0.3811 - accuracy: 0.8760\n",
      "Epoch 2/30\n",
      "32/32 [==============================] - 0s 1ms/step - loss: 0.2570 - accuracy: 0.9010\n",
      "Epoch 3/30\n",
      "32/32 [==============================] - 0s 1ms/step - loss: 0.2039 - accuracy: 0.9290\n",
      "Epoch 4/30\n",
      "32/32 [==============================] - 0s 965us/step - loss: 0.1752 - accuracy: 0.9420\n",
      "Epoch 5/30\n",
      "32/32 [==============================] - 0s 997us/step - loss: 0.1554 - accuracy: 0.9460\n",
      "Epoch 6/30\n",
      "32/32 [==============================] - 0s 965us/step - loss: 0.1441 - accuracy: 0.9580\n",
      "Epoch 7/30\n",
      "32/32 [==============================] - 0s 965us/step - loss: 0.1337 - accuracy: 0.9560\n",
      "Epoch 8/30\n",
      "32/32 [==============================] - 0s 965us/step - loss: 0.1270 - accuracy: 0.9550\n",
      "Epoch 9/30\n",
      "32/32 [==============================] - 0s 965us/step - loss: 0.1205 - accuracy: 0.9560\n",
      "Epoch 10/30\n",
      "32/32 [==============================] - 0s 933us/step - loss: 0.1174 - accuracy: 0.9620\n",
      "Epoch 11/30\n",
      "32/32 [==============================] - 0s 997us/step - loss: 0.1135 - accuracy: 0.9590\n",
      "Epoch 12/30\n",
      "32/32 [==============================] - 0s 965us/step - loss: 0.1120 - accuracy: 0.9610\n",
      "Epoch 13/30\n",
      "32/32 [==============================] - 0s 901us/step - loss: 0.1090 - accuracy: 0.9580\n",
      "Epoch 14/30\n",
      "32/32 [==============================] - 0s 1ms/step - loss: 0.1066 - accuracy: 0.9590\n",
      "Epoch 15/30\n",
      "32/32 [==============================] - 0s 997us/step - loss: 0.1045 - accuracy: 0.9630\n",
      "Epoch 16/30\n",
      "32/32 [==============================] - 0s 1ms/step - loss: 0.1024 - accuracy: 0.9620\n",
      "Epoch 17/30\n",
      "32/32 [==============================] - 0s 965us/step - loss: 0.1018 - accuracy: 0.9640\n",
      "Epoch 18/30\n",
      "32/32 [==============================] - 0s 997us/step - loss: 0.0985 - accuracy: 0.9610\n",
      "Epoch 19/30\n",
      "32/32 [==============================] - 0s 869us/step - loss: 0.0964 - accuracy: 0.9630\n",
      "Epoch 20/30\n",
      "32/32 [==============================] - 0s 997us/step - loss: 0.0953 - accuracy: 0.9630\n",
      "Epoch 21/30\n",
      "32/32 [==============================] - 0s 933us/step - loss: 0.0928 - accuracy: 0.9650\n",
      "Epoch 22/30\n",
      "32/32 [==============================] - 0s 933us/step - loss: 0.0929 - accuracy: 0.9630\n",
      "Epoch 23/30\n",
      "32/32 [==============================] - 0s 965us/step - loss: 0.0904 - accuracy: 0.9670\n",
      "Epoch 24/30\n",
      "32/32 [==============================] - 0s 933us/step - loss: 0.0904 - accuracy: 0.9640\n",
      "Epoch 25/30\n",
      "32/32 [==============================] - 0s 997us/step - loss: 0.0886 - accuracy: 0.9640\n",
      "Epoch 26/30\n",
      "32/32 [==============================] - 0s 901us/step - loss: 0.0874 - accuracy: 0.9640\n",
      "Epoch 27/30\n",
      "32/32 [==============================] - 0s 997us/step - loss: 0.0859 - accuracy: 0.9660\n",
      "Epoch 28/30\n",
      "32/32 [==============================] - 0s 933us/step - loss: 0.0844 - accuracy: 0.9640\n",
      "Epoch 29/30\n",
      "32/32 [==============================] - 0s 965us/step - loss: 0.0835 - accuracy: 0.9660\n",
      "Epoch 30/30\n",
      "32/32 [==============================] - 0s 901us/step - loss: 0.0815 - accuracy: 0.9670\n"
     ]
    },
    {
     "data": {
      "text/plain": [
       "<keras.callbacks.History at 0x25f99574850>"
      ]
     },
     "execution_count": 20,
     "metadata": {},
     "output_type": "execute_result"
    }
   ],
   "source": [
    "#binary classification\n",
    "\n",
    "#데이터 \n",
    "X_train_sample = X_train[:1000]\n",
    "y_train_sample = (y_train[:1000]==0).astype(np.float32)\n",
    "\n",
    "model = keras.models.Sequential([\n",
    "    keras.layers.Flatten(input_shape=[28, 28]),\n",
    "    keras.layers.Dense(300, activation=\"relu\"),\n",
    "    keras.layers.Dense(100, activation=\"relu\"),\n",
    "    keras.layers.Dense(1, activation=\"sigmoid\")\n",
    "])\n",
    "\n",
    "model.compile(loss=\"binary_crossentropy\", optimizer=\"sgd\", metrics=[\"accuracy\"])\n",
    "model.fit(X_train_sample, y_train_sample, epochs=30)"
   ]
  },
  {
   "cell_type": "code",
   "execution_count": 69,
   "metadata": {},
   "outputs": [],
   "source": [
    "from sklearn.preprocessing import LabelEncoder\n",
    "cate = tf.constant([\"first\",\"second\",\"first\",\"third\"],dtype=tf.string)\n",
    "cate_to_idx = LabelEncoder().fit(cate).transform(cate) #array([0, 1, 0, 2])\n",
    "\n",
    "from sklearn.preprocessing import OneHotEncoder\n",
    "cate_to_onehot = OneHotEncoder(sparse=False).fit(cate_to_idx.reshape(-1,1)).transform(cate_to_idx.reshape(-1,1))\n",
    "\n",
    "from tensorflow.keras.utils import to_categorical\n",
    "cate_to_onehot = to_categorical(cate_to_idx)\n"
   ]
  },
  {
   "cell_type": "code",
   "execution_count": 47,
   "metadata": {},
   "outputs": [
    {
     "name": "stdout",
     "output_type": "stream",
     "text": [
      "Epoch 1/10\n",
      "32/32 [==============================] - 0s 965us/step - loss: 2.1321 - accuracy: 0.2620\n",
      "Epoch 2/10\n",
      "32/32 [==============================] - 0s 1ms/step - loss: 1.6848 - accuracy: 0.5540\n",
      "Epoch 3/10\n",
      "32/32 [==============================] - 0s 1ms/step - loss: 1.3956 - accuracy: 0.6120\n",
      "Epoch 4/10\n",
      "32/32 [==============================] - 0s 933us/step - loss: 1.2023 - accuracy: 0.6470\n",
      "Epoch 5/10\n",
      "32/32 [==============================] - 0s 1ms/step - loss: 1.0757 - accuracy: 0.6820\n",
      "Epoch 6/10\n",
      "32/32 [==============================] - 0s 1ms/step - loss: 0.9902 - accuracy: 0.7030\n",
      "Epoch 7/10\n",
      "32/32 [==============================] - 0s 1ms/step - loss: 0.9245 - accuracy: 0.7120\n",
      "Epoch 8/10\n",
      "32/32 [==============================] - ETA: 0s - loss: 0.5491 - accuracy: 0.87 - 0s 997us/step - loss: 0.8689 - accuracy: 0.7190\n",
      "Epoch 9/10\n",
      "32/32 [==============================] - 0s 997us/step - loss: 0.8225 - accuracy: 0.7460\n",
      "Epoch 10/10\n",
      "32/32 [==============================] - 0s 1ms/step - loss: 0.7847 - accuracy: 0.7500\n"
     ]
    },
    {
     "data": {
      "text/plain": [
       "<keras.callbacks.History at 0x25f9c2f4880>"
      ]
     },
     "execution_count": 47,
     "metadata": {},
     "output_type": "execute_result"
    }
   ],
   "source": [
    "# multi class\n",
    "\n",
    "from sklearn.preprocessing import LabelEncoder\n",
    "from sklearn.preprocessing import OneHotEncoder\n",
    "from tensorflow.keras.utils import to_categorical\n",
    "\n",
    "\n",
    "#데이터 \n",
    "X_train_sample = X_train[:1000] #(?, 28, 28)\n",
    "y_train_sample = y_train[:1000].reshape(-1,1)\n",
    "y_train_sample = OneHotEncoder(sparse=False).fit(y_train_sample).transform(y_train_sample) #(?, 10)\n",
    "#y_train_sample = to_categorical(y_train_sample) #(?, 10)\n",
    "\n",
    "\n",
    "model = keras.models.Sequential([\n",
    "    keras.layers.Flatten(input_shape=[28, 28]),\n",
    "    keras.layers.Dense(300, activation=\"relu\"),\n",
    "    keras.layers.Dense(100, activation=\"relu\"),\n",
    "    keras.layers.Dense(10, activation=\"softmax\")\n",
    "])\n",
    "\n",
    "model.compile(loss=\"categorical_crossentropy\", optimizer=\"sgd\", metrics=[\"accuracy\"])\n",
    "model.fit(X_train_sample, y_train_sample, epochs=10)"
   ]
  },
  {
   "cell_type": "code",
   "execution_count": 71,
   "metadata": {},
   "outputs": [
    {
     "data": {
      "text/plain": [
       "(array([[0, 0, 0, 0],\n",
       "        [1, 1, 1, 1],\n",
       "        [1, 1, 0, 1],\n",
       "        ...,\n",
       "        [0, 0, 0, 0],\n",
       "        [0, 0, 0, 0],\n",
       "        [1, 0, 0, 1]]),\n",
       " (1000, 4))"
      ]
     },
     "execution_count": 71,
     "metadata": {},
     "output_type": "execute_result"
    }
   ],
   "source": [
    "# multi label\n",
    "\n",
    "from sklearn.datasets import make_multilabel_classification\n",
    "\n",
    "X_train_sample, y_train_sample = make_multilabel_classification(n_samples=1000, n_features=10, n_classes=4, random_state=1)\n",
    "#X: (?,10) y: (?,4)\n",
    "\n",
    "# define the model\n",
    "n_inputs = 10\n",
    "n_outputs = 4\n",
    "model = keras.models.Sequential()\n",
    "model.add(keras.layers.Dense(20, input_dim=n_inputs, kernel_initializer='he_uniform', activation='relu'))\n",
    "model.add(keras.layers.Dense(n_outputs, activation='softmax'))\n",
    "model.compile(loss='categorical_crossentropy', optimizer='adam', metrics='accuracy')\n",
    "model.fit(X_train_sample, y_train_sample, epochs=10)"
   ]
  },
  {
   "cell_type": "code",
   "execution_count": 83,
   "metadata": {},
   "outputs": [
    {
     "name": "stdout",
     "output_type": "stream",
     "text": [
      "Epoch 1/10\n",
      "404/404 [==============================] - 1s 521us/step - loss: 143.1203 - mae: 8.7110\n",
      "Epoch 2/10\n",
      "404/404 [==============================] - 0s 499us/step - loss: 95.7230 - mae: 7.2218\n",
      "Epoch 3/10\n",
      "404/404 [==============================] - 0s 517us/step - loss: 76.5738 - mae: 6.1153\n",
      "Epoch 4/10\n",
      "404/404 [==============================] - 0s 520us/step - loss: 70.0599 - mae: 6.0921\n",
      "Epoch 5/10\n",
      "404/404 [==============================] - 0s 517us/step - loss: 61.2918 - mae: 5.7645\n",
      "Epoch 6/10\n",
      "404/404 [==============================] - 0s 515us/step - loss: 53.9620 - mae: 5.2910\n",
      "Epoch 7/10\n",
      "404/404 [==============================] - 0s 525us/step - loss: 51.2983 - mae: 5.1548\n",
      "Epoch 8/10\n",
      "404/404 [==============================] - 0s 521us/step - loss: 48.8601 - mae: 5.1602\n",
      "Epoch 9/10\n",
      "404/404 [==============================] - 0s 510us/step - loss: 46.2248 - mae: 4.9891\n",
      "Epoch 10/10\n",
      "404/404 [==============================] - 0s 507us/step - loss: 46.1708 - mae: 4.8895\n"
     ]
    }
   ],
   "source": [
    "#regression\n",
    "\n",
    "from keras import models, layers\n",
    "from keras.datasets import boston_housing\n",
    "\n",
    "(train_data, train_targets), (test_data, test_targets) = boston_housing.load_data()\n",
    "train_data.shape, train_targets.shape, train_targets[:10] # array([15.2, 42.3, 50. , 21.1, 17.7, 18.5, 11.3, 15.6, 15.6, 14.4]))\n",
    "\n",
    "model = models.Sequential()\n",
    "model.add(layers.Dense(64, activation = 'relu', input_shape=(train_data.shape[1], )))\n",
    "model.add(layers.Dense(64, activation='relu'))\n",
    "model.add(layers.Dense(1))\n",
    "model.compile(optimizer='rmsprop', loss='mse', metrics=['mae'])\n",
    "history = model.fit(train_data, train_targets, epochs = 10, batch_size=1)"
   ]
  },
  {
   "cell_type": "code",
   "execution_count": null,
   "metadata": {},
   "outputs": [],
   "source": []
  }
 ],
 "metadata": {
  "interpreter": {
   "hash": "5812e37fbc42ae0019c075dcd625ea6adf837b197758e07cfdfe5b415c77a600"
  },
  "kernelspec": {
   "display_name": "Python 3.9.6 64-bit",
   "language": "python",
   "name": "python3"
  },
  "language_info": {
   "codemirror_mode": {
    "name": "ipython",
    "version": 3
   },
   "file_extension": ".py",
   "mimetype": "text/x-python",
   "name": "python",
   "nbconvert_exporter": "python",
   "pygments_lexer": "ipython3",
   "version": "3.9.6"
  },
  "orig_nbformat": 4
 },
 "nbformat": 4,
 "nbformat_minor": 2
}
